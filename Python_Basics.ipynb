{
  "nbformat": 4,
  "nbformat_minor": 0,
  "metadata": {
    "colab": {
      "provenance": [],
      "authorship_tag": "ABX9TyPVmSfcK0EZMwwGGhiwcNbC",
      "include_colab_link": true
    },
    "kernelspec": {
      "name": "python3",
      "display_name": "Python 3"
    },
    "language_info": {
      "name": "python"
    }
  },
  "cells": [
    {
      "cell_type": "markdown",
      "metadata": {
        "id": "view-in-github",
        "colab_type": "text"
      },
      "source": [
        "<a href=\"https://colab.research.google.com/github/diwakarankita/Pwskills-practice-assignment-/blob/main/Python_Basics.ipynb\" target=\"_parent\"><img src=\"https://colab.research.google.com/assets/colab-badge.svg\" alt=\"Open In Colab\"/></a>"
      ]
    },
    {
      "cell_type": "markdown",
      "source": [],
      "metadata": {
        "id": "k37M0Yax_nfS"
      }
    },
    {
      "cell_type": "markdown",
      "source": [
        "#Phyton Basics"
      ],
      "metadata": {
        "id": "hX3lljz-_pe1"
      }
    },
    {
      "cell_type": "markdown",
      "source": [
        "1. Explain the key features of python that make it popular choice for programming\n",
        "\n",
        "a. Easy to use\n",
        "   - python is compact and easy to use object oriented language with very simple Syntex rules.\n",
        "\n",
        "b. Expressive language\n",
        "  - python is an express your language-fewer lines of code and simpler syntax as compared to the other popular programming languages like c++, Java etc.\n",
        "\n",
        "c. Interpreted language\n",
        "   - python is an interpreted language common not a compiled language.\n",
        "\n",
        "d. It's completeness\n",
        "   - for most types of required functionality is available through various modules of python standard library. Does, it is also called-python follows  \"Batteries Include\" philosophy.\n",
        "\n",
        "e. Cross-platform language\n",
        "   - python can run equally well on variety of platforms-windows, linux/unics, Macintosh, supercomputers,smartphones etc.\n",
        "\n",
        "f. Free and open source\n",
        "   - python language is freely available along with its source-code.\n",
        "\n",
        "g. Variety of uses / Applications\n",
        "   - python has evolved into a powerful, complete and useful language over these years. These days python is being used in many diverse fields / application."
      ],
      "metadata": {
        "id": "IrjgPybw8u26"
      }
    },
    {
      "cell_type": "markdown",
      "source": [],
      "metadata": {
        "id": "Qkwvu7mg87O2"
      }
    },
    {
      "cell_type": "markdown",
      "source": [
        "2. Describe the role of predefined keywords and python and provide example of how they are used in a program\n",
        "\n",
        "- In python keywords are special words that has predefined meanings and functionality. They are part of python's syntax and cannot be used as  variable names, function names, or identifiers. This keywords define the structure and behaviour of python programs.\n",
        "\n",
        "- Python has 35 predefine keywords (as of python 3.11)and they are used for:\n",
        "- Control flow ( example: if, else, for, while)\n",
        "- Function and class definitions (example: def, class, return)\n",
        "-Logical operations (example: and, or, not)\n",
        "- Exception handling ( example: try, except, finally)\n",
        "-Variable scoping ( example: global, nonlocal)"
      ],
      "metadata": {
        "id": "RtdqlYu_ATHR"
      }
    },
    {
      "cell_type": "markdown",
      "source": [
        "1. Boolean values ( True, False, None)\n",
        "   - True and False =Boolean literals\n",
        "   - None = represent absence of value."
      ],
      "metadata": {
        "id": "oRoV7Z8_Dbin"
      }
    },
    {
      "cell_type": "code",
      "source": [
        "age = 25\n",
        "if age < 18:\n",
        "    print (\"Minor\")\n",
        "elif age < 65:\n",
        "    print(\"Adult\")\n",
        "else:\n",
        "    print (\"Senior\")"
      ],
      "metadata": {
        "colab": {
          "base_uri": "https://localhost:8080/"
        },
        "id": "eBT60wzRIOaa",
        "outputId": "955d82be-fb3a-4c10-bcf0-a1dd6f3e0737"
      },
      "execution_count": null,
      "outputs": [
        {
          "output_type": "stream",
          "name": "stdout",
          "text": [
            "Adult\n"
          ]
        }
      ]
    },
    {
      "cell_type": "code",
      "source": [
        "x = 10\n",
        "\n",
        "def outer():\n",
        "    y = 20\n",
        "    def inner():\n",
        "        nonlocal y\n",
        "        global x\n",
        "        y += 5\n",
        "        x += 5\n",
        "    inner()\n",
        "    print(\"Nonlocal y:\",y)\n",
        "\n",
        "outer()\n",
        "print(\"Global x:\",x)"
      ],
      "metadata": {
        "colab": {
          "base_uri": "https://localhost:8080/"
        },
        "id": "y-ZNUCNgIzCN",
        "outputId": "27308e0a-0bc5-423a-b8f6-1fbbf512aa92"
      },
      "execution_count": null,
      "outputs": [
        {
          "output_type": "stream",
          "name": "stdout",
          "text": [
            "Nonlocal y: 25\n",
            "Global x: 15\n"
          ]
        }
      ]
    },
    {
      "cell_type": "code",
      "source": [
        "for i in range (5):\n",
        "    if i == 2:\n",
        "        continue\n",
        "    if i == 4:\n",
        "        break\n",
        "    print (i)\n",
        "\n",
        "print (\"\\nWhile loop example:\")\n",
        "count = 0\n",
        "while count < 3:\n",
        "    print (count)\n",
        "    count += 1"
      ],
      "metadata": {
        "colab": {
          "base_uri": "https://localhost:8080/"
        },
        "id": "WeU0tp-BMLX5",
        "outputId": "1956933f-6005-4d66-d56c-8ed37b3011bd"
      },
      "execution_count": null,
      "outputs": [
        {
          "output_type": "stream",
          "name": "stdout",
          "text": [
            "0\n",
            "1\n",
            "3\n",
            "\n",
            "While loop example:\n",
            "0\n",
            "1\n",
            "2\n"
          ]
        }
      ]
    },
    {
      "cell_type": "markdown",
      "source": [
        "3. Compare and contrast mutable and immutable object in python with example\n",
        "\n",
        "- in python objects are categorised as mutable (can be changed after creation) or (immutable cannot be changed after creation).\n",
        "\n",
        "a. Immutable objects\n",
        "   - Cannot be modify after creation.\n",
        "   - Any operation that appears to be modified them creates a new object.\n",
        "   - Examples:\n",
        "    - int, float, bool\n",
        "    - str( strings)\n",
        "    - tuple\n",
        "    - frozenset"
      ],
      "metadata": {
        "id": "92UQMKZ2Ni7V"
      }
    },
    {
      "cell_type": "code",
      "source": [
        "s = \"hello\"\n",
        "print(s)       # strings cannot be changed\n",
        "s[0] = 'H'"
      ],
      "metadata": {
        "colab": {
          "base_uri": "https://localhost:8080/",
          "height": 297
        },
        "id": "_Ec1MUxKVb3K",
        "outputId": "a02a46a5-b0c0-4b81-f09c-9b8052a252a7"
      },
      "execution_count": null,
      "outputs": [
        {
          "output_type": "stream",
          "name": "stdout",
          "text": [
            "hello\n"
          ]
        },
        {
          "output_type": "error",
          "ename": "TypeError",
          "evalue": "'str' object does not support item assignment",
          "traceback": [
            "\u001b[0;31m---------------------------------------------------------------------------\u001b[0m",
            "\u001b[0;31mTypeError\u001b[0m                                 Traceback (most recent call last)",
            "\u001b[0;32m<ipython-input-19-2372f3f102d8>\u001b[0m in \u001b[0;36m<cell line: 0>\u001b[0;34m()\u001b[0m\n\u001b[1;32m      1\u001b[0m \u001b[0ms\u001b[0m \u001b[0;34m=\u001b[0m \u001b[0;34m\"hello\"\u001b[0m\u001b[0;34m\u001b[0m\u001b[0;34m\u001b[0m\u001b[0m\n\u001b[1;32m      2\u001b[0m \u001b[0mprint\u001b[0m\u001b[0;34m(\u001b[0m\u001b[0ms\u001b[0m\u001b[0;34m)\u001b[0m\u001b[0;34m\u001b[0m\u001b[0;34m\u001b[0m\u001b[0m\n\u001b[0;32m----> 3\u001b[0;31m \u001b[0ms\u001b[0m\u001b[0;34m[\u001b[0m\u001b[0;36m0\u001b[0m\u001b[0;34m]\u001b[0m \u001b[0;34m=\u001b[0m \u001b[0;34m'H'\u001b[0m\u001b[0;34m\u001b[0m\u001b[0;34m\u001b[0m\u001b[0m\n\u001b[0m",
            "\u001b[0;31mTypeError\u001b[0m: 'str' object does not support item assignment"
          ]
        }
      ]
    },
    {
      "cell_type": "code",
      "source": [
        "t = (1, 2, 3).      # tuples are immutable it cannot be modify\n",
        "t[0] = 10"
      ],
      "metadata": {
        "colab": {
          "base_uri": "https://localhost:8080/",
          "height": 263
        },
        "id": "Fm1pcbsTXgHd",
        "outputId": "ece61273-4aea-42f3-8dbd-95b1842b83b0"
      },
      "execution_count": null,
      "outputs": [
        {
          "output_type": "error",
          "ename": "TypeError",
          "evalue": "'tuple' object does not support item assignment",
          "traceback": [
            "\u001b[0;31m---------------------------------------------------------------------------\u001b[0m",
            "\u001b[0;31mTypeError\u001b[0m                                 Traceback (most recent call last)",
            "\u001b[0;32m<ipython-input-26-28745da4ecf5>\u001b[0m in \u001b[0;36m<cell line: 0>\u001b[0;34m()\u001b[0m\n\u001b[1;32m      1\u001b[0m \u001b[0mt\u001b[0m \u001b[0;34m=\u001b[0m \u001b[0;34m(\u001b[0m\u001b[0;36m1\u001b[0m\u001b[0;34m,\u001b[0m \u001b[0;36m2\u001b[0m\u001b[0;34m,\u001b[0m \u001b[0;36m3\u001b[0m\u001b[0;34m)\u001b[0m\u001b[0;34m\u001b[0m\u001b[0;34m\u001b[0m\u001b[0m\n\u001b[0;32m----> 2\u001b[0;31m \u001b[0mt\u001b[0m\u001b[0;34m[\u001b[0m\u001b[0;36m0\u001b[0m\u001b[0;34m]\u001b[0m \u001b[0;34m=\u001b[0m \u001b[0;36m10\u001b[0m\u001b[0;34m\u001b[0m\u001b[0;34m\u001b[0m\u001b[0m\n\u001b[0m",
            "\u001b[0;31mTypeError\u001b[0m: 'tuple' object does not support item assignment"
          ]
        }
      ]
    },
    {
      "cell_type": "markdown",
      "source": [
        "b. Mutable objects\n",
        "- can be modified after creation.\n",
        "-changes affect the same object in memory.\n",
        "- Examples:\n",
        "  - list\n",
        "  - dict\n",
        "  - set\n",
        "  - User-defined classes"
      ],
      "metadata": {
        "id": "E3NwVQ3fYGjE"
      }
    },
    {
      "cell_type": "code",
      "source": [
        "list = [1, 2, 3]\n",
        "print(list[0])"
      ],
      "metadata": {
        "colab": {
          "base_uri": "https://localhost:8080/"
        },
        "id": "RskOWXlFZGFV",
        "outputId": "a7f7c9d2-2ed0-401a-ad85-3a265bf0aade"
      },
      "execution_count": null,
      "outputs": [
        {
          "output_type": "stream",
          "name": "stdout",
          "text": [
            "1\n"
          ]
        }
      ]
    },
    {
      "cell_type": "code",
      "source": [
        "list[0] = 10.     # list are mutable it can be modify\n",
        "print(list)"
      ],
      "metadata": {
        "colab": {
          "base_uri": "https://localhost:8080/"
        },
        "id": "fybKxJ09Zz7H",
        "outputId": "fd358e7f-bcd2-4295-dc96-b61a9b6ea250"
      },
      "execution_count": null,
      "outputs": [
        {
          "output_type": "stream",
          "name": "stdout",
          "text": [
            "[10, 2, 3]\n"
          ]
        }
      ]
    },
    {
      "cell_type": "code",
      "source": [
        "d = {'a':1,'b':3}\n",
        "print(d)"
      ],
      "metadata": {
        "colab": {
          "base_uri": "https://localhost:8080/"
        },
        "id": "ANCCHn85aSI0",
        "outputId": "042dd27a-1783-45b2-b217-25542b2a4902"
      },
      "execution_count": null,
      "outputs": [
        {
          "output_type": "stream",
          "name": "stdout",
          "text": [
            "{'a': 1, 'b': 3}\n"
          ]
        }
      ]
    },
    {
      "cell_type": "code",
      "source": [
        "d['c'] = 3\n",
        "print(d) # dictionary can be modify"
      ],
      "metadata": {
        "colab": {
          "base_uri": "https://localhost:8080/"
        },
        "id": "AHKu-FPPbL0C",
        "outputId": "4d9c5ac2-717e-4c03-a908-4f085fe8e619"
      },
      "execution_count": null,
      "outputs": [
        {
          "output_type": "stream",
          "name": "stdout",
          "text": [
            "{'a': 1, 'b': 3, 'c': 3}\n"
          ]
        }
      ]
    },
    {
      "cell_type": "code",
      "source": [
        "s = {1, 2, 3}\n",
        "print(s)"
      ],
      "metadata": {
        "colab": {
          "base_uri": "https://localhost:8080/"
        },
        "id": "ntth3D_ZbbfA",
        "outputId": "22d3957b-13fd-4f6e-9847-0debea069ad1"
      },
      "execution_count": null,
      "outputs": [
        {
          "output_type": "stream",
          "name": "stdout",
          "text": [
            "{1, 2, 3}\n"
          ]
        }
      ]
    },
    {
      "cell_type": "code",
      "source": [
        "s.add(20)\n",
        "print (s) # sets are mutable object."
      ],
      "metadata": {
        "colab": {
          "base_uri": "https://localhost:8080/"
        },
        "id": "wL2TmrihbvgR",
        "outputId": "0ead015b-d90b-43d8-b32f-f145d479bd15"
      },
      "execution_count": null,
      "outputs": [
        {
          "output_type": "stream",
          "name": "stdout",
          "text": [
            "{1, 2, 3, 20}\n"
          ]
        }
      ]
    },
    {
      "cell_type": "markdown",
      "source": [
        "4. Discuss the different types of operators in python and provide example of how they are used\n",
        "\n",
        "-   The operation being carried out on data, are represented by operators. The symbols that trigger the operation / action on data are called operators. The operations are represented by operators and the object of the operation are referred to as operands.\n",
        "\n",
        "-  python's rich side of operators comprises of these type of operators:\n",
        "  - Arithmetic operators\n",
        "  - Relational operators\n",
        "  - Identity operators\n",
        "  - Logical operators\n",
        "  - Bitwise operators\n",
        "  - Membership operators"
      ],
      "metadata": {
        "id": "BeqVmvL7d3AF"
      }
    },
    {
      "cell_type": "markdown",
      "source": [
        "Arithmetic operators\n",
        "\n",
        "- To do arithmetic, python uses arithmetic operators. Python provides operators for basic calculation as given below:\n",
        "\n",
        " - addition(+)\n",
        " - multiplication(*)\n",
        " - foor division (//)\n",
        " - exponentiation(**)\n",
        " - subtraction (-)\n",
        " - division (/)\n",
        " - remainder (%)\n",
        "\n",
        "Each of these operator is a binary operator that is, at requires two values (operands) and to calculate a final answer"
      ],
      "metadata": {
        "id": "AD4fpPe_gQvg"
      }
    },
    {
      "cell_type": "markdown",
      "source": [
        "Unary Operators\n",
        "- Unary+\n",
        "- The operators unary '+' precedes an operand. The operand( the value on which the operator operates( of the unary+ operator must have arithmetic type and the result is the value of the argument.\n",
        "  - Example:\n",
        "  - if a = 5 then + a means 5.\n",
        "  - if a = 0 then + a means 0.\n",
        "  - if a = -4 then + a means -4.\n",
        "\n",
        "- Unary-\n",
        "- The operator unary- precedes an operand. The operand of the unary-operator must have arithmetic type and the result is the negation of its operand's value.\n",
        "  - Example:\n",
        "  - if a = 5 then -a means -5.\n",
        "  - if a = 0 then -a means 0.\n",
        "  - if a = -4 then -a means 4.\n",
        "This operator rivers the sign of the operand's value."
      ],
      "metadata": {
        "id": "_tkQFzYqh0IX"
      }
    },
    {
      "cell_type": "markdown",
      "source": [
        "Binary Operators\n",
        "\n",
        "- operators that act upon two operands are referred to as binary operators. The operands of a binary operator are distinguished as the left or right operand full stop together, the operator and its operands constitute and expression.\n",
        "\n",
        "a. Additional operator +\n",
        "   - the Arithmetic binary operator+ ads value of its operands and the result is the sum of the values of its to operands.\n",
        "\n",
        "- Examples\n",
        "    - 4 + 20                             result in 24\n",
        "    - a + 5 ( where a= 2)                result in 7\n",
        "    - a + b ( where a = 4, b = 6)        result in 10\n",
        "For addition operator + operands maybe numbers of types.\n",
        "\n",
        "b. Subtraction operator -\n",
        "\n",
        "- The - operator subtract the second operand from the first.\n",
        "- Example\n",
        "   - 14 - 3  evaluates to 11\n",
        "   - a - b( where a = 7, b = 5 evaluates to 2\n",
        "   - x - 3 ( where x = -1) evaluates to -4\n",
        "The operants may be number of types.\n",
        "\n",
        "c. Multiplication operator *\n",
        "- The * operator multiply the value of operands.\n",
        "- Example:\n",
        "  - 3*4 evaluates to 12\n",
        "  - b*4(where b=6) evaluates to 24\n",
        "  - p*2(where p = -5) evaluates to -10\n",
        "  - a*c(where a = 3, c = 5 evaluates to 15\n",
        "The operants may be of integer or floating point number types.\n",
        "Python also offers * as a replication operator when used with strings.\n",
        "\n",
        "d. Division operator/\n",
        "   -The / operator in python 3.x divide 8 first operand by the second operand and always return the result as a float value.\n",
        "- Example:\n",
        "  - 4/2 evaluates to 2.0\n",
        "  - 100/10 evaluates to 10.0\n",
        "  - 7/2.5 evaluates to 2.8\n",
        "  - 100/32 evaluates to 3.125"
      ],
      "metadata": {
        "id": "35dgH4rVptck"
      }
    },
    {
      "cell_type": "code",
      "source": [
        "A, B, C, D = 9.2, 2.0, 4, 21\n",
        "print ((A/4),(A//4))\n",
        "print (B**C)\n",
        "print (D//B)\n",
        "print (A%C)"
      ],
      "metadata": {
        "colab": {
          "base_uri": "https://localhost:8080/"
        },
        "id": "WpNdp6qFxC8E",
        "outputId": "9bfe24b2-1936-4f00-97cf-b89d188af065"
      },
      "execution_count": null,
      "outputs": [
        {
          "output_type": "stream",
          "name": "stdout",
          "text": [
            "2.3 2.0\n",
            "16.0\n",
            "10.0\n",
            "1.1999999999999993\n"
          ]
        }
      ]
    },
    {
      "cell_type": "code",
      "source": [
        "Radius = 3.75\n",
        "Area = 3.14159*Radius**2\n",
        "print(Area,'sq. metre')"
      ],
      "metadata": {
        "colab": {
          "base_uri": "https://localhost:8080/"
        },
        "id": "IaLk9q9Px0I_",
        "outputId": "2c3e95de-46bf-46a4-d1ab-f6e963131c40"
      },
      "execution_count": null,
      "outputs": [
        {
          "output_type": "stream",
          "name": "stdout",
          "text": [
            "44.178609375 sq. metre\n"
          ]
        }
      ]
    },
    {
      "cell_type": "markdown",
      "source": [
        "Relational operators\n",
        "- in the term relational operator, relation refers to the relationship that values can have with one another. Thus, the relational operators determine the relation among different operands. Python provides 6 relation operators for comparing values. If the comparison is true, the relation expression result into the Boolean value true and to boolean value false, if the comparison is false.\n",
        "\n",
        "- The six relational operators are:\n",
        "  - less than\n",
        "  - greater than  \n",
        "  - less than or equal to\n",
        "  - greater than or equal to\n",
        "  - equal to\n",
        "  - not equal to"
      ],
      "metadata": {
        "id": "x3ovi5ob98kH"
      }
    },
    {
      "cell_type": "code",
      "source": [
        "# Examples:\n",
        "2 == 2"
      ],
      "metadata": {
        "colab": {
          "base_uri": "https://localhost:8080/"
        },
        "id": "2T3cuGmv_szY",
        "outputId": "0c55e0c6-3b33-49ab-c666-2677c0bf173f"
      },
      "execution_count": null,
      "outputs": [
        {
          "output_type": "execute_result",
          "data": {
            "text/plain": [
              "True"
            ]
          },
          "metadata": {},
          "execution_count": 5
        }
      ]
    },
    {
      "cell_type": "code",
      "source": [
        "2!=2"
      ],
      "metadata": {
        "colab": {
          "base_uri": "https://localhost:8080/"
        },
        "id": "IAdWTiQSDd58",
        "outputId": "a8fad4ab-940e-4e35-e2e6-07bf01392c27"
      },
      "execution_count": null,
      "outputs": [
        {
          "output_type": "execute_result",
          "data": {
            "text/plain": [
              "False"
            ]
          },
          "metadata": {},
          "execution_count": 6
        }
      ]
    },
    {
      "cell_type": "code",
      "source": [
        "5!=2"
      ],
      "metadata": {
        "colab": {
          "base_uri": "https://localhost:8080/"
        },
        "id": "VCbUMQMXDpJD",
        "outputId": "cd50d804-3d97-4188-d356-e588c6eae2a9"
      },
      "execution_count": null,
      "outputs": [
        {
          "output_type": "execute_result",
          "data": {
            "text/plain": [
              "True"
            ]
          },
          "metadata": {},
          "execution_count": 7
        }
      ]
    },
    {
      "cell_type": "code",
      "source": [
        "10 > 2"
      ],
      "metadata": {
        "colab": {
          "base_uri": "https://localhost:8080/"
        },
        "id": "CaCBkNnFDuE4",
        "outputId": "02208fcf-6141-445e-e036-e133ce15b015"
      },
      "execution_count": null,
      "outputs": [
        {
          "output_type": "execute_result",
          "data": {
            "text/plain": [
              "True"
            ]
          },
          "metadata": {},
          "execution_count": 8
        }
      ]
    },
    {
      "cell_type": "code",
      "source": [
        "10<2"
      ],
      "metadata": {
        "colab": {
          "base_uri": "https://localhost:8080/"
        },
        "id": "drzJXbMjDxT0",
        "outputId": "e6f5a667-e5eb-482a-cffe-1760451743b3"
      },
      "execution_count": null,
      "outputs": [
        {
          "output_type": "execute_result",
          "data": {
            "text/plain": [
              "False"
            ]
          },
          "metadata": {},
          "execution_count": 9
        }
      ]
    },
    {
      "cell_type": "code",
      "source": [
        "12>=12"
      ],
      "metadata": {
        "colab": {
          "base_uri": "https://localhost:8080/"
        },
        "id": "6k5sv0FVD6ou",
        "outputId": "564a683e-9a15-40e7-b2b7-266cdbf58b2b"
      },
      "execution_count": null,
      "outputs": [
        {
          "output_type": "execute_result",
          "data": {
            "text/plain": [
              "True"
            ]
          },
          "metadata": {},
          "execution_count": 10
        }
      ]
    },
    {
      "cell_type": "markdown",
      "source": [
        "Identity operators\n",
        "- There are two identity operators in python is and is not. The identity operators are used to check if both the operant refer to the same object memory that is the identity operators compared the memory location of two object and written true or false accordingly."
      ],
      "metadata": {
        "id": "PJbFgpcLD_gb"
      }
    },
    {
      "cell_type": "code",
      "source": [
        "A = 10\n",
        "B = 10\n",
        "A is B"
      ],
      "metadata": {
        "colab": {
          "base_uri": "https://localhost:8080/"
        },
        "id": "hhqA8mzkExKN",
        "outputId": "6147f0bd-da15-45d3-e1fa-b2d974c99921"
      },
      "execution_count": null,
      "outputs": [
        {
          "output_type": "execute_result",
          "data": {
            "text/plain": [
              "True"
            ]
          },
          "metadata": {},
          "execution_count": 11
        }
      ]
    },
    {
      "cell_type": "code",
      "source": [
        "A=235\n",
        "B=240\n",
        "C=235\n",
        "A is B"
      ],
      "metadata": {
        "colab": {
          "base_uri": "https://localhost:8080/"
        },
        "id": "W2x9ZlKDE9XL",
        "outputId": "089ff811-c7be-455a-ba16-489af0a7b5f8"
      },
      "execution_count": null,
      "outputs": [
        {
          "output_type": "execute_result",
          "data": {
            "text/plain": [
              "False"
            ]
          },
          "metadata": {},
          "execution_count": 13
        }
      ]
    },
    {
      "cell_type": "code",
      "source": [
        "A=235\n",
        "B=240\n",
        "C=235\n",
        "A is C"
      ],
      "metadata": {
        "colab": {
          "base_uri": "https://localhost:8080/"
        },
        "id": "fA8w0CXLFU13",
        "outputId": "4689419e-f54a-4461-e4a7-2d36d3211661"
      },
      "execution_count": null,
      "outputs": [
        {
          "output_type": "execute_result",
          "data": {
            "text/plain": [
              "True"
            ]
          },
          "metadata": {},
          "execution_count": 14
        }
      ]
    },
    {
      "cell_type": "markdown",
      "source": [
        "5. Explain the concept of type  casting in python with example\n",
        "- Type casting is the process of converting a variable from one data type to another. Python support implicit and explicit type casting."
      ],
      "metadata": {
        "id": "AMXmYtA2Fdeq"
      }
    },
    {
      "cell_type": "markdown",
      "source": [
        "a. Implicit type casting\n",
        "- python automatically convert one data type to another when needed.\n",
        "- example when adding a int and a float"
      ],
      "metadata": {
        "id": "w2NnYwW2HVTk"
      }
    },
    {
      "cell_type": "code",
      "source": [
        "a = 5 # int\n",
        "b = 2.5 # float\n",
        "result= a + b\n",
        "print(result) # python convert 'a' to float automatic"
      ],
      "metadata": {
        "colab": {
          "base_uri": "https://localhost:8080/"
        },
        "id": "V0gZ0_VZHqy6",
        "outputId": "c29c6f2c-833c-4bf2-98ad-7441581ee48b"
      },
      "execution_count": null,
      "outputs": [
        {
          "output_type": "stream",
          "name": "stdout",
          "text": [
            "7.5\n"
          ]
        }
      ]
    },
    {
      "cell_type": "code",
      "source": [
        "print(type( result)) # output:<class 'float'>"
      ],
      "metadata": {
        "colab": {
          "base_uri": "https://localhost:8080/"
        },
        "id": "PM_BMhObH5KA",
        "outputId": "52cfd492-6bf8-4da3-fb89-561cd54e8eb0"
      },
      "execution_count": null,
      "outputs": [
        {
          "output_type": "stream",
          "name": "stdout",
          "text": [
            "<class 'float'>\n"
          ]
        }
      ]
    },
    {
      "cell_type": "markdown",
      "source": [
        "Explanation\n",
        "- a (int) is implicity converted to float before addition\n",
        "- result is float"
      ],
      "metadata": {
        "id": "tylQyuRVI13p"
      }
    },
    {
      "cell_type": "markdown",
      "source": [
        "b. Explicit type casting\n",
        "- you manually convert data types using built-in function like int( ), float ( ), str( ), etc."
      ],
      "metadata": {
        "id": "6H7o8FaiJIs1"
      }
    },
    {
      "cell_type": "code",
      "source": [
        "# Examples:\n",
        "num_str = \"10\" #string\n",
        "num_int = int(num_str) #convert string to int\n",
        "\n",
        "print(num_int+5)"
      ],
      "metadata": {
        "colab": {
          "base_uri": "https://localhost:8080/"
        },
        "id": "zAKgyjUNJg9I",
        "outputId": "57b24476-ed33-4c83-f20b-68f7e58968a7"
      },
      "execution_count": null,
      "outputs": [
        {
          "output_type": "stream",
          "name": "stdout",
          "text": [
            "15\n"
          ]
        }
      ]
    },
    {
      "cell_type": "code",
      "source": [
        "num_int = 5\n",
        "num_float = float(num_int)\n",
        "\n",
        "\n",
        "print(num_float)"
      ],
      "metadata": {
        "colab": {
          "base_uri": "https://localhost:8080/"
        },
        "id": "AFnLg09ZKCcE",
        "outputId": "ac739912-6bd8-4c4a-dd3b-4f45a18dc519"
      },
      "execution_count": null,
      "outputs": [
        {
          "output_type": "stream",
          "name": "stdout",
          "text": [
            "5.0\n"
          ]
        }
      ]
    },
    {
      "cell_type": "code",
      "source": [
        "age = 25\n",
        "age_str = str(age)\n",
        "\n",
        "print (\"Age: \"  + age_str)"
      ],
      "metadata": {
        "colab": {
          "base_uri": "https://localhost:8080/"
        },
        "id": "Xj3i07oKLFG7",
        "outputId": "4e7ef372-1bdd-423e-8277-57d66227cb03"
      },
      "execution_count": null,
      "outputs": [
        {
          "output_type": "stream",
          "name": "stdout",
          "text": [
            "Age: 25\n"
          ]
        }
      ]
    },
    {
      "cell_type": "markdown",
      "source": [
        "6. How do conditional statement work in python ? Illustrate with example\n",
        "\n",
        "- conditional statement allow your program to make decisions by executing different code block based on whether a condition is true or false."
      ],
      "metadata": {
        "id": "Aa_ECxUGL0CN"
      }
    },
    {
      "cell_type": "markdown",
      "source": [
        "a. if statement\n",
        "\n",
        "- execute A block only if the condition is true.\n",
        "- Syntax:\n",
        "- if condition: code to execute if condition is true"
      ],
      "metadata": {
        "id": "GK__nlgyMWkt"
      }
    },
    {
      "cell_type": "code",
      "source": [
        "age = 18\n",
        "\n",
        "if age >= 18:\n",
        "    print(\" you are eligible to vote.\")"
      ],
      "metadata": {
        "colab": {
          "base_uri": "https://localhost:8080/"
        },
        "id": "ZGJJlMrUM2fT",
        "outputId": "ce1116bd-b114-4167-ba7a-12c257841dc3"
      },
      "execution_count": null,
      "outputs": [
        {
          "output_type": "stream",
          "name": "stdout",
          "text": [
            " you are eligible to vote.\n"
          ]
        }
      ]
    },
    {
      "cell_type": "markdown",
      "source": [
        "b. If - else statement\n",
        "- execute one block if the condition is true, otherwise run the s block.\n",
        "\n",
        "Syntax:\n",
        "- if condition: code if  true\n",
        "- else: code if false"
      ],
      "metadata": {
        "id": "Uw-nBxu9N3gJ"
      }
    },
    {
      "cell_type": "code",
      "source": [
        "num= 10\n",
        "\n",
        "if num % 2 == 0:\n",
        "    print(\"Even number\")\n",
        "else:\n",
        "    print(\"odd number\")"
      ],
      "metadata": {
        "colab": {
          "base_uri": "https://localhost:8080/"
        },
        "id": "WE47o1tNOJgY",
        "outputId": "d65633b7-854a-4074-ed34-584885e0cbee"
      },
      "execution_count": null,
      "outputs": [
        {
          "output_type": "stream",
          "name": "stdout",
          "text": [
            "Even number\n"
          ]
        }
      ]
    },
    {
      "cell_type": "markdown",
      "source": [
        "c. if- elif- else Statement\n",
        "- checks multiple condition in sequence.\n",
        "\n",
        "Syntax:\n",
        "- if condition: code if condition is  is true\n",
        "- elif condition: code if condition to is true\n",
        "- else: code if all conditions are false"
      ],
      "metadata": {
        "id": "6q6FJQuNOuyN"
      }
    },
    {
      "cell_type": "code",
      "source": [
        "marks = 85\n",
        "\n",
        "if marks >=90:\n",
        "    grade = 'A'\n",
        "elif marks >= 80:\n",
        "    grade = \"B\"\n",
        "elif marks >=70:\n",
        "    grade = 'C'\n",
        "else:\n",
        "    grade = \"fail\"\n",
        "\n",
        "print(f\" your grade: {grade}\")"
      ],
      "metadata": {
        "colab": {
          "base_uri": "https://localhost:8080/"
        },
        "id": "YZIf9ysAPYAB",
        "outputId": "563d16aa-fa01-4a91-a16d-61d9117b7422"
      },
      "execution_count": null,
      "outputs": [
        {
          "output_type": "stream",
          "name": "stdout",
          "text": [
            " your grade: B\n"
          ]
        }
      ]
    },
    {
      "cell_type": "markdown",
      "source": [
        "d. Nested if statement s\n",
        "- An if statement inside another if."
      ],
      "metadata": {
        "id": "UIG13UrzQkCJ"
      }
    },
    {
      "cell_type": "code",
      "source": [
        "username = \"admin\"\n",
        "password = \"1234\"\n",
        "\n",
        "if username == \"admin\":\n",
        "    if password == \"1234\":\n",
        "        print (\"Login successfully\")\n",
        "    else:\n",
        "        print (\"Wrong password!\")\n",
        "else:\n",
        "    print(\"User not found!\")"
      ],
      "metadata": {
        "colab": {
          "base_uri": "https://localhost:8080/"
        },
        "id": "q5ZqfJA8QveI",
        "outputId": "a5619b82-c609-4a4f-be2e-355ced90c221"
      },
      "execution_count": null,
      "outputs": [
        {
          "output_type": "stream",
          "name": "stdout",
          "text": [
            "Login successfully\n"
          ]
        }
      ]
    },
    {
      "cell_type": "markdown",
      "source": [
        "e. Ternary Operator (Short if - else)\n",
        "- a compact way to write simple if-eles in one line."
      ],
      "metadata": {
        "id": "0A_UKtTBR6dl"
      }
    },
    {
      "cell_type": "code",
      "source": [
        "age = 20\n",
        "status = 'Adult' if age >= 18 else \" Minor\"\n",
        "print(status)"
      ],
      "metadata": {
        "colab": {
          "base_uri": "https://localhost:8080/"
        },
        "id": "eM3OAS_qSUvJ",
        "outputId": "2740d9fa-40f1-4958-f249-06ec72fb4de8"
      },
      "execution_count": null,
      "outputs": [
        {
          "output_type": "stream",
          "name": "stdout",
          "text": [
            "Adult\n"
          ]
        }
      ]
    },
    {
      "cell_type": "markdown",
      "source": [
        "f. Logical operators in conditions\n",
        " - combine condition using and, or, not."
      ],
      "metadata": {
        "id": "BcWquKNASyNO"
      }
    },
    {
      "cell_type": "code",
      "source": [
        "temperature = 25\n",
        "is_summer = True\n",
        "\n",
        "if temperature > 30 or is_summer:\n",
        "    print(\"It's Hot!\")\n",
        "else:\n",
        "    print (\"Normal weather.\")"
      ],
      "metadata": {
        "colab": {
          "base_uri": "https://localhost:8080/"
        },
        "id": "D_pkZefJTK_T",
        "outputId": "7d26ace3-82bc-47c5-f240-a23756ab178e"
      },
      "execution_count": null,
      "outputs": [
        {
          "output_type": "stream",
          "name": "stdout",
          "text": [
            "It's Hot!\n"
          ]
        }
      ]
    },
    {
      "cell_type": "markdown",
      "source": [
        "7. Describe the different types of loop in python and their use cases with example.\n",
        "- loops I love you to executive block of code repeatedly. By then has to main types of loop : for and while, each with specific use cases in real world project"
      ],
      "metadata": {
        "id": "4VSqTkUPUCCq"
      }
    },
    {
      "cell_type": "markdown",
      "source": [
        "a. For Loop\n",
        "When to use:\n",
        "- when you know how many times to iterate\n",
        "- idol for iterating over sequence\n",
        "\n",
        "Syntax :"
      ],
      "metadata": {
        "id": "-3txbY4eU_m7"
      }
    },
    {
      "cell_type": "code",
      "source": [
        "for item in sequence:\n",
        "    # Code to execute"
      ],
      "metadata": {
        "id": "rOV5N2QpVoXA"
      },
      "execution_count": null,
      "outputs": []
    },
    {
      "cell_type": "markdown",
      "source": [
        "Use cases and example\n",
        "- Iterating over a list"
      ],
      "metadata": {
        "id": "ldzs5TyfVpis"
      }
    },
    {
      "cell_type": "code",
      "source": [
        "cart_items = [ \"Laptop\", \"Headphones\",\"Mouse\",\"Keyboard\"]\n",
        "\n",
        "for item in cart_items:\n",
        "    print(f\"Processing: {item}\")"
      ],
      "metadata": {
        "colab": {
          "base_uri": "https://localhost:8080/"
        },
        "id": "CaEK8kREV6ib",
        "outputId": "807d6797-43f8-4305-e712-97e680841629"
      },
      "execution_count": null,
      "outputs": [
        {
          "output_type": "stream",
          "name": "stdout",
          "text": [
            "Processing: Laptop\n",
            "Processing: Headphones\n",
            "Processing: Mouse\n",
            "Processing: Keyboard\n"
          ]
        }
      ]
    },
    {
      "cell_type": "markdown",
      "source": [
        "- Looping with range ( )"
      ],
      "metadata": {
        "id": "1M_pAjh6WnXb"
      }
    },
    {
      "cell_type": "code",
      "source": [
        "for count in range(5, 0, -1):\n",
        "    print(f\" Countdown: {count}\")\n",
        "print(\"Launch!\")"
      ],
      "metadata": {
        "colab": {
          "base_uri": "https://localhost:8080/"
        },
        "id": "jZ4JZBniWtvz",
        "outputId": "a59fbba6-88f0-4a82-f290-0b1c3daf64a9"
      },
      "execution_count": null,
      "outputs": [
        {
          "output_type": "stream",
          "name": "stdout",
          "text": [
            " Countdown: 5\n",
            " Countdown: 4\n",
            " Countdown: 3\n",
            " Countdown: 2\n",
            " Countdown: 1\n",
            "Launch!\n"
          ]
        }
      ]
    },
    {
      "cell_type": "code",
      "source": [
        "# Dictionary Iteration\n",
        "grades = {\"Alice\":90, \"Bob\":85,\"Charlie\":72}\n",
        "\n",
        "for name, score in grades.items( ):\n",
        "    print(f\"{name} scored { score}\")"
      ],
      "metadata": {
        "colab": {
          "base_uri": "https://localhost:8080/"
        },
        "id": "H7cT0D5HakfI",
        "outputId": "9d751826-5da2-4d48-f1a2-c95527693a01"
      },
      "execution_count": null,
      "outputs": [
        {
          "output_type": "stream",
          "name": "stdout",
          "text": [
            "Alice scored 90\n",
            "Bob scored 85\n",
            "Charlie scored 72\n"
          ]
        }
      ]
    },
    {
      "cell_type": "markdown",
      "source": [
        "2. while Loop\n",
        "\n",
        "When to use:\n",
        "\n",
        "- when you don't know how many times to iterate\n",
        "- Runs until a condition is false.\n",
        "\n",
        "\n",
        "Syntax:"
      ],
      "metadata": {
        "id": "2RSGjnkzbUiv"
      }
    },
    {
      "cell_type": "code",
      "source": [
        "while condition:\n",
        "  # code to execute"
      ],
      "metadata": {
        "id": "GGbIB827bv4s"
      },
      "execution_count": null,
      "outputs": []
    },
    {
      "cell_type": "code",
      "source": [
        "# User Input Validation\n",
        "max_attempts = 3\n",
        "attempts = 0\n",
        "\n",
        "while attempts < max_attempts:\n",
        "    password = input(\"Enter password: \")\n",
        "    if password == \"sceret123\":\n",
        "        print(\"Access granted!\")\n",
        "        break\n",
        "    else:\n",
        "        attempts += 1\n",
        "        print(f\"Wrong password! Attempts left: { max_attempts - attempts}\")\n",
        "else:\n",
        "    print(\"Account locked!\")"
      ],
      "metadata": {
        "colab": {
          "base_uri": "https://localhost:8080/"
        },
        "id": "AGvSCVnHb6Bj",
        "outputId": "8b417ccc-8bb6-4bdb-e9b1-9a9d9cfdb8a7"
      },
      "execution_count": null,
      "outputs": [
        {
          "output_type": "stream",
          "name": "stdout",
          "text": [
            "Enter password: Sceret123\n",
            "Wrong password! Attempts left: 2\n",
            "Enter password: Sceret123\n",
            "Wrong password! Attempts left: 1\n",
            "Enter password: sceret123\n",
            "Wrong password! Attempts left: 0\n",
            "Account locked!\n"
          ]
        }
      ]
    },
    {
      "cell_type": "code",
      "source": [
        "\n",
        "for num in range(3):\n",
        "     print(num)\n",
        "else:\n",
        "    print(\"Loop finished!\")"
      ],
      "metadata": {
        "colab": {
          "base_uri": "https://localhost:8080/"
        },
        "id": "t4BFU9uQeGJ6",
        "outputId": "3cba585e-49a5-4502-a840-e85ccf5c5b68"
      },
      "execution_count": null,
      "outputs": [
        {
          "output_type": "stream",
          "name": "stdout",
          "text": [
            "0\n",
            "1\n",
            "2\n",
            "Loop finished!\n"
          ]
        }
      ]
    },
    {
      "cell_type": "code",
      "source": [
        "for num in range (1, 6):\n",
        "    if num == 3:\n",
        "        continue\n",
        "    print(num)"
      ],
      "metadata": {
        "colab": {
          "base_uri": "https://localhost:8080/"
        },
        "id": "Redm7QhPgABg",
        "outputId": "182e1f98-66d6-4d50-e442-cbd490c49a4a"
      },
      "execution_count": null,
      "outputs": [
        {
          "output_type": "stream",
          "name": "stdout",
          "text": [
            "1\n",
            "2\n",
            "4\n",
            "5\n"
          ]
        }
      ]
    },
    {
      "cell_type": "code",
      "source": [
        "for num in range(1, 10):\n",
        "    if num == 5:\n",
        "        break\n",
        "    print(num)"
      ],
      "metadata": {
        "colab": {
          "base_uri": "https://localhost:8080/"
        },
        "id": "BVjk6aedgXf3",
        "outputId": "e0846c29-b568-4bae-c6ed-e9cdbdfa9f52"
      },
      "execution_count": null,
      "outputs": [
        {
          "output_type": "stream",
          "name": "stdout",
          "text": [
            "1\n",
            "2\n",
            "3\n",
            "4\n"
          ]
        }
      ]
    }
  ]
}