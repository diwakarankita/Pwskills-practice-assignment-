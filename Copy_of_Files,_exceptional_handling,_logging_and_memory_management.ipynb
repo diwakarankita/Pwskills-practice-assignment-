{
  "nbformat": 4,
  "nbformat_minor": 0,
  "metadata": {
    "colab": {
      "provenance": [],
      "authorship_tag": "ABX9TyPz9XgigzTdpbncijByrjp1",
      "include_colab_link": true
    },
    "kernelspec": {
      "name": "python3",
      "display_name": "Python 3"
    },
    "language_info": {
      "name": "python"
    }
  },
  "cells": [
    {
      "cell_type": "markdown",
      "metadata": {
        "id": "view-in-github",
        "colab_type": "text"
      },
      "source": [
        "<a href=\"https://colab.research.google.com/github/diwakarankita/Pwskills-practice-assignment-/blob/main/Copy_of_Files%2C_exceptional_handling%2C_logging_and_memory_management.ipynb\" target=\"_parent\"><img src=\"https://colab.research.google.com/assets/colab-badge.svg\" alt=\"Open In Colab\"/></a>"
      ]
    },
    {
      "cell_type": "markdown",
      "source": [
        "###Files exceptional handling, login and"
      ],
      "metadata": {
        "id": "zENQ-18NZyaR"
      }
    },
    {
      "cell_type": "markdown",
      "source": [
        "1. What is the difference between interpreted and compile the languages\n",
        "\n",
        "Compiled Languages:\n",
        "- Source code is fully converted into machine-specific binary code before execution. This steps is explicit and errors are caught during compilation. Examples C, C++, Rust.\n",
        "\n",
        "Interpreted Languages:\n",
        "- code is translated and executed line-bile-line at runtime buy and interpreter. No prior compilation is needed.\n",
        "Example: JavaScript, Ruby( traditionally)"
      ],
      "metadata": {
        "id": "K5_rLGu3Z0V9"
      }
    },
    {
      "cell_type": "markdown",
      "source": [
        "2. What is exceptional handling?\n",
        "\n",
        "- Exception handling is a programming mechanism used to manage and respond to runtime errors in a controlled ways. It allows your program to grace fully handle unexpected situations instead of clashing. And Python this is done using try, except, else and finally blocks."
      ],
      "metadata": {
        "id": "WDtU6tgUZ57q"
      }
    },
    {
      "cell_type": "markdown",
      "source": [
        "3. What is the purpose of the finally block in exception handling?\n",
        "\n",
        "- The finally block in exception handling ensures that a piece of code runs unconditionally regardless of weather and exception occurs or not. It's primary purpose is to perform clean up task that must always execute even if an error destrupts the normal flow of the program."
      ],
      "metadata": {
        "id": "Aj6DIHvQZ9Nq"
      }
    },
    {
      "cell_type": "markdown",
      "source": [
        "4. What is logging in Python?\n",
        "\n",
        "- login and Python is the process of recording events, messages, or errors that occurs during the execution of a program. It helps developers track the flow of execution, debug issues, debug issues, and monitor applications production.Unlike simple print() statements, Python's built-in logging module provides a flexible, structured way to capture information at different severity levels and direct logs to various outputs."
      ],
      "metadata": {
        "id": "VqjUhwhiaCEE"
      }
    },
    {
      "cell_type": "markdown",
      "source": [
        "5. What is the significance of the __del__ method in Python?\n",
        "\n",
        "The__del__method in Python is a special (dunder) method that acts as a destructor for objects. It's automatically invoked when an object is about to destroyed. It's primary purpose is  to perform clean up tasks before the object's memory is reclaimed. However it's use requires caution due to pythons garbage collection mechanism"
      ],
      "metadata": {
        "id": "aMjlcki0aGBd"
      }
    },
    {
      "cell_type": "markdown",
      "source": [
        "6. What is the difference between import and form... import in Python?\n",
        "\n",
        "In python,the import and form...import statements are used to include external module or specific components into your code, but they different how they make those components accessible:\n",
        "\n",
        "- import module\n",
        " - Imports the entire module.\n",
        " - Access via module.attribute:"
      ],
      "metadata": {
        "id": "zAk71sLqaS3n"
      }
    },
    {
      "cell_type": "code",
      "source": [
        "import math\n",
        "print(math.sqrt(25))"
      ],
      "metadata": {
        "colab": {
          "base_uri": "https://localhost:8080/"
        },
        "id": "rwIuKiIkMtei",
        "outputId": "d6a67951-5257-45ec-9274-396aec72e994"
      },
      "execution_count": null,
      "outputs": [
        {
          "output_type": "stream",
          "name": "stdout",
          "text": [
            "5.0\n"
          ]
        }
      ]
    },
    {
      "cell_type": "markdown",
      "source": [
        "from module import attributes\n",
        "- Imports a specific component\n",
        "- Access directly:"
      ],
      "metadata": {
        "id": "lN5u6RugNeCq"
      }
    },
    {
      "cell_type": "code",
      "source": [
        "from math import sqrt\n",
        "print(sqrt(25))"
      ],
      "metadata": {
        "colab": {
          "base_uri": "https://localhost:8080/"
        },
        "id": "n11P_yRrOBdb",
        "outputId": "e174b288-9938-4f22-8628-0044b4b82440"
      },
      "execution_count": null,
      "outputs": [
        {
          "output_type": "stream",
          "name": "stdout",
          "text": [
            "5.0\n"
          ]
        }
      ]
    },
    {
      "cell_type": "markdown",
      "source": [
        "7. How can you handle multiple exception in Python?\n",
        "\n",
        "In python,  you can handle multiple exceptions using a few different approaches, depending on whether you want to handle exception differently all group them together. Here's how to do it\n",
        "\n",
        "Handle Multiple Exceptions with a Single Block\n",
        "\n",
        "- use it uple to catch multiple exceptions in a single except block. This is useful if you want to handle all listed exceptions the same way"
      ],
      "metadata": {
        "id": "dWC29oKdaa_s"
      }
    },
    {
      "cell_type": "code",
      "source": [
        "try:\n",
        "    # Code that might raise exceptions\n",
        "    result = 10 / 0  # ZeroDivisionError\n",
        "    value = int(\"text\")  # ValueError\n",
        "except (ZeroDivisionError, ValueError) as e:\n",
        "    print(f\"An error occurred: {e}\")"
      ],
      "metadata": {
        "colab": {
          "base_uri": "https://localhost:8080/"
        },
        "id": "UDkwce1BPZuh",
        "outputId": "18f6ad4d-ae31-4948-d224-0eb290f8b4ae"
      },
      "execution_count": null,
      "outputs": [
        {
          "output_type": "stream",
          "name": "stdout",
          "text": [
            "An error occurred: division by zero\n"
          ]
        }
      ]
    },
    {
      "cell_type": "markdown",
      "source": [
        "- Handle Exceptions Seprately\n",
        "Use multiple except blocks to handle different exceptions differently:"
      ],
      "metadata": {
        "id": "-TO3Ip0dPutO"
      }
    },
    {
      "cell_type": "code",
      "source": [
        "try:\n",
        "    # Code that might raise exceptions\n",
        "    file = open(\"missing_file.txt\", \"r\")  # FileNotFoundError\n",
        "    num = int(\"abc\")  # ValueError\n",
        "except FileNotFoundError:\n",
        "    print(\"File not found!\")\n",
        "except ValueError:\n",
        "    print(\"Invalid integer conversion!\")\n",
        "except Exception as e:  # Catch any other unexpected errors\n",
        "    print(f\"Unexpected error: {e}\")"
      ],
      "metadata": {
        "colab": {
          "base_uri": "https://localhost:8080/"
        },
        "id": "hppnHc-rQK1l",
        "outputId": "5459df8d-6a9a-4952-a8cf-70860862802a"
      },
      "execution_count": null,
      "outputs": [
        {
          "output_type": "stream",
          "name": "stdout",
          "text": [
            "File not found!\n"
          ]
        }
      ]
    },
    {
      "cell_type": "markdown",
      "source": [
        "8. What is the purpose of the with statement when handling files in Python?\n",
        "\n",
        "The with statements in Python is used to simplify and ensure proper handling of resources such as files by automatically managing their clean up even if errors occurs. Its leverage context managers to handle resources management safely and concisely.\n",
        "\n",
        "Purpose of with for File Handling\n",
        "\n",
        "When working with files, the with statement:\n",
        "\n",
        "- Automatically close the file when the block exist.\n",
        "- Handles exceptions gracefully - files are close even if an error occurs inside the block.\n",
        "- Reduces boilerplate code ."
      ],
      "metadata": {
        "id": "8Dju8GaiaeWe"
      }
    },
    {
      "cell_type": "markdown",
      "source": [
        "9. What is the difference between multitrading and multipurposeing?\n",
        "\n",
        "The terms multi trading and multi purpose in refers to the sting concepts of an applied in different context. Here the breakdowns of the difference:\n",
        "\n",
        "\n",
        "- Multi-Trading: engaging in multiple trading activities simultaneously typically across different markets, assets classes, or strategies.\n",
        "\n",
        "Example: ahead fund trading activities derivatives and cryptocurrency concurrently.\n",
        "\n",
        "-Multipurposing: designing or using a single resources, to, or strategy to serve multiple purposes or objectives.\n",
        "\n",
        "Example: a smartphone used for communication, photography, navigation and payment processing."
      ],
      "metadata": {
        "id": "btYTkuGqajNs"
      }
    },
    {
      "cell_type": "markdown",
      "source": [
        "10. What are the advantages of using logging in a program?\n",
        "\n",
        "- Debugging & Troubleshooting\n",
        " - Advantage: logs provided detailed record of program executions helping identify the root cause of errors"
      ],
      "metadata": {
        "id": "a7FEZk5qamKv"
      }
    },
    {
      "cell_type": "code",
      "source": [
        "import logging\n",
        "logging.basicConfig(level=logging.DEBUG)\n",
        "\n",
        "try:\n",
        "    result = 10 / 0\n",
        "except Exception as e:\n",
        "    logging.error(f\"Division failed: {e}\", exc_info=True)  # Logs the full traceback"
      ],
      "metadata": {
        "colab": {
          "base_uri": "https://localhost:8080/"
        },
        "id": "u5N7LGuxTHup",
        "outputId": "039f6d1d-507c-4ba4-8495-6e88bd86ffe6"
      },
      "execution_count": null,
      "outputs": [
        {
          "output_type": "stream",
          "name": "stderr",
          "text": [
            "ERROR:root:Division failed: division by zero\n",
            "Traceback (most recent call last):\n",
            "  File \"<ipython-input-7-0e437ae336cb>\", line 5, in <cell line: 0>\n",
            "    result = 10 / 0\n",
            "             ~~~^~~\n",
            "ZeroDivisionError: division by zero\n"
          ]
        }
      ]
    },
    {
      "cell_type": "markdown",
      "source": [
        "- Monitoring and Auditing\n",
        " - Advantage: Track system behaviour in real-time or retrospacetively.\n",
        "\n",
        "Use case:\n",
        " - Audit security-sensitive operations\n",
        " - Monitor resources uses\n",
        "\n",
        "- Error Severity Levels\n",
        " - Advantage: Logging supports severity levels (DEBUG, INFO, WARNING, ERROR, CRITICAL), enabling filtered analysis."
      ],
      "metadata": {
        "id": "VSZQXY_dTPfJ"
      }
    },
    {
      "cell_type": "code",
      "source": [
        "logging.debug(\"Debug detail for developers\")    # Visible during development\n",
        "logging.info(\"User logged in\")                  # General operation tracking\n",
        "logging.warning(\"Low disk space\")               # Potential issues\n",
        "logging.error(\"Payment failed\")                 # Recoverable errors\n",
        "logging.critical(\"Server crash\")                # Critical failures"
      ],
      "metadata": {
        "colab": {
          "base_uri": "https://localhost:8080/"
        },
        "id": "Dm4loAUQUNKK",
        "outputId": "6dfb55ba-aed3-4c9b-c4a5-5b898cc47d9f"
      },
      "execution_count": null,
      "outputs": [
        {
          "output_type": "stream",
          "name": "stderr",
          "text": [
            "WARNING:root:Low disk space\n",
            "ERROR:root:Payment failed\n",
            "CRITICAL:root:Server crash\n"
          ]
        }
      ]
    },
    {
      "cell_type": "markdown",
      "source": [
        "11. What is memory management in Python?\n",
        "\n",
        "Memory management in Python refers to the way Python interprets allocates, uses and release memory for objects during program execution. Unlike lower-level languages like c/c++, Python automates memory management, reducing the risk of leaks or manual errors."
      ],
      "metadata": {
        "id": "KibiU-L4apyi"
      }
    },
    {
      "cell_type": "markdown",
      "source": [
        "12. What are the basic steps involved in exception handling in Python?\n",
        "\n",
        "Exception handling in Python allows you to gracefully manage errors and unexpected events during program execution. Here are the basic steps involved:\n",
        "\n",
        "- try Block\n",
        "\n",
        "Purpose: Enclose code that might rays and exception."
      ],
      "metadata": {
        "id": "IGHjNhoAasmC"
      }
    },
    {
      "cell_type": "code",
      "source": [
        "\n",
        "#Syntax\n",
        "try:\n",
        "    # Code that may cause an error\n",
        "    result = 10 / 0\n",
        "except:"
      ],
      "metadata": {
        "colab": {
          "base_uri": "https://localhost:8080/",
          "height": 124
        },
        "id": "8uEPwhCSVe8w",
        "outputId": "911676fd-4226-4183-ba9c-4550f301e013"
      },
      "execution_count": null,
      "outputs": [
        {
          "output_type": "error",
          "ename": "SyntaxError",
          "evalue": "incomplete input (<ipython-input-11-b9e914b7567f>, line 5)",
          "traceback": [
            "\u001b[0;36m  File \u001b[0;32m\"<ipython-input-11-b9e914b7567f>\"\u001b[0;36m, line \u001b[0;32m5\u001b[0m\n\u001b[0;31m    except:\u001b[0m\n\u001b[0m           ^\u001b[0m\n\u001b[0;31mSyntaxError\u001b[0m\u001b[0;31m:\u001b[0m incomplete input\n"
          ]
        }
      ]
    },
    {
      "cell_type": "markdown",
      "source": [
        "- except Block\n",
        "\n",
        "Purpose: Catch and handle specific exceptions.\n",
        "\n",
        "- Catch a specific exception:"
      ],
      "metadata": {
        "id": "R65zV7G4V2ui"
      }
    },
    {
      "cell_type": "code",
      "source": [
        "try:\n",
        "    x = int(\"text\")  # Raises ValueError\n",
        "except ValueError:\n",
        "    print(\"Invalid integer conversion!\")"
      ],
      "metadata": {
        "colab": {
          "base_uri": "https://localhost:8080/"
        },
        "id": "2FknLkbEWOyj",
        "outputId": "b7140c09-5e93-4aad-ca85-4e63eaaa3c06"
      },
      "execution_count": null,
      "outputs": [
        {
          "output_type": "stream",
          "name": "stdout",
          "text": [
            "Invalid integer conversion!\n"
          ]
        }
      ]
    },
    {
      "cell_type": "markdown",
      "source": [
        "else Block (Optional)\n",
        "\n",
        "Purpose: Execute code only if no exceptions occured in the try block."
      ],
      "metadata": {
        "id": "6qM9SFiSWZmV"
      }
    },
    {
      "cell_type": "code",
      "source": [
        "try:\n",
        "    print(\"No error here!\")\n",
        "except ValueError:\n",
        "    print(\"This won't run.\")\n",
        "else:\n",
        "    print(\"Success! No exceptions.\")"
      ],
      "metadata": {
        "colab": {
          "base_uri": "https://localhost:8080/"
        },
        "id": "skv7IU2cWnyY",
        "outputId": "1b4f5147-5515-4ab6-9677-c64dccbc558d"
      },
      "execution_count": null,
      "outputs": [
        {
          "output_type": "stream",
          "name": "stdout",
          "text": [
            "No error here!\n",
            "Success! No exceptions.\n"
          ]
        }
      ]
    },
    {
      "cell_type": "markdown",
      "source": [
        "13. Why is memory management important in  python?\n",
        "\n",
        "Memory management in Python is crucial for several reasons, as it ensures efficient resource utilisation, prevents errors, and maintains application stability.\n",
        "\n",
        "- Prevents Memory Leaks\n",
        " - problem: unreleased memory can accumulate over time causing program to consume excessive memory and crash.\n",
        " - Solution: python's garbage collector automatically reclaim's memory from unreachable objects preventing leaks."
      ],
      "metadata": {
        "id": "2QAzoSw-ayiu"
      }
    },
    {
      "cell_type": "code",
      "source": [
        "# Without garbage collection, this cycle would leak memory\n",
        "class Node:\n",
        "    def __init__(self):\n",
        "        self.parent = None\n",
        "\n",
        "a = Node()\n",
        "b = Node()\n",
        "a.parent = b\n",
        "b.parent = a  # Cyclic reference\n",
        "# Garbage collector breaks the cycle and frees memory"
      ],
      "metadata": {
        "id": "xxsWQb6PZFaq"
      },
      "execution_count": null,
      "outputs": []
    },
    {
      "cell_type": "markdown",
      "source": [
        "256Optimization Performance\n",
        " - Efficient allocation: python's Memory manager uses pymalloc for small objects and memory pools to reduce fragmentation.\n",
        "\n",
        " - Reuse of Objects: Immutable types are in turned, saving memory"
      ],
      "metadata": {
        "id": "uSlbfvmeZN7O"
      }
    },
    {
      "cell_type": "code",
      "source": [
        "\n",
        "a = 256\n",
        "b = 256\n",
        "print(a is b)  # True (same memory address due to interning)"
      ],
      "metadata": {
        "colab": {
          "base_uri": "https://localhost:8080/"
        },
        "id": "nEcJLxHoZu5Z",
        "outputId": "ab66c3e1-fd96-4ef7-f7e7-050cfe6df9a9"
      },
      "execution_count": null,
      "outputs": [
        {
          "output_type": "stream",
          "name": "stdout",
          "text": [
            "True\n"
          ]
        }
      ]
    },
    {
      "cell_type": "markdown",
      "source": [
        "- Avoid Manual Errors\n",
        "\n",
        " - no manual free(): Unlike C/C++, Python handles the allocation automatically eliminating risk life:\n",
        "\n",
        " - Dangling pointers: accessing Fred memory.\n",
        " - -Free errors: accidentally free memory twice."
      ],
      "metadata": {
        "id": "IaNNpvn4ZxHd"
      }
    },
    {
      "cell_type": "code",
      "source": [
        "# Python\n",
        "x = [1, 2, 3]\n",
        "del x  # Memory automatically freed\n",
        "\n",
        "# C (risky manual management)\n",
        "int *arr = malloc(3 * sizeof(int));\n",
        "free(arr);\n",
        "// free(arr);  // Double-free crash!"
      ],
      "metadata": {
        "colab": {
          "base_uri": "https://localhost:8080/",
          "height": 176
        },
        "id": "Xo_j6OWJaRYF",
        "outputId": "90dc0527-1b2c-4286-df82-678755df9926"
      },
      "execution_count": null,
      "outputs": [
        {
          "output_type": "error",
          "ename": "SyntaxError",
          "evalue": "cannot assign to expression here. Maybe you meant '==' instead of '='? (<ipython-input-16-2f542a386c37>, line 6)",
          "traceback": [
            "\u001b[0;36m  File \u001b[0;32m\"<ipython-input-16-2f542a386c37>\"\u001b[0;36m, line \u001b[0;32m6\u001b[0m\n\u001b[0;31m    int *arr = malloc(3 * sizeof(int));\u001b[0m\n\u001b[0m    ^\u001b[0m\n\u001b[0;31mSyntaxError\u001b[0m\u001b[0;31m:\u001b[0m cannot assign to expression here. Maybe you meant '==' instead of '='?\n"
          ]
        }
      ]
    },
    {
      "cell_type": "markdown",
      "source": [
        "14. What is the role of try and except in exception hand?\n",
        "\n",
        "try Block\n",
        "\n",
        "Purpose:\n",
        "\n",
        "- Enclose code that my raise an exception.\n",
        "- Define a \"safe zone\" where errors are monitored.\n",
        "\n",
        "Example:"
      ],
      "metadata": {
        "id": "JObYgIj7bFcR"
      }
    },
    {
      "cell_type": "code",
      "source": [
        "try:\n",
        "    result = 10 / 0  # Risky operation (ZeroDivisionError)\n",
        "    file = open(\"missing.txt\", \"r\")  # FileNotFoundError\n",
        "except:\n",
        "    pass  # Handle errors here"
      ],
      "metadata": {
        "id": "htEbD1M7qGqK"
      },
      "execution_count": null,
      "outputs": []
    },
    {
      "cell_type": "markdown",
      "source": [
        "except Block\n",
        "\n",
        "Purpose:\n",
        "\n",
        "- Catch and handle exception raised in the try block\n",
        "\n",
        "- Specify which exceptions to handle"
      ],
      "metadata": {
        "id": "tYp8X_yyqV3t"
      }
    },
    {
      "cell_type": "code",
      "source": [
        "try:\n",
        "    result = 10 / 0  # Risky operation (ZeroDivisionError)\n",
        "    file = open(\"missing.txt\", \"r\")  # FileNotFoundError\n",
        "except:\n",
        "    pass  # Handle errors here"
      ],
      "metadata": {
        "id": "c7wA46l0qnF2"
      },
      "execution_count": null,
      "outputs": []
    },
    {
      "cell_type": "markdown",
      "source": [
        "15. How does python's garbage collection system work?\n",
        "\n",
        "\n",
        "Python's garbage collection system automatically managers memory by the claiming unused object preventing leaks and handling cyclic reference.\n",
        "\n",
        "\n",
        "- Reference Counting\n",
        "\n",
        "Every Python object has a reference come tracking how many variables data structures all other objects point to its.\n",
        "\n",
        "- Increment: when a reference is created\n",
        "- Decrement: when the count hits zero the objectives immediately deleted."
      ],
      "metadata": {
        "id": "7DBLgHLkbKIL"
      }
    },
    {
      "cell_type": "code",
      "source": [
        "x = [1, 2, 3]  # Ref count = 1\n",
        "y = x           # Ref count = 2\n",
        "del y           # Ref count = 1\n",
        "del x           # Ref count = 0 → Object deleted"
      ],
      "metadata": {
        "id": "_puo_zRxr48D"
      },
      "execution_count": null,
      "outputs": []
    },
    {
      "cell_type": "markdown",
      "source": [
        "16. What is the purpose of the else block in exception handling?\n",
        "\n",
        "And Python The else block in exception handling serves a specific purpose coal and its contain code that should run only if the triblock does not reasoning exceptions. It has separate the error-prone code from the code that should execute only when no errors occurs.\n",
        "\n",
        "\n",
        "Purpose of the else Block\n",
        "\n",
        "- Execute Success - Only Code\n",
        " - code is the else block runs only if the try block complete without errors.\n",
        " - useful for operations that depends on the success of the try block\n",
        "\n",
        "- Improve Readability\n",
        " - Avoids cluttering the triblock with code that does not need exception handling.\n",
        " - make set clear which parts are risky and which are safe.\n",
        "\n",
        "- Prevent Accidental Exception Catching\n",
        " - Ensures code in the S block isn't accidentally shielded by the same except clause as a try block."
      ],
      "metadata": {
        "id": "VdzciqfxbRrZ"
      }
    },
    {
      "cell_type": "code",
      "source": [
        "try:\n",
        "    file = open(\"data.txt\", \"r\")\n",
        "    content = file.read()  # If open() fails, read() is never called\n",
        "except FileNotFoundError:\n",
        "    print(\"File not found!\")\n",
        "else:\n",
        "    print(\"File opened successfully. Processing data...\")\n",
        "    process_data(content)  # Only runs if no exception\n",
        "finally:\n",
        "    file.close()  # Always close the file"
      ],
      "metadata": {
        "colab": {
          "base_uri": "https://localhost:8080/",
          "height": 349
        },
        "id": "IbCC3pyXtTsl",
        "outputId": "1c96273a-bf6e-425d-ea26-16b4a9ad62f6"
      },
      "execution_count": null,
      "outputs": [
        {
          "output_type": "stream",
          "name": "stdout",
          "text": [
            "File not found!\n"
          ]
        },
        {
          "output_type": "error",
          "ename": "NameError",
          "evalue": "name 'file' is not defined",
          "traceback": [
            "\u001b[0;31m---------------------------------------------------------------------------\u001b[0m",
            "\u001b[0;31mNameError\u001b[0m                                 Traceback (most recent call last)",
            "\u001b[0;32m<ipython-input-21-f4c52cb368e8>\u001b[0m in \u001b[0;36m<cell line: 0>\u001b[0;34m()\u001b[0m\n\u001b[1;32m      8\u001b[0m     \u001b[0mprocess_data\u001b[0m\u001b[0;34m(\u001b[0m\u001b[0mcontent\u001b[0m\u001b[0;34m)\u001b[0m  \u001b[0;31m# Only runs if no exception\u001b[0m\u001b[0;34m\u001b[0m\u001b[0;34m\u001b[0m\u001b[0m\n\u001b[1;32m      9\u001b[0m \u001b[0;32mfinally\u001b[0m\u001b[0;34m:\u001b[0m\u001b[0;34m\u001b[0m\u001b[0;34m\u001b[0m\u001b[0m\n\u001b[0;32m---> 10\u001b[0;31m     \u001b[0mfile\u001b[0m\u001b[0;34m.\u001b[0m\u001b[0mclose\u001b[0m\u001b[0;34m(\u001b[0m\u001b[0;34m)\u001b[0m  \u001b[0;31m# Always close the file\u001b[0m\u001b[0;34m\u001b[0m\u001b[0;34m\u001b[0m\u001b[0m\n\u001b[0m",
            "\u001b[0;31mNameError\u001b[0m: name 'file' is not defined"
          ]
        }
      ]
    },
    {
      "cell_type": "markdown",
      "source": [
        "17. What are the common logging levels in Python?\n",
        "\n",
        "Importance login module login level categorised the severity of events being trapped. They help filter and Paradise messages based on their importance, here are the common login level order from lowest to highest severity:\n",
        "\n",
        "\n",
        "- Debug\n",
        "\n",
        "Detailed information for diagnosing issues"
      ],
      "metadata": {
        "id": "FHd2hLMcbWEG"
      }
    },
    {
      "cell_type": "code",
      "source": [
        "import logging\n",
        "logging.debug(\"Calculating x + y: x=%d, y=%d\", x, y)  # Debugging a calculation"
      ],
      "metadata": {
        "colab": {
          "base_uri": "https://localhost:8080/",
          "height": 315
        },
        "id": "VisUI3oXuVuC",
        "outputId": "348e7eea-8235-4750-aecf-3029bf4e6436"
      },
      "execution_count": null,
      "outputs": [
        {
          "output_type": "error",
          "ename": "NameError",
          "evalue": "name 'x' is not defined",
          "traceback": [
            "\u001b[0;31m---------------------------------------------------------------------------\u001b[0m",
            "\u001b[0;31mNameError\u001b[0m                                 Traceback (most recent call last)",
            "\u001b[0;32m<ipython-input-23-e7302d1e832b>\u001b[0m in \u001b[0;36m<cell line: 0>\u001b[0;34m()\u001b[0m\n\u001b[1;32m      1\u001b[0m \u001b[0;32mimport\u001b[0m \u001b[0mlogging\u001b[0m\u001b[0;34m\u001b[0m\u001b[0;34m\u001b[0m\u001b[0m\n\u001b[0;32m----> 2\u001b[0;31m \u001b[0mlogging\u001b[0m\u001b[0;34m.\u001b[0m\u001b[0mdebug\u001b[0m\u001b[0;34m(\u001b[0m\u001b[0;34m\"Calculating x + y: x=%d, y=%d\"\u001b[0m\u001b[0;34m,\u001b[0m \u001b[0mx\u001b[0m\u001b[0;34m,\u001b[0m \u001b[0my\u001b[0m\u001b[0;34m)\u001b[0m  \u001b[0;31m# Debugging a calculation\u001b[0m\u001b[0;34m\u001b[0m\u001b[0;34m\u001b[0m\u001b[0m\n\u001b[0m",
            "\u001b[0;31mNameError\u001b[0m: name 'x' is not defined"
          ]
        }
      ]
    },
    {
      "cell_type": "markdown",
      "source": [
        "Info\n",
        "\n",
        "Confirm normal program execution or track milestones."
      ],
      "metadata": {
        "id": "3nS_vntJuikJ"
      }
    },
    {
      "cell_type": "code",
      "source": [
        "logging.info(\"Server started on port 8080\")  # Service initialization"
      ],
      "metadata": {
        "id": "kHhrsmhCurkq"
      },
      "execution_count": null,
      "outputs": []
    },
    {
      "cell_type": "markdown",
      "source": [
        "Warning\n",
        "Indicate unexpected out potentially problemattic events"
      ],
      "metadata": {
        "id": "z0uIrOacux6t"
      }
    },
    {
      "cell_type": "code",
      "source": [
        "logging.warning(\"Deprecated API called; migrate to v2\")  # Deprecation notice"
      ],
      "metadata": {
        "colab": {
          "base_uri": "https://localhost:8080/"
        },
        "id": "xo2e7bVpu2dd",
        "outputId": "469c302a-e0d6-45e9-bb04-7ea87e478e9f"
      },
      "execution_count": null,
      "outputs": [
        {
          "output_type": "stream",
          "name": "stderr",
          "text": [
            "WARNING:root:Deprecated API called; migrate to v2\n"
          ]
        }
      ]
    },
    {
      "cell_type": "markdown",
      "source": [
        "Error\n",
        "\n",
        "Log serious issues where the program fails to perform a function."
      ],
      "metadata": {
        "id": "JyZyNriMu-Cx"
      }
    },
    {
      "cell_type": "code",
      "source": [
        "try:\n",
        "    connect_to_database()\n",
        "except DatabaseError as e:\n",
        "    logging.error(\"Database connection failed: %s\", e)  # Critical operation failure"
      ],
      "metadata": {
        "colab": {
          "base_uri": "https://localhost:8080/",
          "height": 714
        },
        "id": "S-KXfiFlvalN",
        "outputId": "1c0b644d-a95d-4535-9223-05afd9bda550"
      },
      "execution_count": null,
      "outputs": [
        {
          "output_type": "error",
          "ename": "NameError",
          "evalue": "name 'DatabaseError' is not defined",
          "traceback": [
            "\u001b[0;31m---------------------------------------------------------------------------\u001b[0m",
            "\u001b[0;31mNameError\u001b[0m                                 Traceback (most recent call last)",
            "\u001b[0;32m<ipython-input-27-123d745fe2f2>\u001b[0m in \u001b[0;36m<cell line: 0>\u001b[0;34m()\u001b[0m\n\u001b[1;32m      1\u001b[0m \u001b[0;32mtry\u001b[0m\u001b[0;34m:\u001b[0m\u001b[0;34m\u001b[0m\u001b[0;34m\u001b[0m\u001b[0m\n\u001b[0;32m----> 2\u001b[0;31m     \u001b[0mconnect_to_database\u001b[0m\u001b[0;34m(\u001b[0m\u001b[0;34m)\u001b[0m\u001b[0;34m\u001b[0m\u001b[0;34m\u001b[0m\u001b[0m\n\u001b[0m\u001b[1;32m      3\u001b[0m \u001b[0;32mexcept\u001b[0m \u001b[0mDatabaseError\u001b[0m \u001b[0;32mas\u001b[0m \u001b[0me\u001b[0m\u001b[0;34m:\u001b[0m\u001b[0;34m\u001b[0m\u001b[0;34m\u001b[0m\u001b[0m\n",
            "\u001b[0;31mNameError\u001b[0m: name 'connect_to_database' is not defined",
            "\nDuring handling of the above exception, another exception occurred:\n",
            "\u001b[0;31mNameError\u001b[0m                                 Traceback (most recent call last)",
            "\u001b[0;32m<ipython-input-27-123d745fe2f2>\u001b[0m in \u001b[0;36m<cell line: 0>\u001b[0;34m()\u001b[0m\n\u001b[1;32m      1\u001b[0m \u001b[0;32mtry\u001b[0m\u001b[0;34m:\u001b[0m\u001b[0;34m\u001b[0m\u001b[0;34m\u001b[0m\u001b[0m\n\u001b[1;32m      2\u001b[0m     \u001b[0mconnect_to_database\u001b[0m\u001b[0;34m(\u001b[0m\u001b[0;34m)\u001b[0m\u001b[0;34m\u001b[0m\u001b[0;34m\u001b[0m\u001b[0m\n\u001b[0;32m----> 3\u001b[0;31m \u001b[0;32mexcept\u001b[0m \u001b[0mDatabaseError\u001b[0m \u001b[0;32mas\u001b[0m \u001b[0me\u001b[0m\u001b[0;34m:\u001b[0m\u001b[0;34m\u001b[0m\u001b[0;34m\u001b[0m\u001b[0m\n\u001b[0m\u001b[1;32m      4\u001b[0m     \u001b[0mlogging\u001b[0m\u001b[0;34m.\u001b[0m\u001b[0merror\u001b[0m\u001b[0;34m(\u001b[0m\u001b[0;34m\"Database connection failed: %s\"\u001b[0m\u001b[0;34m,\u001b[0m \u001b[0me\u001b[0m\u001b[0;34m)\u001b[0m  \u001b[0;31m# Critical operation failure\u001b[0m\u001b[0;34m\u001b[0m\u001b[0;34m\u001b[0m\u001b[0m\n",
            "\u001b[0;31mNameError\u001b[0m: name 'DatabaseError' is not defined"
          ]
        }
      ]
    },
    {
      "cell_type": "markdown",
      "source": [
        "18. What is the difference between os.fork() and multi processing in Python?"
      ],
      "metadata": {
        "id": "hZUkmU2CbZXA"
      }
    },
    {
      "cell_type": "code",
      "source": [
        "import os\n",
        "\n",
        "pid = os.fork()\n",
        "\n",
        "if pid == 0:\n",
        "    # Child process\n",
        "    print(f\"Child PID: {os.getpid()}\")\n",
        "else:\n",
        "    # Parent process\n",
        "    print(f\"Parent PID: {os.getpid()}, child: {pid}\")"
      ],
      "metadata": {
        "colab": {
          "base_uri": "https://localhost:8080/"
        },
        "id": "ekvs-6_EEy7r",
        "outputId": "0b96a569-e794-4fc3-984a-ffb7e38af1e9"
      },
      "execution_count": null,
      "outputs": [
        {
          "output_type": "stream",
          "name": "stdout",
          "text": [
            "Parent PID: 352, child: 58894\n",
            "Child PID: 58894\n"
          ]
        }
      ]
    },
    {
      "cell_type": "code",
      "source": [
        "from multiprocessing import Process\n",
        "\n",
        "def worker():\n",
        "    print(f\"Worker process: {os.getpid()}\")\n",
        "\n",
        "if __name__ == '__main__':\n",
        "    p = Process(target=worker)\n",
        "    p.start()\n",
        "    p.join()"
      ],
      "metadata": {
        "id": "wIHfOenWE3RK"
      },
      "execution_count": null,
      "outputs": []
    },
    {
      "cell_type": "markdown",
      "source": [
        "19. What is the importance of closing a file in Python?\n",
        "\n",
        "\n",
        "Resource Leaks\n",
        "- Each open file consumes memories and file handles.\n",
        "- too many enclose file can crash your program or slow down the system.\n",
        "\n",
        "Data Corruption\n",
        "- when writing to a file, Python buffers data.\n",
        "- the program crashes before closing data may not be saved."
      ],
      "metadata": {
        "id": "pcrV-Z2Xbq9Y"
      }
    },
    {
      "cell_type": "markdown",
      "source": [
        "20. What is the difference between file.read and file.readline () in Python?\n",
        "\n",
        "\n",
        "In python, file.read() and file.readline() are methods used to read data from a file, but they work differently.\n",
        "\n",
        "\n",
        "- file.read()\n",
        "\n",
        " - Read the entire content of the file as a single string.\n",
        " - If if a size arguments is provided it reads up to and character / bytes.\n",
        " - Moves the file pointer to the end of the file after reading."
      ],
      "metadata": {
        "id": "eDpCbTCibvse"
      }
    },
    {
      "cell_type": "code",
      "source": [
        "with open('example.txt', 'r') as file:\n",
        "    content = file.read()  # Reads the whole file\n",
        "    print(content)"
      ],
      "metadata": {
        "colab": {
          "base_uri": "https://localhost:8080/",
          "height": 349
        },
        "id": "hfCcX2SvCtuy",
        "outputId": "bc604909-db3c-4abb-8f8f-2f0a9de0ce07"
      },
      "execution_count": null,
      "outputs": [
        {
          "output_type": "error",
          "ename": "FileNotFoundError",
          "evalue": "[Errno 2] No such file or directory: 'example.txt'",
          "traceback": [
            "\u001b[0;31m---------------------------------------------------------------------------\u001b[0m",
            "\u001b[0;31mFileNotFoundError\u001b[0m                         Traceback (most recent call last)",
            "\u001b[0;32m<ipython-input-34-6c3457629d37>\u001b[0m in \u001b[0;36m<cell line: 0>\u001b[0;34m()\u001b[0m\n\u001b[0;32m----> 1\u001b[0;31m \u001b[0;32mwith\u001b[0m \u001b[0mopen\u001b[0m\u001b[0;34m(\u001b[0m\u001b[0;34m'example.txt'\u001b[0m\u001b[0;34m,\u001b[0m \u001b[0;34m'r'\u001b[0m\u001b[0;34m)\u001b[0m \u001b[0;32mas\u001b[0m \u001b[0mfile\u001b[0m\u001b[0;34m:\u001b[0m\u001b[0;34m\u001b[0m\u001b[0;34m\u001b[0m\u001b[0m\n\u001b[0m\u001b[1;32m      2\u001b[0m     \u001b[0mcontent\u001b[0m \u001b[0;34m=\u001b[0m \u001b[0mfile\u001b[0m\u001b[0;34m.\u001b[0m\u001b[0mread\u001b[0m\u001b[0;34m(\u001b[0m\u001b[0;34m)\u001b[0m  \u001b[0;31m# Reads the whole file\u001b[0m\u001b[0;34m\u001b[0m\u001b[0;34m\u001b[0m\u001b[0m\n\u001b[1;32m      3\u001b[0m     \u001b[0mprint\u001b[0m\u001b[0;34m(\u001b[0m\u001b[0mcontent\u001b[0m\u001b[0;34m)\u001b[0m\u001b[0;34m\u001b[0m\u001b[0;34m\u001b[0m\u001b[0m\n",
            "\u001b[0;31mFileNotFoundError\u001b[0m: [Errno 2] No such file or directory: 'example.txt'"
          ]
        }
      ]
    },
    {
      "cell_type": "markdown",
      "source": [
        "file.readline()\n",
        "\n",
        "- Reads one line at a time from the file\n",
        "- Each call move the file pointer to the next line.\n",
        "- Returns and empty string when the end of the file is reached."
      ],
      "metadata": {
        "id": "qrsPT24vC6hA"
      }
    },
    {
      "cell_type": "code",
      "source": [
        "with open('example.txt', 'r') as file:\n",
        "    line1 = file.readline()  # Reads first line\n",
        "    line2 = file.readline()  # Reads second line\n",
        "    print(line1, line2)"
      ],
      "metadata": {
        "colab": {
          "base_uri": "https://localhost:8080/",
          "height": 402
        },
        "id": "L4V3U3ghDcZ0",
        "outputId": "f73d6790-0aff-4540-d797-882af148a6fd"
      },
      "execution_count": null,
      "outputs": [
        {
          "output_type": "error",
          "ename": "FileNotFoundError",
          "evalue": "[Errno 2] No such file or directory: 'example.txt'",
          "traceback": [
            "\u001b[0;31m---------------------------------------------------------------------------\u001b[0m",
            "\u001b[0;31mFileNotFoundError\u001b[0m                         Traceback (most recent call last)",
            "\u001b[0;32m<ipython-input-35-3d602afe6e78>\u001b[0m in \u001b[0;36m<cell line: 0>\u001b[0;34m()\u001b[0m\n\u001b[0;32m----> 1\u001b[0;31m \u001b[0;32mwith\u001b[0m \u001b[0mopen\u001b[0m\u001b[0;34m(\u001b[0m\u001b[0;34m'example.txt'\u001b[0m\u001b[0;34m,\u001b[0m \u001b[0;34m'r'\u001b[0m\u001b[0;34m)\u001b[0m \u001b[0;32mas\u001b[0m \u001b[0mfile\u001b[0m\u001b[0;34m:\u001b[0m\u001b[0;34m\u001b[0m\u001b[0;34m\u001b[0m\u001b[0m\n\u001b[0m\u001b[1;32m      2\u001b[0m     \u001b[0mline1\u001b[0m \u001b[0;34m=\u001b[0m \u001b[0mfile\u001b[0m\u001b[0;34m.\u001b[0m\u001b[0mreadline\u001b[0m\u001b[0;34m(\u001b[0m\u001b[0;34m)\u001b[0m  \u001b[0;31m# Reads first line\u001b[0m\u001b[0;34m\u001b[0m\u001b[0;34m\u001b[0m\u001b[0m\n\u001b[1;32m      3\u001b[0m     \u001b[0mline2\u001b[0m \u001b[0;34m=\u001b[0m \u001b[0mfile\u001b[0m\u001b[0;34m.\u001b[0m\u001b[0mreadline\u001b[0m\u001b[0;34m(\u001b[0m\u001b[0;34m)\u001b[0m  \u001b[0;31m# Reads second line\u001b[0m\u001b[0;34m\u001b[0m\u001b[0;34m\u001b[0m\u001b[0m\n\u001b[1;32m      4\u001b[0m     \u001b[0mprint\u001b[0m\u001b[0;34m(\u001b[0m\u001b[0mline1\u001b[0m\u001b[0;34m,\u001b[0m \u001b[0mline2\u001b[0m\u001b[0;34m)\u001b[0m\u001b[0;34m\u001b[0m\u001b[0;34m\u001b[0m\u001b[0m\n",
            "\u001b[0;31mFileNotFoundError\u001b[0m: [Errno 2] No such file or directory: 'example.txt'"
          ]
        }
      ]
    },
    {
      "cell_type": "markdown",
      "source": [
        "21. What is the logging module in Python used for?\n",
        "\n",
        "Login model in Python is a built-in library used for tracking events that occurs when a program runs. It helps developers record messages about the execution flow errors warnings and other useful information for debugging and monitoring."
      ],
      "metadata": {
        "id": "UEKr_0bHcAhE"
      }
    },
    {
      "cell_type": "code",
      "source": [
        "import logging\n",
        "\n",
        "# Configure logging (basic setup)\n",
        "logging.basicConfig(level=logging.INFO)\n",
        "\n",
        "# Log messages at different severity levels\n",
        "logging.debug(\"This is a debug message\")  # Not shown (level=INFO)\n",
        "logging.info(\"This is an info message\")   # Shown\n",
        "logging.warning(\"This is a warning\")      # Shown\n",
        "logging.error(\"This is an error\")         # Shown\n",
        "logging.critical(\"Critical failure!\")     # Shown"
      ],
      "metadata": {
        "colab": {
          "base_uri": "https://localhost:8080/"
        },
        "id": "v2_heYT2BdAQ",
        "outputId": "f6e11c47-9858-4b4a-8489-c3a7699e33b6"
      },
      "execution_count": null,
      "outputs": [
        {
          "output_type": "stream",
          "name": "stderr",
          "text": [
            "WARNING:root:This is a warning\n",
            "ERROR:root:This is an error\n",
            "CRITICAL:root:Critical failure!\n"
          ]
        }
      ]
    },
    {
      "cell_type": "markdown",
      "source": [
        "22. What is the os module in Python used for in file handling?\n",
        "\n",
        "The OS modelling Python is a powerful tool for interacting with the operating system commerce specially for file and directory management. While pythons built-in open a function hand is regarding / writing file content the OS model focuses on file system operations path handling, matter data and directory management."
      ],
      "metadata": {
        "id": "bRyv_vwrcGQg"
      }
    },
    {
      "cell_type": "markdown",
      "source": [
        "23. What are the challenges associated with memory management in Python?\n",
        "\n",
        "Memory management in Python is largely automated through mechanism like garbage collections and reference counting, but developers till phase several challenges\n",
        "\n",
        "\n",
        "Global Interpreter Lock\n",
        "\n",
        "- Challenge: The GIL allows only one threat to execute python bytecode at a time limiting parallelism in multi-thread application.\n",
        "\n",
        "- Impact:\n",
        " - CPU-bound tasks don't benefit from multithreading, leading to inefficient CPU and memory usage.\n",
        " - Threads waiting for the GIL may hold onto memory longer than necessary.\n",
        "\n",
        "\n",
        "\n",
        "Cyclic Reference\n",
        "\n",
        "- Challenge: Reference Counting fails when objects reference each other creating memory leaks.\n",
        "\n",
        "Impact:\n",
        "- python's generation garbage collection must run to break cycles adding overhead.\n",
        "- chapter lakes occurs if cycles involves object with__del__methods."
      ],
      "metadata": {
        "id": "pIkGCWaPcLL4"
      }
    },
    {
      "cell_type": "code",
      "source": [
        "class Node:\n",
        "    def __init__(self):\n",
        "        self.parent = None\n",
        "\n",
        "a = Node()\n",
        "b = Node()\n",
        "a.parent = b\n",
        "b.parent = a  # Cyclic reference"
      ],
      "metadata": {
        "id": "S-otvIdm8JAy"
      },
      "execution_count": null,
      "outputs": []
    },
    {
      "cell_type": "markdown",
      "source": [
        "24. How do you raise and exception manually in Python?\n",
        "\n",
        "In Python you can manually rays exception using the rays keyword to signal errors or unexpected condition in your code. This is useful for and forcing constant validating inputs or propagating errors.\n",
        "\n",
        "\n",
        "Basics Syntax\n",
        "\n",
        "Use rays followed by an exception type and optional error message:"
      ],
      "metadata": {
        "id": "fdha8wntcOsB"
      }
    },
    {
      "cell_type": "code",
      "source": [
        "raise ExceptionType(\"Optional error message\")"
      ],
      "metadata": {
        "colab": {
          "base_uri": "https://localhost:8080/",
          "height": 280
        },
        "id": "wAUn4QwR2y0o",
        "outputId": "ba35463a-6c48-4988-c92a-43b91483007a"
      },
      "execution_count": null,
      "outputs": [
        {
          "output_type": "error",
          "ename": "NameError",
          "evalue": "name 'ExceptionType' is not defined",
          "traceback": [
            "\u001b[0;31m---------------------------------------------------------------------------\u001b[0m",
            "\u001b[0;31mNameError\u001b[0m                                 Traceback (most recent call last)",
            "\u001b[0;32m<ipython-input-29-5ed1fcc63446>\u001b[0m in \u001b[0;36m<cell line: 0>\u001b[0;34m()\u001b[0m\n\u001b[0;32m----> 1\u001b[0;31m \u001b[0;32mraise\u001b[0m \u001b[0mExceptionType\u001b[0m\u001b[0;34m(\u001b[0m\u001b[0;34m\"Optional error message\"\u001b[0m\u001b[0;34m)\u001b[0m\u001b[0;34m\u001b[0m\u001b[0;34m\u001b[0m\u001b[0m\n\u001b[0m",
            "\u001b[0;31mNameError\u001b[0m: name 'ExceptionType' is not defined"
          ]
        }
      ]
    },
    {
      "cell_type": "markdown",
      "source": [
        "Raise Built-in Exceptions"
      ],
      "metadata": {
        "id": "tmM-3Q-O3FYO"
      }
    },
    {
      "cell_type": "code",
      "source": [
        "age = -5\n",
        "if age < 0:\n",
        "    raise ValueError(\"Age cannot be negative!\")\n",
        "# Output: ValueError: Age cannot be negative!"
      ],
      "metadata": {
        "colab": {
          "base_uri": "https://localhost:8080/",
          "height": 349
        },
        "id": "6oOKMwE23N5N",
        "outputId": "7b545f6e-0f13-464b-bbbc-1543c04a05b7"
      },
      "execution_count": null,
      "outputs": [
        {
          "output_type": "error",
          "ename": "ValueError",
          "evalue": "Age cannot be negative!",
          "traceback": [
            "\u001b[0;31m---------------------------------------------------------------------------\u001b[0m",
            "\u001b[0;31mValueError\u001b[0m                                Traceback (most recent call last)",
            "\u001b[0;32m<ipython-input-30-37572da2a6af>\u001b[0m in \u001b[0;36m<cell line: 0>\u001b[0;34m()\u001b[0m\n\u001b[1;32m      1\u001b[0m \u001b[0mage\u001b[0m \u001b[0;34m=\u001b[0m \u001b[0;34m-\u001b[0m\u001b[0;36m5\u001b[0m\u001b[0;34m\u001b[0m\u001b[0;34m\u001b[0m\u001b[0m\n\u001b[1;32m      2\u001b[0m \u001b[0;32mif\u001b[0m \u001b[0mage\u001b[0m \u001b[0;34m<\u001b[0m \u001b[0;36m0\u001b[0m\u001b[0;34m:\u001b[0m\u001b[0;34m\u001b[0m\u001b[0;34m\u001b[0m\u001b[0m\n\u001b[0;32m----> 3\u001b[0;31m     \u001b[0;32mraise\u001b[0m \u001b[0mValueError\u001b[0m\u001b[0;34m(\u001b[0m\u001b[0;34m\"Age cannot be negative!\"\u001b[0m\u001b[0;34m)\u001b[0m\u001b[0;34m\u001b[0m\u001b[0;34m\u001b[0m\u001b[0m\n\u001b[0m\u001b[1;32m      4\u001b[0m \u001b[0;31m# Output: ValueError: Age cannot be negative!\u001b[0m\u001b[0;34m\u001b[0m\u001b[0;34m\u001b[0m\u001b[0m\n",
            "\u001b[0;31mValueError\u001b[0m: Age cannot be negative!"
          ]
        }
      ]
    },
    {
      "cell_type": "markdown",
      "source": [
        "25. Why is it important to use multithreading in certain applications?\n",
        "\n",
        "Improved performance for I/O-Bound tasks\n",
        "\n",
        "What: Tasks the wait for external resources can run in parallel.\n",
        "\n",
        "Why: threads allow the CPU to switch to other task during ideal weight Times."
      ],
      "metadata": {
        "id": "0zdvciNUcUaB"
      }
    },
    {
      "cell_type": "code",
      "source": [
        "import threading\n",
        "import requests\n",
        "\n",
        "def fetch_data(url):\n",
        "    response = requests.get(url)\n",
        "    print(f\"Data from {url}: {len(response.content)} bytes\")\n",
        "\n",
        "urls = [\"https://api.com/data1\", \"https://api.com/data2\"]\n",
        "threads = []\n",
        "for url in urls:\n",
        "    thread = threading.Thread(target=fetch_data, args=(url,))\n",
        "    thread.start()\n",
        "    threads.append(thread)\n",
        "for thread in threads:\n",
        "    thread.join()  # Wait for all threads to finish"
      ],
      "metadata": {
        "colab": {
          "base_uri": "https://localhost:8080/"
        },
        "id": "VXvTW5Hbwjub",
        "outputId": "83830414-2536-4657-8f5b-eb14fc77af56"
      },
      "execution_count": null,
      "outputs": [
        {
          "output_type": "stream",
          "name": "stderr",
          "text": [
            "Exception in thread Thread-8 (fetch_data):\n",
            "Traceback (most recent call last):\n",
            "  File \"/usr/local/lib/python3.11/dist-packages/urllib3/connection.py\", line 198, in _new_conn\n",
            "Exception in thread Thread-9 (fetch_data):\n",
            "Traceback (most recent call last):\n",
            "  File \"/usr/local/lib/python3.11/dist-packages/urllib3/connection.py\", line 198, in _new_conn\n",
            "    sock = connection.create_connection(\n",
            "           ^^^^^^^^^^^^^^^^^^^^^^^^^^^^^\n",
            "  File \"/usr/local/lib/python3.11/dist-packages/urllib3/util/connection.py\", line 60, in create_connection\n",
            "    sock = connection.create_connection(\n",
            "           ^^^^^^^^^^^^^^^^^^^^^^^^^^^^^\n",
            "  File \"/usr/local/lib/python3.11/dist-packages/urllib3/util/connection.py\", line 60, in create_connection\n",
            "    for res in socket.getaddrinfo(host, port, family, socket.SOCK_STREAM):\n",
            "               ^^^^^^^^^^^^^^^^^^^^^^^^^^^^^^^^^^^^^^^^^^^^^^^^^^^^^^^^^^\n",
            "  File \"/usr/lib/python3.11/socket.py\", line 974, in getaddrinfo\n",
            "    for res in socket.getaddrinfo(host, port, family, socket.SOCK_STREAM):\n",
            "               ^^^^^^^^^^^^^^^^^^^^^^^^^^^^^^^^^^^^^^^^^^^^^^^^^^^^^^^^^^\n",
            "  File \"/usr/lib/python3.11/socket.py\", line 974, in getaddrinfo\n",
            "    for res in _socket.getaddrinfo(host, port, family, type, proto, flags):\n",
            "               ^^^^^^^^^^^^^^^^^^^^^^^^^^^^^^^^^^^^^^^^^^^^^^^^^^^^^^^^^^^\n",
            "socket.gaierror: [Errno -5] No address associated with hostname\n",
            "\n",
            "The above exception was the direct cause of the following exception:\n",
            "\n",
            "Traceback (most recent call last):\n",
            "  File \"/usr/local/lib/python3.11/dist-packages/urllib3/connectionpool.py\", line 787, in urlopen\n",
            "    for res in _socket.getaddrinfo(host, port, family, type, proto, flags):\n",
            "               ^^^^^^^^^^^^^^^^^^^^^^^^^^^^^^^^^^^^^^^^^^^^^^^^^^^^^^^^^^^\n",
            "socket.gaierror: [Errno -5] No address associated with hostname\n",
            "\n",
            "The above exception was the direct cause of the following exception:\n",
            "\n",
            "Traceback (most recent call last):\n",
            "  File \"/usr/local/lib/python3.11/dist-packages/urllib3/connectionpool.py\", line 787, in urlopen\n",
            "    response = self._make_request(\n",
            "               ^^^^^^^^^^^^^^^^^^^\n",
            "  File \"/usr/local/lib/python3.11/dist-packages/urllib3/connectionpool.py\", line 488, in _make_request\n",
            "    response = self._make_request(\n",
            "               ^^^^^^^^^^^^^^^^^^^\n",
            "  File \"/usr/local/lib/python3.11/dist-packages/urllib3/connectionpool.py\", line 488, in _make_request\n",
            "    raise new_e\n",
            "  File \"/usr/local/lib/python3.11/dist-packages/urllib3/connectionpool.py\", line 464, in _make_request\n",
            "    raise new_e\n",
            "  File \"/usr/local/lib/python3.11/dist-packages/urllib3/connectionpool.py\", line 464, in _make_request\n",
            "    self._validate_conn(conn)\n",
            "  File \"/usr/local/lib/python3.11/dist-packages/urllib3/connectionpool.py\", line 1093, in _validate_conn\n",
            "    conn.connect()\n",
            "  File \"/usr/local/lib/python3.11/dist-packages/urllib3/connection.py\", line 704, in connect\n",
            "    self._validate_conn(conn)\n",
            "  File \"/usr/local/lib/python3.11/dist-packages/urllib3/connectionpool.py\", line 1093, in _validate_conn\n",
            "    conn.connect()\n",
            "  File \"/usr/local/lib/python3.11/dist-packages/urllib3/connection.py\", line 704, in connect\n",
            "    self.sock = sock = self._new_conn()\n",
            "                       ^^^^^^^^^^^^^^^^\n",
            "  File \"/usr/local/lib/python3.11/dist-packages/urllib3/connection.py\", line 205, in _new_conn\n",
            "    self.sock = sock = self._new_conn()\n",
            "                       ^^^^^^^^^^^^^^^^\n",
            "  File \"/usr/local/lib/python3.11/dist-packages/urllib3/connection.py\", line 205, in _new_conn\n",
            "    raise NameResolutionError(self.host, self, e) from e\n",
            "urllib3.exceptions.NameResolutionError: <urllib3.connection.HTTPSConnection object at 0x7ede8c4106d0>: Failed to resolve 'api.com' ([Errno -5] No address associated with hostname)\n",
            "\n",
            "The above exception was the direct cause of the following exception:\n",
            "\n",
            "Traceback (most recent call last):\n",
            "  File \"/usr/local/lib/python3.11/dist-packages/requests/adapters.py\", line 667, in send\n",
            "    raise NameResolutionError(self.host, self, e) from e\n",
            "urllib3.exceptions.NameResolutionError: <urllib3.connection.HTTPSConnection object at 0x7ede8c813b90>: Failed to resolve 'api.com' ([Errno -5] No address associated with hostname)\n",
            "\n",
            "The above exception was the direct cause of the following exception:\n",
            "\n",
            "Traceback (most recent call last):\n",
            "  File \"/usr/local/lib/python3.11/dist-packages/requests/adapters.py\", line 667, in send\n",
            "    resp = conn.urlopen(\n",
            "           ^^^^^^^^^^^^^\n",
            "  File \"/usr/local/lib/python3.11/dist-packages/urllib3/connectionpool.py\", line 841, in urlopen\n",
            "    retries = retries.increment(\n",
            "              ^^^^^^^^^^^^^^^^^^\n",
            "  File \"/usr/local/lib/python3.11/dist-packages/urllib3/util/retry.py\", line 519, in increment\n",
            "    resp = conn.urlopen(\n",
            "           ^^^^^^^^^^^^^\n",
            "  File \"/usr/local/lib/python3.11/dist-packages/urllib3/connectionpool.py\", line 841, in urlopen\n",
            "    retries = retries.increment(\n",
            "              ^^^^^^^^^^^^^^^^^^\n",
            "  File \"/usr/local/lib/python3.11/dist-packages/urllib3/util/retry.py\", line 519, in increment\n",
            "    raise MaxRetryError(_pool, url, reason) from reason  # type: ignore[arg-type]\n",
            "    ^^^^^^^^^^^^^^^^^^^^^^^^^^^^^^^^^^^^^^^^^^^^^^^^^^^\n",
            "urllib3.exceptions.MaxRetryError: HTTPSConnectionPool(host='api.com', port=443): Max retries exceeded with url: /data1 (Caused by NameResolutionError(\"<urllib3.connection.HTTPSConnection object at 0x7ede8c813b90>: Failed to resolve 'api.com' ([Errno -5] No address associated with hostname)\"))\n",
            "\n",
            "During handling of the above exception, another exception occurred:\n",
            "\n",
            "Traceback (most recent call last):\n",
            "  File \"/usr/lib/python3.11/threading.py\", line 1045, in _bootstrap_inner\n",
            "    raise MaxRetryError(_pool, url, reason) from reason  # type: ignore[arg-type]\n",
            "    ^^^^^^^^^^^^^^^^^^^^^^^^^^^^^^^^^^^^^^^^^^^^^^^^^^^\n",
            "urllib3.exceptions.MaxRetryError: HTTPSConnectionPool(host='api.com', port=443): Max retries exceeded with url: /data2 (Caused by NameResolutionError(\"<urllib3.connection.HTTPSConnection object at 0x7ede8c4106d0>: Failed to resolve 'api.com' ([Errno -5] No address associated with hostname)\"))\n",
            "\n",
            "During handling of the above exception, another exception occurred:\n",
            "\n",
            "Traceback (most recent call last):\n",
            "  File \"/usr/lib/python3.11/threading.py\", line 1045, in _bootstrap_inner\n",
            "    self.run()\n",
            "  File \"/usr/lib/python3.11/threading.py\", line 982, in run\n",
            "    self.run()\n",
            "  File \"/usr/lib/python3.11/threading.py\", line 982, in run\n",
            "    self._target(*self._args, **self._kwargs)\n",
            "  File \"<ipython-input-28-b34d917335a9>\", line 5, in fetch_data\n",
            "  File \"/usr/local/lib/python3.11/dist-packages/requests/api.py\", line 73, in get\n",
            "    self._target(*self._args, **self._kwargs)\n",
            "  File \"<ipython-input-28-b34d917335a9>\", line 5, in fetch_data\n",
            "  File \"/usr/local/lib/python3.11/dist-packages/requests/api.py\", line 73, in get\n",
            "    return request(\"get\", url, params=params, **kwargs)\n",
            "           ^^^^^^^^^^^^^^^^^^^^^^^^^^^^^^^^^^^^^^^^^^^^\n",
            "  File \"/usr/local/lib/python3.11/dist-packages/requests/api.py\", line 59, in request\n",
            "    return request(\"get\", url, params=params, **kwargs)\n",
            "           ^^^^^^^^^^^^^^^^^^^^^^^^^^^^^^^^^^^^^^^^^^^^\n",
            "  File \"/usr/local/lib/python3.11/dist-packages/requests/api.py\", line 59, in request\n",
            "    return session.request(method=method, url=url, **kwargs)\n",
            "           ^^^^^^^^^^^^^^^^^^^^^^^^^^^^^^^^^^^^^^^^^^^^^^^^^\n",
            "  File \"/usr/local/lib/python3.11/dist-packages/requests/sessions.py\", line 589, in request\n",
            "    return session.request(method=method, url=url, **kwargs)\n",
            "           ^^^^^^^^^^^^^^^^^^^^^^^^^^^^^^^^^^^^^^^^^^^^^^^^^\n",
            "  File \"/usr/local/lib/python3.11/dist-packages/requests/sessions.py\", line 589, in request\n",
            "    resp = self.send(prep, **send_kwargs)\n",
            "           ^^^^^^^^^^^^^^^^^^^^^^^^^^^^^^\n",
            "  File \"/usr/local/lib/python3.11/dist-packages/requests/sessions.py\", line 703, in send\n",
            "    resp = self.send(prep, **send_kwargs)\n",
            "           ^^^^^^^^^^^^^^^^^^^^^^^^^^^^^^\n",
            "  File \"/usr/local/lib/python3.11/dist-packages/requests/sessions.py\", line 703, in send\n",
            "    r = adapter.send(request, **kwargs)\n",
            "        ^^^^^^^^^^^^^^^^^^^^^^^^^^^^^^^\n",
            "  File \"/usr/local/lib/python3.11/dist-packages/requests/adapters.py\", line 700, in send\n",
            "    r = adapter.send(request, **kwargs)\n",
            "        ^^^^^^^^^^^^^^^^^^^^^^^^^^^^^^^\n",
            "  File \"/usr/local/lib/python3.11/dist-packages/requests/adapters.py\", line 700, in send\n",
            "    raise ConnectionError(e, request=request)\n",
            "requests.exceptions.ConnectionError: HTTPSConnectionPool(host='api.com', port=443): Max retries exceeded with url: /data2 (Caused by NameResolutionError(\"<urllib3.connection.HTTPSConnection object at 0x7ede8c4106d0>: Failed to resolve 'api.com' ([Errno -5] No address associated with hostname)\"))\n",
            "    raise ConnectionError(e, request=request)\n",
            "requests.exceptions.ConnectionError: HTTPSConnectionPool(host='api.com', port=443): Max retries exceeded with url: /data1 (Caused by NameResolutionError(\"<urllib3.connection.HTTPSConnection object at 0x7ede8c813b90>: Failed to resolve 'api.com' ([Errno -5] No address associated with hostname)\"))\n"
          ]
        }
      ]
    },
    {
      "cell_type": "markdown",
      "source": [
        "###Practical Questions"
      ],
      "metadata": {
        "id": "Rn9HHaTsGyld"
      }
    },
    {
      "cell_type": "markdown",
      "source": [
        "1. How can you open a file for writing in Python and write a string to it?"
      ],
      "metadata": {
        "id": "jr8eDMZOG4jc"
      }
    },
    {
      "cell_type": "code",
      "source": [
        "# Opens file in write mode (creates new/overwrites existing)\n",
        "with open('example.txt', 'w') as file:\n",
        "    file.write(\"Hello, World!\")  # Writes a string"
      ],
      "metadata": {
        "id": "-vv4yoQPG9fp"
      },
      "execution_count": null,
      "outputs": []
    },
    {
      "cell_type": "code",
      "source": [
        "# Opens file in append mode (adds to existing content)\n",
        "with open('example.txt', 'a') as file:\n",
        "    file.write(\"\\nThis is a new line.\")  # Appends a string"
      ],
      "metadata": {
        "id": "5kw7AF1ZHe_6"
      },
      "execution_count": null,
      "outputs": []
    },
    {
      "cell_type": "code",
      "source": [
        "lines = [\"First line\\n\", \"Second line\\n\", \"Third line\\n\"]\n",
        "with open('example.txt', 'w') as file:\n",
        "    file.writelines(lines)  # Writes a list of strings"
      ],
      "metadata": {
        "id": "wkp8C6a6Hiq_"
      },
      "execution_count": null,
      "outputs": []
    },
    {
      "cell_type": "code",
      "source": [
        "file = open('example.txt', 'w')  # Requires manual close()\n",
        "try:\n",
        "    file.write(\"Manual write example\")\n",
        "finally:\n",
        "    file.close()  # Always close to avoid resource leaks"
      ],
      "metadata": {
        "id": "Yz-hclnuHlyQ"
      },
      "execution_count": null,
      "outputs": []
    },
    {
      "cell_type": "markdown",
      "source": [
        "2. Write a Python program to read the content of a file and print each line."
      ],
      "metadata": {
        "id": "0tFPdfXQH6D5"
      }
    },
    {
      "cell_type": "code",
      "source": [
        "# Open the file in read mode\n",
        "with open('example.txt', 'r') as file:\n",
        "    # Read and print each line\n",
        "    for line in file:\n",
        "        print(line, end='')  # end='' removes extra newlines (since lines already contain them)"
      ],
      "metadata": {
        "colab": {
          "base_uri": "https://localhost:8080/"
        },
        "id": "owd1s-DqIG85",
        "outputId": "2dc28fba-e251-492a-fffb-3d33df4a9da8"
      },
      "execution_count": null,
      "outputs": [
        {
          "output_type": "stream",
          "name": "stdout",
          "text": [
            "Manual write example"
          ]
        }
      ]
    },
    {
      "cell_type": "markdown",
      "source": [
        "3. How would you handle a case where a file does an exit while trying to open it for reading?"
      ],
      "metadata": {
        "id": "Uug3JbmGIShR"
      }
    },
    {
      "cell_type": "code",
      "source": [
        "###Using try-except\n",
        "file_path = \"example.txt\"\n",
        "\n",
        "try:\n",
        "    with open(file_path, 'r') as file:\n",
        "        for line in file:\n",
        "            print(line, end='')\n",
        "except FileNotFoundError:\n",
        "    print(f\"Error: The file '{file_path}' does not exist.\")\n",
        "except IOError as e:\n",
        "    print(f\"Error reading the file: {e}\")"
      ],
      "metadata": {
        "colab": {
          "base_uri": "https://localhost:8080/"
        },
        "id": "sj_EG3d1I-hi",
        "outputId": "4b69e6f5-3293-41c3-85f3-c46efc947088"
      },
      "execution_count": null,
      "outputs": [
        {
          "output_type": "stream",
          "name": "stdout",
          "text": [
            "Manual write example"
          ]
        }
      ]
    },
    {
      "cell_type": "code",
      "source": [
        "###Check File Existence First\n",
        "\n",
        "import os\n",
        "\n",
        "file_path = \"example.txt\"\n",
        "\n",
        "if os.path.exists(file_path):  # Check if file exists\n",
        "    with open(file_path, 'r') as file:\n",
        "        for line in file:\n",
        "            print(line, end='')\n",
        "else:\n",
        "    print(f\"Error: File '{file_path}' not found.\")"
      ],
      "metadata": {
        "colab": {
          "base_uri": "https://localhost:8080/"
        },
        "id": "QeunJY2IJTbq",
        "outputId": "7852eb13-84ae-45f4-a12b-5e00d01fea17"
      },
      "execution_count": null,
      "outputs": [
        {
          "output_type": "stream",
          "name": "stdout",
          "text": [
            "Manual write example"
          ]
        }
      ]
    },
    {
      "cell_type": "markdown",
      "source": [
        "4. Write a python script that reads from one file and write its content to another file."
      ],
      "metadata": {
        "id": "VIjtU2s1JpQh"
      }
    },
    {
      "cell_type": "code",
      "source": [
        "def copy_file_content(source_file, destination_file):\n",
        "    try:\n",
        "        # Open source file for reading\n",
        "        with open(source_file, 'r') as src:\n",
        "            # Read all content from source file\n",
        "            content = src.read()\n",
        "\n",
        "            # Open destination file for writing\n",
        "            with open(destination_file, 'w') as dest:\n",
        "                # Write content to destination file\n",
        "                dest.write(content)\n",
        "\n",
        "        print(f\"Successfully copied content from '{source_file}' to '{destination_file}'\")\n",
        "\n",
        "    except FileNotFoundError:\n",
        "        print(f\"Error: The file '{source_file}' does not exist.\")\n",
        "    except PermissionError:\n",
        "        print(f\"Error: Permission denied when accessing files.\")\n",
        "    except IOError as e:\n",
        "        print(f\"Error occurred while copying: {e}\")\n",
        "    except Exception as e:\n",
        "        print(f\"An unexpected error occurred: {e}\")\n",
        "\n",
        "# Example usage:\n",
        "source_path = \"input.txt\"      # File to read from\n",
        "destination_path = \"output.txt\" # File to write to\n",
        "\n",
        "copy_file_content(source_path, destination_path)"
      ],
      "metadata": {
        "colab": {
          "base_uri": "https://localhost:8080/"
        },
        "id": "HZbsELMEJ0Xi",
        "outputId": "1f178e60-144b-4110-a263-b51224babc22"
      },
      "execution_count": null,
      "outputs": [
        {
          "output_type": "stream",
          "name": "stdout",
          "text": [
            "Error: The file 'input.txt' does not exist.\n"
          ]
        }
      ]
    },
    {
      "cell_type": "markdown",
      "source": [
        "5. How would you catch an handle division by zero error in Python?"
      ],
      "metadata": {
        "id": "N4dmq2_qJ-rp"
      }
    },
    {
      "cell_type": "code",
      "source": [
        "\n",
        "def safe_divide(numerator, denominator):\n",
        "    try:\n",
        "        result = numerator / denominator\n",
        "    except ZeroDivisionError:\n",
        "        print(f\"Error: Cannot divide {numerator} by zero!\")\n",
        "        return None  # or handle differently\n",
        "    except TypeError:\n",
        "        print(\"Error: Please provide numbers only!\")\n",
        "        return None\n",
        "    else:\n",
        "        print(f\"Division successful: {result}\")\n",
        "        return result\n",
        "    finally:\n",
        "        print(\"Division operation attempted\")\n",
        "\n",
        "# Usage examples\n",
        "safe_divide(10, 2)   # Success case\n",
        "safe_divide(10, 0)   # Division by zero\n",
        "safe_divide(10, 'a') # Wrong type"
      ],
      "metadata": {
        "colab": {
          "base_uri": "https://localhost:8080/"
        },
        "id": "_GZMyzqPKXdK",
        "outputId": "7676f2ea-144e-4aca-bd66-41ddff6dae12"
      },
      "execution_count": null,
      "outputs": [
        {
          "output_type": "stream",
          "name": "stdout",
          "text": [
            "Division successful: 5.0\n",
            "Division operation attempted\n",
            "Error: Cannot divide 10 by zero!\n",
            "Division operation attempted\n",
            "Error: Please provide numbers only!\n",
            "Division operation attempted\n"
          ]
        }
      ]
    },
    {
      "cell_type": "markdown",
      "source": [
        "6. Write a pattern program that loss and error message to a love file when it division by zero exception occurs."
      ],
      "metadata": {
        "id": "scnK_wgTKZqd"
      }
    },
    {
      "cell_type": "code",
      "source": [
        "import logging\n",
        "from datetime import datetime\n",
        "\n",
        "# Configure logging to write to a file\n",
        "logging.basicConfig(\n",
        "    filename='division_errors.log',\n",
        "    level=logging.ERROR,\n",
        "    format='%(asctime)s - %(levelname)s - %(message)s'\n",
        ")\n",
        "\n",
        "def safe_divide(dividend, divisor):\n",
        "    \"\"\"\n",
        "    Performs division and logs errors to file\n",
        "    Returns:\n",
        "        float: Result of division or None if error occurs\n",
        "    \"\"\"\n",
        "    try:\n",
        "        result = dividend / divisor\n",
        "        print(f\"Result: {result}\")\n",
        "        return result\n",
        "    except ZeroDivisionError:\n",
        "        error_msg = f\"Division by zero attempted: {dividend}/{divisor}\"\n",
        "        logging.error(error_msg)\n",
        "        print(f\"Error: {error_msg} (logged to file)\")\n",
        "        return None\n",
        "    except TypeError as e:\n",
        "        error_msg = f\"Invalid input type: {e}\"\n",
        "        logging.error(error_msg)\n",
        "        print(f\"Error: {error_msg} (logged to file)\")\n",
        "        return None\n",
        "\n",
        "# Test cases\n",
        "if __name__ == \"__main__\":\n",
        "    print(\"Division Operations:\")\n",
        "    safe_divide(10, 2)    # Successful division\n",
        "    safe_divide(10, 0)    # Division by zero (will be logged)\n",
        "    safe_divide(10, 'a')  # Type error (will be logged)"
      ],
      "metadata": {
        "colab": {
          "base_uri": "https://localhost:8080/"
        },
        "id": "iW4c2Ei0Kipp",
        "outputId": "e42a97db-bd35-4de2-d315-22ebbcc057b9"
      },
      "execution_count": null,
      "outputs": [
        {
          "output_type": "stream",
          "name": "stderr",
          "text": [
            "ERROR:root:Division by zero attempted: 10/0\n",
            "ERROR:root:Invalid input type: unsupported operand type(s) for /: 'int' and 'str'\n"
          ]
        },
        {
          "output_type": "stream",
          "name": "stdout",
          "text": [
            "Division Operations:\n",
            "Result: 5.0\n",
            "Error: Division by zero attempted: 10/0 (logged to file)\n",
            "Error: Invalid input type: unsupported operand type(s) for /: 'int' and 'str' (logged to file)\n"
          ]
        }
      ]
    },
    {
      "cell_type": "markdown",
      "source": [
        "7. How do you login formation at different levels(INFO, ERROR, WARNING in Python using the logging module?"
      ],
      "metadata": {
        "id": "1AntTjRUKqds"
      }
    },
    {
      "cell_type": "code",
      "source": [
        "import logging\n",
        "\n",
        "# Configure logging (basic setup)\n",
        "logging.basicConfig(\n",
        "    level=logging.INFO,  # Minimum level to capture\n",
        "    format='%(asctime)s - %(levelname)s - %(message)s',\n",
        "    filename='app.log'  # Log to file (optional)\n",
        ")\n",
        "\n",
        "# Log messages at different levels\n",
        "logging.debug(\"Debug message (won't be shown)\")    # Level 10\n",
        "logging.info(\"Informational message\")             # Level 20\n",
        "logging.warning(\"Warning message\")                # Level 30\n",
        "logging.error(\"Error message\")                    # Level 40\n",
        "logging.critical(\"Critical error!\")               # Level 50"
      ],
      "metadata": {
        "colab": {
          "base_uri": "https://localhost:8080/"
        },
        "id": "g1X_AK8LK_b7",
        "outputId": "551f48e6-d2a5-4650-81b6-c952f6088bfe"
      },
      "execution_count": null,
      "outputs": [
        {
          "output_type": "stream",
          "name": "stderr",
          "text": [
            "WARNING:root:Warning message\n",
            "ERROR:root:Error message\n",
            "CRITICAL:root:Critical error!\n"
          ]
        }
      ]
    },
    {
      "cell_type": "code",
      "source": [
        "import logging\n",
        "\n",
        "# Create logger\n",
        "logger = logging.getLogger(__name__)\n",
        "logger.setLevel(logging.DEBUG)  # Set minimum level\n",
        "\n",
        "# Create console handler (for WARNING+)\n",
        "console_handler = logging.StreamHandler()\n",
        "console_handler.setLevel(logging.WARNING)\n",
        "console_format = logging.Formatter('%(levelname)s - %(message)s')\n",
        "console_handler.setFormatter(console_format)\n",
        "\n",
        "# Create file handler (for INFO+)\n",
        "file_handler = logging.FileHandler('app.log')\n",
        "file_handler.setLevel(logging.INFO)\n",
        "file_format = logging.Formatter('%(asctime)s - %(name)s - %(levelname)s - %(message)s')\n",
        "file_handler.setFormatter(file_format)\n",
        "\n",
        "# Add handlers to logger\n",
        "logger.addHandler(console_handler)\n",
        "logger.addHandler(file_handler)\n",
        "\n",
        "# Usage\n",
        "logger.debug(\"Debug details\")      # File only\n",
        "logger.info(\"System started\")      # File only\n",
        "logger.warning(\"Low disk space\")   # Console + file\n",
        "logger.error(\"API failed\")         # Console + file"
      ],
      "metadata": {
        "colab": {
          "base_uri": "https://localhost:8080/"
        },
        "id": "DXXOLgoWLZtN",
        "outputId": "3123a16a-4a50-4787-95bc-8475d1389bf6"
      },
      "execution_count": null,
      "outputs": [
        {
          "output_type": "stream",
          "name": "stderr",
          "text": [
            "DEBUG:__main__:Debug details\n",
            "INFO:__main__:System started\n",
            "WARNING - Low disk space\n",
            "WARNING:__main__:Low disk space\n",
            "ERROR - API failed\n",
            "ERROR:__main__:API failed\n"
          ]
        }
      ]
    },
    {
      "cell_type": "markdown",
      "source": [
        "8. Write a program to handle a file opening error using exception handling."
      ],
      "metadata": {
        "id": "Qp4LNA2NLsVW"
      }
    },
    {
      "cell_type": "code",
      "source": [
        "import logging\n",
        "import sys\n",
        "\n",
        "# Configure logging\n",
        "logging.basicConfig(\n",
        "    level=logging.ERROR,\n",
        "    format='%(asctime)s - %(levelname)s - %(message)s',\n",
        "    filename='file_errors.log'\n",
        ")\n",
        "\n",
        "def read_file_safely(file_path):\n",
        "    \"\"\"\n",
        "    Safely reads and returns file content with comprehensive error handling\n",
        "    Returns: File content if successful, None otherwise\n",
        "    \"\"\"\n",
        "    try:\n",
        "        with open(file_path, 'r') as file:\n",
        "            content = file.read()\n",
        "            print(\"File read successfully!\")\n",
        "            return content\n",
        "\n",
        "    except FileNotFoundError:\n",
        "        error_msg = f\"Error: File '{file_path}' not found\"\n",
        "        print(error_msg)\n",
        "        logging.error(error_msg)\n",
        "\n",
        "    except PermissionError:\n",
        "        error_msg = f\"Error: Permission denied for '{file_path}'\"\n",
        "        print(error_msg)\n",
        "        logging.error(error_msg)\n",
        "\n",
        "    except IsADirectoryError:\n",
        "        error_msg = f\"Error: '{file_path}' is a directory, not a file\"\n",
        "        print(error_msg)\n",
        "        logging.error(error_msg)\n",
        "\n",
        "    except UnicodeDecodeError:\n",
        "        error_msg = f\"Error: Could not decode file '{file_path}' (try binary mode?)\"\n",
        "        print(error_msg)\n",
        "        logging.error(error_msg)\n",
        "\n",
        "    except IOError as e:\n",
        "        error_msg = f\"I/O Error ({e.errno}): {e.strerror} for '{file_path}'\"\n",
        "        print(error_msg)\n",
        "        logging.error(error_msg)\n",
        "\n",
        "    except Exception as e:\n",
        "        error_msg = f\"Unexpected error reading '{file_path}': {str(e)}\"\n",
        "        print(error_msg)\n",
        "        logging.error(error_msg, exc_info=True)\n",
        "\n",
        "    return None\n",
        "\n",
        "def main():\n",
        "    if len(sys.argv) < 2:\n",
        "        print(\"Usage: python file_handler.py <file_path>\")\n",
        "        return\n",
        "\n",
        "    file_path = sys.argv[1]\n",
        "    print(f\"\\nAttempting to read: {file_path}\")\n",
        "\n",
        "    content = read_file_safely(file_path)\n",
        "    if content:\n",
        "        print(\"\\nFile content preview:\")\n",
        "        print(content[:200] + (\"...\" if len(content) > 200 else \"\"))\n",
        "\n",
        "if __name__ == \"__main__\":\n",
        "    main()"
      ],
      "metadata": {
        "colab": {
          "base_uri": "https://localhost:8080/"
        },
        "id": "XSyRvE8fMhI1",
        "outputId": "d585e789-71d4-4836-8fb0-f4d24bd74b8a"
      },
      "execution_count": null,
      "outputs": [
        {
          "output_type": "stream",
          "name": "stderr",
          "text": [
            "ERROR Error: File '-f' not found\n"
          ]
        },
        {
          "output_type": "stream",
          "name": "stdout",
          "text": [
            "\n",
            "Attempting to read: -f\n",
            "Error: File '-f' not found\n"
          ]
        }
      ]
    },
    {
      "cell_type": "markdown",
      "source": [
        "9. How can you read a file line by line and store its content in a list in Python?"
      ],
      "metadata": {
        "id": "SoPywChRMmJX"
      }
    },
    {
      "cell_type": "code",
      "source": [
        "with open('file.txt', 'r') as file:\n",
        "    lines = file.readlines()  # Returns list of lines (including \\n characters)\n",
        "    lines = [line.strip() for line in lines]  # Remove \\n if needed"
      ],
      "metadata": {
        "colab": {
          "base_uri": "https://localhost:8080/",
          "height": 402
        },
        "id": "VOWLmU1cMwIs",
        "outputId": "67a2516f-ce1b-47df-9cea-3ed51a78064b"
      },
      "execution_count": null,
      "outputs": [
        {
          "output_type": "error",
          "ename": "FileNotFoundError",
          "evalue": "[Errno 2] No such file or directory: 'file.txt'",
          "traceback": [
            "\u001b[0;31m---------------------------------------------------------------------------\u001b[0m",
            "\u001b[0;31mFileNotFoundError\u001b[0m                         Traceback (most recent call last)",
            "\u001b[0;32m<ipython-input-16-99062228f66a>\u001b[0m in \u001b[0;36m<cell line: 0>\u001b[0;34m()\u001b[0m\n\u001b[0;32m----> 1\u001b[0;31m \u001b[0;32mwith\u001b[0m \u001b[0mopen\u001b[0m\u001b[0;34m(\u001b[0m\u001b[0;34m'file.txt'\u001b[0m\u001b[0;34m,\u001b[0m \u001b[0;34m'r'\u001b[0m\u001b[0;34m)\u001b[0m \u001b[0;32mas\u001b[0m \u001b[0mfile\u001b[0m\u001b[0;34m:\u001b[0m\u001b[0;34m\u001b[0m\u001b[0;34m\u001b[0m\u001b[0m\n\u001b[0m\u001b[1;32m      2\u001b[0m     \u001b[0mlines\u001b[0m \u001b[0;34m=\u001b[0m \u001b[0mfile\u001b[0m\u001b[0;34m.\u001b[0m\u001b[0mreadlines\u001b[0m\u001b[0;34m(\u001b[0m\u001b[0;34m)\u001b[0m  \u001b[0;31m# Returns list of lines (including \\n characters)\u001b[0m\u001b[0;34m\u001b[0m\u001b[0;34m\u001b[0m\u001b[0m\n\u001b[1;32m      3\u001b[0m     \u001b[0mlines\u001b[0m \u001b[0;34m=\u001b[0m \u001b[0;34m[\u001b[0m\u001b[0mline\u001b[0m\u001b[0;34m.\u001b[0m\u001b[0mstrip\u001b[0m\u001b[0;34m(\u001b[0m\u001b[0;34m)\u001b[0m \u001b[0;32mfor\u001b[0m \u001b[0mline\u001b[0m \u001b[0;32min\u001b[0m \u001b[0mlines\u001b[0m\u001b[0;34m]\u001b[0m  \u001b[0;31m# Remove \\n if needed\u001b[0m\u001b[0;34m\u001b[0m\u001b[0;34m\u001b[0m\u001b[0m\n",
            "\u001b[0;31mFileNotFoundError\u001b[0m: [Errno 2] No such file or directory: 'file.txt'"
          ]
        }
      ]
    },
    {
      "cell_type": "code",
      "source": [
        "with open('file.txt', 'r') as file:\n",
        "    lines = [line.strip() for line in file]  # Implicit iteration"
      ],
      "metadata": {
        "colab": {
          "base_uri": "https://localhost:8080/",
          "height": 332
        },
        "id": "hia2Kb4CNxfO",
        "outputId": "f059eda2-77c0-494e-ad87-aff4cca85542"
      },
      "execution_count": null,
      "outputs": [
        {
          "output_type": "error",
          "ename": "FileNotFoundError",
          "evalue": "[Errno 2] No such file or directory: 'file.txt'",
          "traceback": [
            "\u001b[0;31m---------------------------------------------------------------------------\u001b[0m",
            "\u001b[0;31mFileNotFoundError\u001b[0m                         Traceback (most recent call last)",
            "\u001b[0;32m<ipython-input-17-3bd502b35bc8>\u001b[0m in \u001b[0;36m<cell line: 0>\u001b[0;34m()\u001b[0m\n\u001b[0;32m----> 1\u001b[0;31m \u001b[0;32mwith\u001b[0m \u001b[0mopen\u001b[0m\u001b[0;34m(\u001b[0m\u001b[0;34m'file.txt'\u001b[0m\u001b[0;34m,\u001b[0m \u001b[0;34m'r'\u001b[0m\u001b[0;34m)\u001b[0m \u001b[0;32mas\u001b[0m \u001b[0mfile\u001b[0m\u001b[0;34m:\u001b[0m\u001b[0;34m\u001b[0m\u001b[0;34m\u001b[0m\u001b[0m\n\u001b[0m\u001b[1;32m      2\u001b[0m     \u001b[0mlines\u001b[0m \u001b[0;34m=\u001b[0m \u001b[0;34m[\u001b[0m\u001b[0mline\u001b[0m\u001b[0;34m.\u001b[0m\u001b[0mstrip\u001b[0m\u001b[0;34m(\u001b[0m\u001b[0;34m)\u001b[0m \u001b[0;32mfor\u001b[0m \u001b[0mline\u001b[0m \u001b[0;32min\u001b[0m \u001b[0mfile\u001b[0m\u001b[0;34m]\u001b[0m  \u001b[0;31m# Implicit iteration\u001b[0m\u001b[0;34m\u001b[0m\u001b[0;34m\u001b[0m\u001b[0m\n",
            "\u001b[0;31mFileNotFoundError\u001b[0m: [Errno 2] No such file or directory: 'file.txt'"
          ]
        }
      ]
    },
    {
      "cell_type": "code",
      "source": [
        "with open('file.txt', 'r') as file:\n",
        "    lines = list(file)  # Convert file iterator to list\n",
        "    lines = [line.strip() for line in lines]  # Clean lines"
      ],
      "metadata": {
        "colab": {
          "base_uri": "https://localhost:8080/",
          "height": 367
        },
        "id": "LiQYQJnZN2NM",
        "outputId": "0efc2818-ecaa-4f22-f3ba-74b64ab6c471"
      },
      "execution_count": null,
      "outputs": [
        {
          "output_type": "error",
          "ename": "FileNotFoundError",
          "evalue": "[Errno 2] No such file or directory: 'file.txt'",
          "traceback": [
            "\u001b[0;31m---------------------------------------------------------------------------\u001b[0m",
            "\u001b[0;31mFileNotFoundError\u001b[0m                         Traceback (most recent call last)",
            "\u001b[0;32m<ipython-input-18-467a59bba817>\u001b[0m in \u001b[0;36m<cell line: 0>\u001b[0;34m()\u001b[0m\n\u001b[0;32m----> 1\u001b[0;31m \u001b[0;32mwith\u001b[0m \u001b[0mopen\u001b[0m\u001b[0;34m(\u001b[0m\u001b[0;34m'file.txt'\u001b[0m\u001b[0;34m,\u001b[0m \u001b[0;34m'r'\u001b[0m\u001b[0;34m)\u001b[0m \u001b[0;32mas\u001b[0m \u001b[0mfile\u001b[0m\u001b[0;34m:\u001b[0m\u001b[0;34m\u001b[0m\u001b[0;34m\u001b[0m\u001b[0m\n\u001b[0m\u001b[1;32m      2\u001b[0m     \u001b[0mlines\u001b[0m \u001b[0;34m=\u001b[0m \u001b[0mlist\u001b[0m\u001b[0;34m(\u001b[0m\u001b[0mfile\u001b[0m\u001b[0;34m)\u001b[0m  \u001b[0;31m# Convert file iterator to list\u001b[0m\u001b[0;34m\u001b[0m\u001b[0;34m\u001b[0m\u001b[0m\n\u001b[1;32m      3\u001b[0m     \u001b[0mlines\u001b[0m \u001b[0;34m=\u001b[0m \u001b[0;34m[\u001b[0m\u001b[0mline\u001b[0m\u001b[0;34m.\u001b[0m\u001b[0mstrip\u001b[0m\u001b[0;34m(\u001b[0m\u001b[0;34m)\u001b[0m \u001b[0;32mfor\u001b[0m \u001b[0mline\u001b[0m \u001b[0;32min\u001b[0m \u001b[0mlines\u001b[0m\u001b[0;34m]\u001b[0m  \u001b[0;31m# Clean lines\u001b[0m\u001b[0;34m\u001b[0m\u001b[0;34m\u001b[0m\u001b[0m\n",
            "\u001b[0;31mFileNotFoundError\u001b[0m: [Errno 2] No such file or directory: 'file.txt'"
          ]
        }
      ]
    },
    {
      "cell_type": "markdown",
      "source": [
        "10. How can you append data to an existing file and python?"
      ],
      "metadata": {
        "id": "1Lcz0wHgOeIC"
      }
    },
    {
      "cell_type": "code",
      "source": [
        "with open('example.txt', 'a') as file:\n",
        "    file.write(\"This text will be appended.\\n\")\n",
        "    file.write(\"Another line of text.\\n\")"
      ],
      "metadata": {
        "id": "KEdEFLmdYYx-"
      },
      "execution_count": null,
      "outputs": []
    },
    {
      "cell_type": "markdown",
      "source": [
        "11. Write a Python program that uses a try-accept block to handle and error when attempting to access a dictionary key that doesn't exist."
      ],
      "metadata": {
        "id": "eHItFwPJO_nq"
      }
    },
    {
      "cell_type": "code",
      "source": [
        "def access_dictionary_value(dictionary, key):\n",
        "    \"\"\"\n",
        "    Attempts to access a dictionary key and handles KeyError if the key doesn't exist.\n",
        "\n",
        "    Args:\n",
        "        dictionary (dict): The dictionary to access\n",
        "        key: The key to look up in the dictionary\n",
        "\n",
        "    Returns:\n",
        "        The value if key exists, or None if key doesn't exist\n",
        "    \"\"\"\n",
        "    try:\n",
        "        value = dictionary[key]\n",
        "        print(f\"Key '{key}' found with value: {value}\")\n",
        "        return value\n",
        "    except KeyError:\n",
        "        print(f\"Warning: Key '{key}' does not exist in the dictionary\")\n",
        "        return None\n",
        "    except Exception as e:\n",
        "        print(f\"An unexpected error occurred: {type(e).__name__} - {str(e)}\")\n",
        "        return None\n",
        "\n",
        "def main():\n",
        "    # Sample dictionary\n",
        "    student_grades = {\n",
        "        \"Alice\": 92,\n",
        "        \"Bob\": 85,\n",
        "        \"Charlie\": 78,\n",
        "        \"Diana\": 95\n",
        "    }\n",
        "\n",
        "    # Test cases\n",
        "    print(\"=== Testing with existing key ===\")\n",
        "    grade = access_dictionary_value(student_grades, \"Alice\")\n",
        "\n",
        "    print(\"\\n=== Testing with non-existent key ===\")\n",
        "    grade = access_dictionary_value(student_grades, \"Eve\")\n",
        "\n",
        "    print(\"\\n=== Testing with another existing key ===\")\n",
        "    grade = access_dictionary_value(student_grades, \"Bob\")\n",
        "\n",
        "if __name__ == \"__main__\":\n",
        "    main()"
      ],
      "metadata": {
        "id": "AJKdVqkkYGHD"
      },
      "execution_count": null,
      "outputs": []
    },
    {
      "cell_type": "markdown",
      "source": [
        "12. Write a program that demonstrates using multiple except blogs to handle different types of exceptions."
      ],
      "metadata": {
        "id": "jMoDHqqGPG8O"
      }
    },
    {
      "cell_type": "code",
      "source": [
        "def handle_file_operations(filename):\n",
        "    \"\"\"\n",
        "    Demonstrates multiple exception handling for file operations\n",
        "    with different types of exceptions.\n",
        "    \"\"\"\n",
        "    try:\n",
        "        # Attempt to open and read the file\n",
        "        with open(filename, 'r') as file:\n",
        "            content = file.read()\n",
        "            number = int(content.strip())\n",
        "            result = 100 / number\n",
        "\n",
        "        print(f\"Operation successful! Result: {result}\")\n",
        "\n",
        "    except FileNotFoundError:\n",
        "        print(f\"Error: The file '{filename}' was not found.\")\n",
        "    except PermissionError:\n",
        "        print(f\"Error: Permission denied when accessing '{filename}'.\")\n",
        "    except ValueError:\n",
        "        print(\"Error: File content could not be converted to an integer.\")\n",
        "    except ZeroDivisionError:\n",
        "        print(\"Error: Cannot divide by zero (file contained zero).\")\n",
        "    except Exception as e:\n",
        "        print(f\"An unexpected error occurred: {type(e).__name__} - {str(e)}\")\n",
        "    else:\n",
        "        print(\"All operations completed without errors.\")\n",
        "    finally:\n",
        "        print(\"File operation attempt completed.\\n\")\n",
        "\n",
        "# Test cases\n",
        "if __name__ == \"__main__\":\n",
        "    # Create a test file\n",
        "    with open(\"valid.txt\", \"w\") as f:\n",
        "        f.write(\"25\")  # Valid content\n",
        "\n",
        "    with open(\"zero.txt\", \"w\") as f:\n",
        "        f.write(\"0\")  # Will cause ZeroDivisionError\n",
        "\n",
        "    with open(\"invalid.txt\", \"w\") as f:\n",
        "        f.write(\"text\")  # Will cause ValueError\n",
        "\n",
        "    # Test different scenarios\n",
        "    print(\"=== Testing with valid file ===\")\n",
        "    handle_file_operations(\"valid.txt\")\n",
        "\n",
        "    print(\"=== Testing with non-existent file ===\")\n",
        "    handle_file_operations(\"missing.txt\")\n",
        "\n",
        "    print(\"=== Testing with zero value ===\")\n",
        "    handle_file_operations(\"zero.txt\")\n",
        "\n",
        "    print(\"=== Testing with invalid content ===\")\n",
        "    handle_file_operations(\"invalid.txt\")\n",
        "\n",
        "    # Clean up test files\n",
        "    import os\n",
        "    for f in [\"valid.txt\", \"zero.txt\", \"invalid.txt\"]:\n",
        "        if os.path.exists(f):\n",
        "            os.remove(f)"
      ],
      "metadata": {
        "id": "BTRknFAhX2ky"
      },
      "execution_count": null,
      "outputs": []
    },
    {
      "cell_type": "markdown",
      "source": [
        "13. How would you check if a file exist before attempting to read it in Python?"
      ],
      "metadata": {
        "id": "pPwavObtPKsm"
      }
    },
    {
      "cell_type": "code",
      "source": [
        "import os\n",
        "\n",
        "file_path = \"example.txt\"\n",
        "\n",
        "if os.path.exists(file_path):\n",
        "    with open(file_path, 'r') as file:\n",
        "        content = file.read()\n",
        "    print(\"File read successfully\")\n",
        "else:\n",
        "    print(f\"File {file_path} does not exist\")"
      ],
      "metadata": {
        "id": "PtxxtJmgXlZI"
      },
      "execution_count": null,
      "outputs": []
    },
    {
      "cell_type": "markdown",
      "source": [
        "14. Write a program that uses the logging module to log both information and error messages."
      ],
      "metadata": {
        "id": "FqFBlldJPQVi"
      }
    },
    {
      "cell_type": "code",
      "source": [
        "\n",
        "import logging\n",
        "\n",
        "def setup_logging():\n",
        "    \"\"\"Configure the logging settings.\"\"\"\n",
        "    logging.basicConfig(\n",
        "        level=logging.INFO,\n",
        "        format='%(asctime)s - %(name)s - %(levelname)s - %(message)s',\n",
        "        handlers=[\n",
        "            logging.FileHandler('app.log'),  # Log to a file\n",
        "            logging.StreamHandler()          # Log to console\n",
        "        ]\n",
        "    )\n",
        "\n",
        "def perform_calculation(x, y):\n",
        "    \"\"\"Perform a division operation and log the process.\"\"\"\n",
        "    logging.info(f\"Starting calculation with x={x} and y={y}\")\n",
        "\n",
        "    try:\n",
        "        result = x / y\n",
        "        logging.info(f\"Calculation successful. Result: {result}\")\n",
        "        return result\n",
        "    except ZeroDivisionError:\n",
        "        logging.error(\"Division by zero error occurred\", exc_info=True)\n",
        "        return None\n",
        "    except Exception as e:\n",
        "        logging.error(f\"Unexpected error: {str(e)}\", exc_info=True)\n",
        "        return None\n",
        "\n",
        "def main():\n",
        "    \"\"\"Main function to demonstrate logging.\"\"\"\n",
        "    setup_logging()\n",
        "\n",
        "    logging.info(\"Program started\")\n",
        "\n",
        "    # Test cases\n",
        "    perform_calculation(10, 2)   # Successful case\n",
        "    perform_calculation(8, 0)    # Division by zero error\n",
        "    perform_calculation(\"10\", 2)  # Type error (uncomment to test)\n",
        "\n",
        "    logging.info(\"Program completed\")\n",
        "\n",
        "if __name__ == \"__main__\":\n",
        "    main()"
      ],
      "metadata": {
        "id": "EI_v77UBXQO0"
      },
      "execution_count": null,
      "outputs": []
    },
    {
      "cell_type": "markdown",
      "source": [
        "15. Write a Python program that prints the content of a file and handles the case when the files is empty."
      ],
      "metadata": {
        "id": "FCO6bvRTPW5W"
      }
    },
    {
      "cell_type": "code",
      "source": [
        "def print_file_contents(filename):\n",
        "    try:\n",
        "        with open(filename, 'r') as file:\n",
        "            content = file.read()\n",
        "            if not content.strip():  # Check if content is empty or just whitespace\n",
        "                print(f\"The file '{filename}' is empty.\")\n",
        "            else:\n",
        "                print(f\"Contents of '{filename}':\\n{content}\")\n",
        "    except FileNotFoundError:\n",
        "        print(f\"Error: The file '{filename}' does not exist.\")\n",
        "    except IOError as e:\n",
        "        print(f\"Error reading the file: {e}\")\n",
        "\n",
        "# Example usage\n",
        "if __name__ == \"__main__\":\n",
        "    filename = input(\"Enter the file path: \")\n",
        "    print_file_contents(filename)"
      ],
      "metadata": {
        "id": "XK2l88UwTgdK"
      },
      "execution_count": null,
      "outputs": []
    },
    {
      "cell_type": "markdown",
      "source": [
        "16. Demonstrate how to use memory profiling to check the memory usage of a small program."
      ],
      "metadata": {
        "id": "Jxo7RsZ0Pary"
      }
    },
    {
      "cell_type": "markdown",
      "source": [
        "17. Write a Python program to create and write a list of numbers to a file one number per line."
      ],
      "metadata": {
        "id": "J6AplM4TPjTH"
      }
    },
    {
      "cell_type": "code",
      "source": [
        "# Define a list of numbers\n",
        "numbers = [10, 20, 30, 40, 50]\n",
        "\n",
        "# Specify the output file name\n",
        "output_file = \"numbers.txt\"\n",
        "\n",
        "# Open the file in write mode ('w') and write each number on a new line\n",
        "with open(output_file, 'w') as file:\n",
        "    for number in numbers:\n",
        "        file.write(f\"{number}\\n\")  # '\\n' ensures each number is on a new line\n",
        "\n",
        "print(f\"Successfully wrote numbers to {output_file}!\")"
      ],
      "metadata": {
        "colab": {
          "base_uri": "https://localhost:8080/"
        },
        "id": "ps9HLe1PSvde",
        "outputId": "1c734d66-40a0-42d9-dafd-e0ba8dd91677"
      },
      "execution_count": null,
      "outputs": [
        {
          "output_type": "stream",
          "name": "stdout",
          "text": [
            "Successfully wrote numbers to numbers.txt!\n"
          ]
        }
      ]
    },
    {
      "cell_type": "markdown",
      "source": [
        "18. How would you implement a basic logging set up that locks to a file with rotation after 1 MB?"
      ],
      "metadata": {
        "id": "45br8vWQPmxt"
      }
    },
    {
      "cell_type": "code",
      "source": [
        "import logging\n",
        "from logging.handlers import RotatingFileHandler\n",
        "\n",
        "def setup_logging(log_file='app.log', max_bytes=1_000_000, backup_count=5):\n",
        "    \"\"\"\n",
        "    Configure logging to rotate files after reaching `max_bytes` (1 MB by default).\n",
        "\n",
        "    Args:\n",
        "        log_file (str): Path to the log file.\n",
        "        max_bytes (int): Maximum file size before rotation (in bytes).\n",
        "        backup_count (int): Number of backup logs to keep.\n",
        "    \"\"\"\n",
        "    # Create a logger\n",
        "    logger = logging.getLogger(__name__)\n",
        "    logger.setLevel(logging.INFO)  # Set logging level (INFO, DEBUG, ERROR, etc.)\n",
        "\n",
        "    # Create a rotating file handler\n",
        "    handler = RotatingFileHandler(\n",
        "        filename=log_file,\n",
        "        maxBytes=max_bytes,       # Rotate after 1 MB\n",
        "        backupCount=backup_count, # Keep up to 5 backup logs\n",
        "        encoding='utf-8',\n",
        "    )\n",
        "\n",
        "    # Set log format\n",
        "    formatter = logging.Formatter(\n",
        "        '%(asctime)s - %(name)s - %(levelname)s - %(message)s'\n",
        "    )\n",
        "    handler.setFormatter(formatter)\n",
        "\n",
        "    # Add the handler to the logger\n",
        "    logger.addHandler(handler)\n",
        "\n",
        "    return logger\n",
        "\n",
        "# Example usage\n",
        "if __name__ == \"__main__\":\n",
        "    logger = setup_logging()\n",
        "\n",
        "    # Log some messages (will rotate after 1 MB)\n",
        "    for i in range(1000):\n",
        "        logger.info(f\"This is log message {i}\")"
      ],
      "metadata": {
        "id": "npaId_OkSkSi"
      },
      "execution_count": null,
      "outputs": []
    },
    {
      "cell_type": "markdown",
      "source": [
        "19. Write a program that handles both index error and key error using a try-except block?"
      ],
      "metadata": {
        "id": "v9lOB8MSPr66"
      }
    },
    {
      "cell_type": "code",
      "source": [
        "def handle_errors():\n",
        "    # Example list (may cause IndexError)\n",
        "    my_list = [10, 20, 30]\n",
        "\n",
        "    # Example dictionary (may cause KeyError)\n",
        "    my_dict = {\"name\": \"Alice\", \"age\": 25}\n",
        "\n",
        "    try:\n",
        "        # Attempt to access an out-of-range index\n",
        "        print(\"List element at index 3:\", my_list[3])  # Raises IndexError\n",
        "\n",
        "        # Attempt to access a non-existent key\n",
        "        print(\"Dictionary value for 'city':\", my_dict[\"city\"])  # Raises KeyError\n",
        "\n",
        "    except IndexError:\n",
        "        print(\"Error: List index out of range!\")\n",
        "\n",
        "    except KeyError:\n",
        "        print(\"Error: Key not found in dictionary!\")\n",
        "\n",
        "    finally:\n",
        "        print(\"Execution completed (this always runs).\")\n",
        "\n",
        "# Call the function\n",
        "handle_errors()"
      ],
      "metadata": {
        "colab": {
          "base_uri": "https://localhost:8080/"
        },
        "id": "kKKxajvVSWsZ",
        "outputId": "7015d2d5-f598-4db7-cfda-053c6a62d700"
      },
      "execution_count": null,
      "outputs": [
        {
          "output_type": "stream",
          "name": "stdout",
          "text": [
            "Error: List index out of range!\n",
            "Execution completed (this always runs).\n"
          ]
        }
      ]
    },
    {
      "cell_type": "markdown",
      "source": [
        "20. How would you open a file and read its content using a context manager in Python?"
      ],
      "metadata": {
        "id": "MM7LVMB-P1os"
      }
    },
    {
      "cell_type": "code",
      "source": [
        "# Open the file in read mode ('r') using a context manager\n",
        "with open('example.txt', 'r') as file:\n",
        "    # Read the entire content of the file\n",
        "    content = file.read()\n",
        "    print(content)"
      ],
      "metadata": {
        "id": "l08mha2xSJ1w"
      },
      "execution_count": null,
      "outputs": []
    },
    {
      "cell_type": "markdown",
      "source": [
        "21. Write a Python program that reads a file and print the number of occurrences of a specific word."
      ],
      "metadata": {
        "id": "Zsh55a6cP407"
      }
    },
    {
      "cell_type": "code",
      "source": [
        "parser = argparse.ArgumentParser(description='Count occurrences of a word in a file.')\n",
        "parser.add_argument('filename', help='Path to the input file')\n",
        "parser.add_argument('word', help='Word to search for')\n",
        "args = parser.parse_args()\n",
        "\n",
        "target_word = args.word.lower()\n",
        "count = 0\n",
        "\n",
        "try:\n",
        "    with open(args.filename, 'r') as file:\n",
        "        for line in file:\n",
        "            for word in line.split():\n",
        "                cleaned_word = word.strip(string.punctuation).lower()\n",
        "                if cleaned_word == target_word:\n",
        "                    count += 1\n",
        "    print(f\"The word '{args.word}' occurs {count} times in the file.\")\n",
        "except FileNotFoundError:\n",
        "    print(f\"Error: The file {args.filename} does not exist.\")\n",
        "except Exception as e:\n",
        "    print(f\"An error occurred: {e}\")"
      ],
      "metadata": {
        "id": "pu_7TWirR2M_"
      },
      "execution_count": null,
      "outputs": []
    },
    {
      "cell_type": "markdown",
      "source": [
        "22. How can you check if a file is Mt before attempting to read its content s?"
      ],
      "metadata": {
        "id": "uSjzI2x0P9pz"
      }
    },
    {
      "cell_type": "code",
      "source": [
        "def safe_read_file(file_path):\n",
        "    try:\n",
        "        if os.path.getsize(file_path) > 0:\n",
        "            with open(file_path, 'r') as file:\n",
        "                return file.read()\n",
        "        else:\n",
        "            print(\"File is empty\")\n",
        "    except (FileNotFoundError, PermissionError) as e:\n",
        "        print(f\"Error accessing file: {e}\")\n",
        "    return None"
      ],
      "metadata": {
        "id": "bUY9yvbTQ6KQ"
      },
      "execution_count": null,
      "outputs": []
    },
    {
      "cell_type": "markdown",
      "source": [
        "23. Write a Python program that rights to a log file when an error occurs during file handling."
      ],
      "metadata": {
        "id": "MB6PoNJcQDo3"
      }
    },
    {
      "cell_type": "code",
      "source": [
        "import logging\n",
        "\n",
        "# Configure logging to write to a file with error level and timestamp\n",
        "logging.basicConfig(\n",
        "    filename='file_errors.log',\n",
        "    level=logging.ERROR,\n",
        "    format='%(asctime)s - %(levelname)s - %(message)s',\n",
        "    datefmt='%Y-%m-%d %H:%M:%S'\n",
        ")\n",
        "\n",
        "def handle_file(file_path):\n",
        "    try:\n",
        "        with open(file_path, 'r') as file:\n",
        "            content = file.read()\n",
        "        print(f\"Successfully read {file_path}\")\n",
        "        return content\n",
        "\n",
        "    except FileNotFoundError:\n",
        "        logging.error(f\"File not found: {file_path}\", exc_info=True)\n",
        "    except PermissionError:\n",
        "        logging.error(f\"Permission denied for: {file_path}\", exc_info=True)\n",
        "    except Exception as e:\n",
        "        logging.error(f\"Unexpected error with {file_path}: {str(e)}\", exc_info=True)\n",
        "\n",
        "# Test the function with both valid and invalid files\n",
        "handle_file(\"valid_file.txt\")    # If file exists\n",
        "handle_file(\"missing_file.txt\")  # Will generate error log"
      ],
      "metadata": {
        "colab": {
          "base_uri": "https://localhost:8080/"
        },
        "id": "Plq2-qsYQwnU",
        "outputId": "e79afb65-445b-4277-c737-7bc3941b0f55"
      },
      "execution_count": null,
      "outputs": [
        {
          "output_type": "stream",
          "name": "stderr",
          "text": [
            "ERROR File not found: valid_file.txt\n",
            "Traceback (most recent call last):\n",
            "  File \"<ipython-input-19-d9184f2bfabe>\", line 13, in handle_file\n",
            "    with open(file_path, 'r') as file:\n",
            "         ^^^^^^^^^^^^^^^^^^^^\n",
            "FileNotFoundError: [Errno 2] No such file or directory: 'valid_file.txt'\n",
            "ERROR File not found: missing_file.txt\n",
            "Traceback (most recent call last):\n",
            "  File \"<ipython-input-19-d9184f2bfabe>\", line 13, in handle_file\n",
            "    with open(file_path, 'r') as file:\n",
            "         ^^^^^^^^^^^^^^^^^^^^\n",
            "FileNotFoundError: [Errno 2] No such file or directory: 'missing_file.txt'\n"
          ]
        }
      ]
    }
  ]
}