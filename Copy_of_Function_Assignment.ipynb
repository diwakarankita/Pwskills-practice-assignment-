{
  "cells": [
    {
      "cell_type": "markdown",
      "metadata": {
        "id": "view-in-github",
        "colab_type": "text"
      },
      "source": [
        "<a href=\"https://colab.research.google.com/github/diwakarankita/Pwskills-practice-assignment-/blob/main/Copy_of_Function_Assignment.ipynb\" target=\"_parent\"><img src=\"https://colab.research.google.com/assets/colab-badge.svg\" alt=\"Open In Colab\"/></a>"
      ]
    },
    {
      "cell_type": "markdown",
      "metadata": {
        "id": "H88y4ZKyijwW"
      },
      "source": [
        "##Function"
      ]
    },
    {
      "cell_type": "markdown",
      "metadata": {
        "id": "C34GTCQAinYr"
      },
      "source": [
        "1. What is the difference between a function and a method in Python?"
      ]
    },
    {
      "cell_type": "markdown",
      "metadata": {
        "id": "s2E5-JhxiyOC"
      },
      "source": [
        "In Python, both functions and methods are blocked of reusable code, but they differ in how they are defined and used. Here's the key difference:\n",
        "\n",
        "###Function\n",
        "\n",
        "- A function is a standalone block of code that is not associated with any object or class.\n",
        "\n",
        "- It is defined using the def keyword.\n",
        "\n",
        "- It can be called directly by its name.\n",
        "\n",
        "- Function can accept arguments and written values.\n",
        "\n",
        "### Method\n",
        "\n",
        "- A method is a function that is associated with an object or a class.\n",
        "\n",
        "- It is defined inside a class and operates on the instance (self) of that class.\n",
        "\n",
        "- It is called using an object (example object.method()).\n",
        "\n",
        "- Methods can also accept arguments and written values."
      ]
    },
    {
      "cell_type": "code",
      "execution_count": null,
      "metadata": {
        "colab": {
          "base_uri": "https://localhost:8080/"
        },
        "id": "lXJCiz33T90i",
        "outputId": "93a2e205-7179-4a82-cb27-823f481e3e80"
      },
      "outputs": [
        {
          "name": "stdout",
          "output_type": "stream",
          "text": [
            "Hello,Alice!\n"
          ]
        }
      ],
      "source": [
        "def greet(name):\n",
        "    return f\"Hello,{name}!\"\n",
        "\n",
        "print(greet(\"Alice\"))\n",
        "\n",
        "# greet is a function because it is not tied to any class or object."
      ]
    },
    {
      "cell_type": "code",
      "execution_count": null,
      "metadata": {
        "colab": {
          "base_uri": "https://localhost:8080/"
        },
        "id": "fGgtI9akX_gt",
        "outputId": "aa3a11ab-4dc2-4649-bde7-02a96f88ea2c"
      },
      "outputs": [
        {
          "name": "stdout",
          "output_type": "stream",
          "text": [
            "Buddy says Woof!\n"
          ]
        }
      ],
      "source": [
        "class Dog:\n",
        "    def __init__(self, name):\n",
        "        self.name = name\n",
        "\n",
        "    def bark(self):\n",
        "        return f\"{self.name} says Woof!\"\n",
        "\n",
        "\n",
        "my_dog = Dog(\"Buddy\")\n",
        "\n",
        "print(my_dog.bark())\n",
        "\n",
        "# greet is a method because it is defined inside a class and operates on self."
      ]
    },
    {
      "cell_type": "markdown",
      "metadata": {
        "id": "TS2QlMPGZfXs"
      },
      "source": [
        "###Summary\n",
        "\n",
        "- Function: Independent, called directly.\n",
        "\n",
        "- Method: Belongs to a class/object, called via an instance."
      ]
    },
    {
      "cell_type": "markdown",
      "metadata": {
        "id": "FsYrdSR9aamO"
      },
      "source": [
        "2. Explain the concept of function arguments and parameters in Python.\n",
        "\n",
        "\n",
        "- Parameters are the variables listed inside the parentheses in the function definition.\n",
        "\n",
        "- Arguments are the actual values passed to the function when it is called."
      ]
    },
    {
      "cell_type": "code",
      "execution_count": null,
      "metadata": {
        "colab": {
          "base_uri": "https://localhost:8080/"
        },
        "id": "R1ulzroZbKoL",
        "outputId": "2bf6e165-2ce4-47da-8420-0e407cd5d6f0"
      },
      "outputs": [
        {
          "name": "stdout",
          "output_type": "stream",
          "text": [
            "Hello Alice, you are 25 years old!\n"
          ]
        }
      ],
      "source": [
        "def greet(name, age):\n",
        "    return f\"Hello {name}, you are {age} years old!\"\n",
        "\n",
        "message = greet(\"Alice\",25)\n",
        "print(message)"
      ]
    },
    {
      "cell_type": "markdown",
      "metadata": {
        "id": "HKpS6HCobzea"
      },
      "source": [
        "###Types of Arguments in Python"
      ]
    },
    {
      "cell_type": "code",
      "execution_count": null,
      "metadata": {
        "colab": {
          "base_uri": "https://localhost:8080/",
          "height": 53
        },
        "id": "jACKY7PacBvz",
        "outputId": "47eb954b-24d4-4333-aa8c-80cf1390c936"
      },
      "outputs": [
        {
          "data": {
            "application/vnd.google.colaboratory.intrinsic+json": {
              "type": "string"
            },
            "text/plain": [
              "'Hello Bob, you are 30 years old!'"
            ]
          },
          "execution_count": 7,
          "metadata": {},
          "output_type": "execute_result"
        }
      ],
      "source": [
        "#Positional Arguments (Order matters)\n",
        "\n",
        "greet(\"Bob\",30)"
      ]
    },
    {
      "cell_type": "code",
      "execution_count": null,
      "metadata": {
        "colab": {
          "base_uri": "https://localhost:8080/",
          "height": 53
        },
        "id": "qRV1GV_LcUTt",
        "outputId": "ffd2f366-9628-4329-90ed-c2038b6c72bd"
      },
      "outputs": [
        {
          "data": {
            "application/vnd.google.colaboratory.intrinsic+json": {
              "type": "string"
            },
            "text/plain": [
              "'Hello Bob, you are 30 years old!'"
            ]
          },
          "execution_count": 8,
          "metadata": {},
          "output_type": "execute_result"
        }
      ],
      "source": [
        "#Keyword Arguments (Order doesn't matter)\n",
        "\n",
        "greet(age=30,name=\"Bob\")"
      ]
    },
    {
      "cell_type": "code",
      "execution_count": null,
      "metadata": {
        "id": "nCNdOLKzc58J"
      },
      "outputs": [],
      "source": [
        "#Default parameters (Fallback values)\n",
        "\n",
        "def greet(name, age=18):\n",
        "    return f\"Hello {name}, you are {age} years old!\"\n",
        "\n",
        "    print(greet(\"Alice\"))"
      ]
    },
    {
      "cell_type": "markdown",
      "metadata": {
        "id": "qF92eBykfV3x"
      },
      "source": [
        "###Summary\n",
        "- Parameters → Placeholders in the function definition.\n",
        "\n",
        "- Arguments → Actual values passed when calling the function.\n",
        "\n",
        "Python supports positional, keywords, default,and Variable-Length argument."
      ]
    },
    {
      "cell_type": "markdown",
      "metadata": {
        "id": "2EDTyzxaf23n"
      },
      "source": [
        "3. What are the different ways to define and call a function in python?\n",
        "\n",
        "\n",
        "Python offers multiple ways to define and call functions, including:\n",
        "\n",
        "- Basic Function\n",
        "\n",
        "- Function with default Arguments\n",
        "\n",
        "- Function with Variable Arguments\n",
        "\n",
        "- Function with Keywords Arguments\n",
        "\n",
        "- Lamda(Anonymous) Function\n",
        "\n",
        "- Function Returning Multiple Values"
      ]
    },
    {
      "cell_type": "code",
      "execution_count": null,
      "metadata": {
        "colab": {
          "base_uri": "https://localhost:8080/"
        },
        "id": "d35VJ_71h9hi",
        "outputId": "2d5a01e3-28ce-4e41-b813-4b8fe14664ec"
      },
      "outputs": [
        {
          "name": "stdout",
          "output_type": "stream",
          "text": [
            "8\n"
          ]
        }
      ],
      "source": [
        "# Basic Functions\n",
        "\n",
        "#Definition: Standard function with parameters.\n",
        "\n",
        "#Call: Pass arguments in order.\n",
        "\n",
        "def add(a, b):\n",
        "    return a + b\n",
        "\n",
        "print(add(3, 5))"
      ]
    },
    {
      "cell_type": "code",
      "execution_count": null,
      "metadata": {
        "colab": {
          "base_uri": "https://localhost:8080/"
        },
        "id": "yElh_tVoi2pn",
        "outputId": "dbc525fb-a286-4e3b-a468-d5c1a37bc8bc"
      },
      "outputs": [
        {
          "name": "stdout",
          "output_type": "stream",
          "text": [
            "Helo,Alice!\n",
            "Hi,Bob!\n"
          ]
        }
      ],
      "source": [
        "#Function with Default Arguments\n",
        "\n",
        "#Definition: Parameters have default values.\n",
        "#Call: Can omit default arguments.\n",
        "\n",
        "def greet(name, message=\"Helo\"):\n",
        "    return f\"{message},{name}!\"\n",
        "\n",
        "print(greet(\"Alice\"))\n",
        "print(greet(\"Bob\",\"Hi\"))"
      ]
    },
    {
      "cell_type": "code",
      "execution_count": null,
      "metadata": {
        "colab": {
          "base_uri": "https://localhost:8080/"
        },
        "id": "-2jxisnwjzvu",
        "outputId": "241e2e0b-4f99-4361-f9b0-6e9f162889c2"
      },
      "outputs": [
        {
          "name": "stdout",
          "output_type": "stream",
          "text": [
            "6\n",
            "15\n"
          ]
        }
      ],
      "source": [
        "#Function with Variable Arguments\n",
        "\n",
        "#Definition: Accept any number of positional arguments as a tuple.\n",
        "#Call: Pass multiple values.\n",
        "\n",
        "def sum_all(*args):\n",
        "    return sum(args)\n",
        "\n",
        "print(sum_all(1, 2, 3))\n",
        "print(sum_all(5, 10))"
      ]
    },
    {
      "cell_type": "code",
      "execution_count": null,
      "metadata": {
        "colab": {
          "base_uri": "https://localhost:8080/"
        },
        "id": "p3pLU17WlE5N",
        "outputId": "bf48581e-590b-4504-8937-2e1c770896a0"
      },
      "outputs": [
        {
          "name": "stdout",
          "output_type": "stream",
          "text": [
            "name: Alice\n",
            "age: 25\n",
            "city: NY\n"
          ]
        }
      ],
      "source": [
        "#Function with Keywords Arguments (**kwargs)\n",
        "\n",
        "#Definition: Accept any number of keyword arguments as a dictionary.\n",
        "\n",
        "#Call: Pass key-value pairs.\n",
        "\n",
        "def display_info(**kwargs):\n",
        "    for key, value in kwargs.items():\n",
        "        print(f\"{key}: {value}\")\n",
        "\n",
        "display_info(name=\"Alice\", age=25, city=\"NY\")"
      ]
    },
    {
      "cell_type": "code",
      "execution_count": null,
      "metadata": {
        "colab": {
          "base_uri": "https://localhost:8080/"
        },
        "id": "BwW4-jHXmJiv",
        "outputId": "769ac3bb-ff3f-43db-893b-8ea6f39d8fca"
      },
      "outputs": [
        {
          "name": "stdout",
          "output_type": "stream",
          "text": [
            "16\n",
            "[1, 4, 9]\n"
          ]
        }
      ],
      "source": [
        "# Lamda(Anonymous) Function\n",
        "\n",
        "#Definition: Single-expression function without a name.\n",
        "\n",
        "#Call: Assign to a variable or use inline.\n",
        "\n",
        "square = lambda x: x ** 2\n",
        "print(square(4))\n",
        "\n",
        "numbers = [1, 2, 3]\n",
        "squared = list(map(lambda x: x ** 2, numbers))\n",
        "print(squared)"
      ]
    },
    {
      "cell_type": "code",
      "execution_count": null,
      "metadata": {
        "colab": {
          "base_uri": "https://localhost:8080/"
        },
        "id": "CN4ZclHcnc-2",
        "outputId": "10a7a01b-4094-45cf-9b46-7ff8ecffd50d"
      },
      "outputs": [
        {
          "name": "stdout",
          "output_type": "stream",
          "text": [
            "Alice 25 NY\n"
          ]
        }
      ],
      "source": [
        "#Function Returning Multiple Values\n",
        "\n",
        "#Definition: Returns a tuple (can be unpacked).\n",
        "\n",
        "#Call: Assign to multiple variables.\n",
        "\n",
        "def get_user():\n",
        "    return \"Alice\", 25, \"NY\"\n",
        "\n",
        "name, age, city, = get_user()\n",
        "print(name, age, city)"
      ]
    },
    {
      "cell_type": "markdown",
      "metadata": {
        "id": "B6R_EepXoRtR"
      },
      "source": [
        "4. What is the purpose of the 'return' statement in a python function?\n",
        "\n",
        "The return statement is used to exist a function and send back a value to the caller. It determine the output of the function.\n",
        "\n",
        "###key points:\n",
        "\n",
        "- Exits the function immediately (no further the code runs after return ).\n",
        "\n",
        "- Can return any data type (example numbers, string, lists, dictionaries,etc,).\n",
        "\n",
        "- If no written is specified, the function returns none."
      ]
    },
    {
      "cell_type": "code",
      "execution_count": null,
      "metadata": {
        "colab": {
          "base_uri": "https://localhost:8080/"
        },
        "id": "OxBRZUrjq-xk",
        "outputId": "67e1ade6-d379-4dcf-ab26-3d5936ac7941"
      },
      "outputs": [
        {
          "name": "stdout",
          "output_type": "stream",
          "text": [
            "8\n"
          ]
        }
      ],
      "source": [
        "#Examples:\n",
        "# Returning a Value\n",
        "def add(a, b):\n",
        "    return a + b\n",
        "result = add(3, 5)\n",
        "print(result)"
      ]
    },
    {
      "cell_type": "code",
      "execution_count": null,
      "metadata": {
        "colab": {
          "base_uri": "https://localhost:8080/"
        },
        "id": "fPCKTFfBrYII",
        "outputId": "8b20145c-ee06-4475-9984-3b5d18249d40"
      },
      "outputs": [
        {
          "name": "stdout",
          "output_type": "stream",
          "text": [
            "('Alice', 25)\n"
          ]
        }
      ],
      "source": [
        "#Returning Multiple Values (as a tuple)\n",
        "\n",
        "def get_user():\n",
        "    name = \"Alice\"\n",
        "    age = 25\n",
        "    return name, age\n",
        "user_data = get_user()\n",
        "print(user_data)"
      ]
    },
    {
      "cell_type": "code",
      "execution_count": null,
      "metadata": {
        "colab": {
          "base_uri": "https://localhost:8080/"
        },
        "id": "30gH3oRxr9L8",
        "outputId": "45afa3fc-69fe-4091-cf52-360bf7879009"
      },
      "outputs": [
        {
          "name": "stdout",
          "output_type": "stream",
          "text": [
            "Hello, Bob!\n",
            "None\n"
          ]
        }
      ],
      "source": [
        "#No return Statement →Returns None\n",
        "\n",
        "def greet(name):\n",
        "    print(f\"Hello, {name}!\")\n",
        "\n",
        "result = greet(\"Bob\")\n",
        "print(result)"
      ]
    },
    {
      "cell_type": "code",
      "execution_count": null,
      "metadata": {
        "colab": {
          "base_uri": "https://localhost:8080/"
        },
        "id": "hFS2B4tKseIe",
        "outputId": "b5531f6c-70c7-4181-c764-a64694778340"
      },
      "outputs": [
        {
          "name": "stdout",
          "output_type": "stream",
          "text": [
            "True\n",
            "False\n"
          ]
        }
      ],
      "source": [
        "# Early Exit with return\n",
        "\n",
        "def check_even(num):\n",
        "    if num % 2 == 0:\n",
        "        return True\n",
        "    return False\n",
        "\n",
        "print(check_even(4))\n",
        "print(check_even(5))"
      ]
    },
    {
      "cell_type": "markdown",
      "metadata": {
        "id": "5AzHcd4qtMnm"
      },
      "source": [
        "5. What are iterators in Python and how do they differ from iterable?\n",
        "\n",
        "##Iterator\n",
        "\n",
        "- An iterator is an object that remembers it's state during iteration and returns the next value when next() is called.\n",
        "\n",
        "It implements both iter() and next() methods."
      ]
    },
    {
      "cell_type": "code",
      "execution_count": null,
      "metadata": {
        "colab": {
          "base_uri": "https://localhost:8080/"
        },
        "id": "kD-dKo0Cwvz0",
        "outputId": "12ebdda0-e7b3-44d1-e9cc-c98975840668"
      },
      "outputs": [
        {
          "name": "stdout",
          "output_type": "stream",
          "text": [
            "1\n"
          ]
        }
      ],
      "source": [
        "numbers = [1, 2, 3]\n",
        "\n",
        "iterator = iter(numbers)\n",
        "\n",
        "print(next(iterator))"
      ]
    },
    {
      "cell_type": "code",
      "execution_count": null,
      "metadata": {
        "colab": {
          "base_uri": "https://localhost:8080/"
        },
        "id": "ga3QqqmVxD_Z",
        "outputId": "b56e6df4-a68c-4e5f-bb3b-b195f2c755f7"
      },
      "outputs": [
        {
          "name": "stdout",
          "output_type": "stream",
          "text": [
            "2\n"
          ]
        }
      ],
      "source": [
        "print(next(iterator))"
      ]
    },
    {
      "cell_type": "code",
      "execution_count": null,
      "metadata": {
        "colab": {
          "base_uri": "https://localhost:8080/"
        },
        "id": "tCrfyuoexHte",
        "outputId": "fda081b4-dc8a-449e-e7fc-6a74fbcaced9"
      },
      "outputs": [
        {
          "name": "stdout",
          "output_type": "stream",
          "text": [
            "3\n"
          ]
        }
      ],
      "source": [
        "print(next(iterator))"
      ]
    },
    {
      "cell_type": "markdown",
      "metadata": {
        "id": "VF7nMpcwxPrC"
      },
      "source": [
        "Why Use Iterators\n",
        "\n",
        "- Memory Efficiency: I traitors lazy  produce items (example reading large files line by line).\n",
        "\n",
        "- Infinite Sequence: can represents strings ( example:Fibonacci numbers).\n",
        "\n",
        "\n",
        "###Summary\n",
        "\n",
        "- Iterable: can be looped over (example: list, string).\n",
        "\n",
        "- Iterators: object that performs iteration.\n",
        "\n",
        "- Conversion: Use iter() to get an iterator from an Iterable."
      ]
    },
    {
      "cell_type": "markdown",
      "metadata": {
        "id": "H_b3G41ZyRXk"
      },
      "source": [
        "6. Explain the concept of generation in Python and how they are defined.\n",
        "\n",
        "In, python, \"generation\" refers to a memory management technique used by the garbage collector to efficiently handle object cleanup. This is a part of python's generational garbage collection system.\n",
        "\n",
        "\n",
        "###How generations work\n",
        "\n",
        " Python divides object into three generation (0, 1 and 2) based on how long they have survived:\n",
        "\n",
        "- Generation 0: Newly created objects\n",
        "- Generation 1: Objects that have survived one garbage collection.\n",
        "- Generation 2: Objects that have survived multiple garbage collections.\n",
        "\n",
        "The garbage collector runs more frequently on younger generations, based on the observation that most object die young (the \"weak generation hypothesis\").\n",
        "\n",
        "###How They're Defined\n",
        "\n",
        " Generation are implemented in python's gc module. You can inspect and modify generation-related settings:"
      ]
    },
    {
      "cell_type": "code",
      "execution_count": null,
      "metadata": {
        "colab": {
          "base_uri": "https://localhost:8080/"
        },
        "id": "4RIADcwaEnJN",
        "outputId": "b59ec742-bfb9-4554-840c-98383e7cb707"
      },
      "outputs": [
        {
          "name": "stdout",
          "output_type": "stream",
          "text": [
            "(700, 10, 10)\n"
          ]
        }
      ],
      "source": [
        "import gc\n",
        "\n",
        "print(gc.get_threshold())"
      ]
    },
    {
      "cell_type": "code",
      "execution_count": null,
      "metadata": {
        "colab": {
          "base_uri": "https://localhost:8080/"
        },
        "id": "RQatrpsSE7E9",
        "outputId": "05f059e8-b7b0-4422-8d12-1c2009d2172c"
      },
      "outputs": [
        {
          "name": "stdout",
          "output_type": "stream",
          "text": [
            "Generation after creation: 0\n",
            "Generation after first collection : 0\n",
            "Generation after second collection : 0\n"
          ]
        }
      ],
      "source": [
        "##Example\n",
        "\n",
        "import gc\n",
        "import sys\n",
        "\n",
        "def check_generation(obj):\n",
        "    for i in range(3):\n",
        "        if gc.get_referrers(obj):\n",
        "            return i\n",
        "    return -1\n",
        "\n",
        "my_list = [1, 2, 3]\n",
        "\n",
        "\n",
        "print(f\"Generation after creation: {check_generation(my_list)}\")\n",
        "\n",
        "gc.collect(0)\n",
        "\n",
        "print(f\"Generation after first collection : {check_generation(my_list)}\")\n",
        "\n",
        "gc.collect(1)\n",
        "\n",
        "print(f\"Generation after second collection : {check_generation(my_list)}\")"
      ]
    },
    {
      "cell_type": "markdown",
      "metadata": {
        "id": "kHU7HM79H5o6"
      },
      "source": [
        "7. What are the advantages of using generators over regular functions?\n",
        "\n",
        "Generators provide several key advantages over regular function that return lists or collections:\n",
        "\n",
        "###Main Advantages\n",
        "\n",
        "- Memory Efficiency: Generators produce items one at a time instead of creating the entire collection in memory.\n",
        "\n",
        "- Lazy Evaluations: values are computed on-demand rather than all at once.\n",
        "\n",
        "- Infinite Sequences: Can represent infinite streams of data.\n",
        "\n",
        "- Performance: Better for large datasets as they avoid storing everything in memory.\n",
        "\n",
        "- Composable: Can be changed together efficiently."
      ]
    },
    {
      "cell_type": "code",
      "execution_count": null,
      "metadata": {
        "id": "kvxNRb1iJ7RB"
      },
      "outputs": [],
      "source": [
        "#Example:\n",
        "def square_list(n):\n",
        "    result = [ ]\n",
        "    for i in range(n):\n",
        "        result.append(i ** 2)\n",
        "    return result\n",
        "\n",
        "for num in square_list(1000000):\n",
        "    pass"
      ]
    },
    {
      "cell_type": "code",
      "execution_count": null,
      "metadata": {
        "id": "Sz9ZzIJjMzDo"
      },
      "outputs": [],
      "source": [
        "def square_gen(n):\n",
        "    for i in range(n):\n",
        "        yield i ** 2\n",
        "\n",
        "\n",
        "for num in square_gen(1000000):\n",
        "    pass"
      ]
    },
    {
      "cell_type": "markdown",
      "metadata": {
        "id": "_oJU1vw3NG1d"
      },
      "source": [
        "8. What is  lambda function in Python and when is it typically used?\n",
        "\n",
        "A lambda function is a small, anonymous function define with lambda keyword. It can take any number of arguments but can only have one expression."
      ]
    },
    {
      "cell_type": "code",
      "execution_count": null,
      "metadata": {
        "colab": {
          "base_uri": "https://localhost:8080/"
        },
        "id": "I5ZwboHLOEE1",
        "outputId": "286c1a63-e93c-4704-8172-01075acf825c"
      },
      "outputs": [
        {
          "data": {
            "text/plain": [
              "<function __main__.<lambda>(arguments)>"
            ]
          },
          "execution_count": 15,
          "metadata": {},
          "output_type": "execute_result"
        }
      ],
      "source": [
        "#Syntax:\n",
        "lambda arguments: expression"
      ]
    },
    {
      "cell_type": "markdown",
      "metadata": {
        "id": "VqV_BsjjOTpp"
      },
      "source": [
        "Key Characteristics:\n",
        "\n",
        "- Anonymous(no name)\n",
        "- Typically used for short, simple operation\n",
        "- Can be used wherever function objects are required\n",
        "\n",
        "When Lambda is Typically Used:\n",
        "\n",
        "-  As arguments to higher-order function\n",
        "- For short operations where a full function definition would be over kill\n",
        "- In combination with functions like map(),filter() and sorted()."
      ]
    },
    {
      "cell_type": "code",
      "execution_count": null,
      "metadata": {
        "colab": {
          "base_uri": "https://localhost:8080/"
        },
        "id": "YXKEzVwjPI5a",
        "outputId": "3f555770-57ed-4e9a-b6b4-04b60e70d96a"
      },
      "outputs": [
        {
          "name": "stdout",
          "output_type": "stream",
          "text": [
            "[('Bob', 24), ('Alice', 32), ('Charlie', 45)]\n"
          ]
        }
      ],
      "source": [
        "people = [(\"Alice\", 32),(\"Bob\", 24),(\"Charlie\", 45)]\n",
        "\n",
        "sorted_people = sorted(people, key=lambda person: person[1])\n",
        "\n",
        "print(sorted_people)"
      ]
    },
    {
      "cell_type": "markdown",
      "metadata": {
        "id": "vtfl4znTQA8Z"
      },
      "source": [
        "9. Explain the purpose and usage of the 'map()'function in python.\n",
        "\n",
        "The map() function applies a given function to each item of an iterable (like a list, tuple, etc) and returns and iterator of the result. It's used for:\n",
        "\n",
        "- Transforming data without explicit loops\n",
        "- Applying the same operation to all elements in a collection\n",
        "- Functional programming style operations\n",
        "\n",
        "Syntax:"
      ]
    },
    {
      "cell_type": "code",
      "execution_count": null,
      "metadata": {
        "id": "mp6PV-kBQ-Oi"
      },
      "outputs": [],
      "source": [
        "# map(function, iterable,...)"
      ]
    },
    {
      "cell_type": "markdown",
      "metadata": {
        "id": "AIm5oC5gRYJq"
      },
      "source": [
        "Key Characteristics\n",
        "- Returns a map object (iterator)\n",
        "- Lazy evaluation ( computes values on-demand)\n",
        "- Can accept multiple iterables\n",
        "- Often used with lambda functions"
      ]
    },
    {
      "cell_type": "code",
      "execution_count": null,
      "metadata": {
        "colab": {
          "base_uri": "https://localhost:8080/"
        },
        "id": "g5iBiZNCR2oz",
        "outputId": "026b6142-ac0d-4d9c-9016-da0b0c1c8068"
      },
      "outputs": [
        {
          "name": "stdout",
          "output_type": "stream",
          "text": [
            "[32.0, 50.0, 68.0, 86.0, 104.0]\n"
          ]
        }
      ],
      "source": [
        "celcius_temps = [0, 10, 20, 30, 40]\n",
        "\n",
        "def to_fahrenheit(c):\n",
        "    return (9/5) * c + 32\n",
        "\n",
        "fahrenheit_temps = map(to_fahrenheit,celcius_temps)\n",
        "\n",
        "print(list(fahrenheit_temps))"
      ]
    },
    {
      "cell_type": "code",
      "execution_count": null,
      "metadata": {
        "id": "mLCxzKS8S4CQ"
      },
      "outputs": [],
      "source": [
        "Fahrenheit_temps = map(lambda c: 9/5*c+32, celcius_temps)"
      ]
    },
    {
      "cell_type": "markdown",
      "metadata": {
        "id": "IVi8Ts0mTNuq"
      },
      "source": [
        "10. What is the difference between 'map()', 'reduce()', and 'filter()'function in python?\n",
        "\n",
        "### map(function, iterable)\n",
        "Purpose: Applies a function to every item in an iterable and returns a new iterator with the transform the values.\n",
        "\n",
        "Returns: An iterator(map objects) of results.\n",
        "\n",
        "Use Cases: Data transformation."
      ]
    },
    {
      "cell_type": "code",
      "execution_count": null,
      "metadata": {
        "colab": {
          "base_uri": "https://localhost:8080/"
        },
        "id": "FcHjMHXSU6yX",
        "outputId": "a425db8d-bbc6-49bf-a9a0-51d74be1247c"
      },
      "outputs": [
        {
          "name": "stdout",
          "output_type": "stream",
          "text": [
            "[1, 4, 9, 16]\n"
          ]
        }
      ],
      "source": [
        "#Example:\n",
        "\n",
        "nums = [1, 2, 3, 4]\n",
        "squared = map(lambda x: x ** 2, nums)\n",
        "print(list(squared))"
      ]
    },
    {
      "cell_type": "markdown",
      "metadata": {
        "id": "Rs3UJh2aVXaI"
      },
      "source": [
        "### filter(function, Iterable)\n",
        "Purpose: selects items from an iterable where the function returns True.\n",
        "\n",
        "Returns: An iterator(filter objects) of the filtered elements.\n",
        "\n",
        "Use Case: Extracting specific values"
      ]
    },
    {
      "cell_type": "code",
      "execution_count": null,
      "metadata": {
        "colab": {
          "base_uri": "https://localhost:8080/"
        },
        "id": "vsuTMN-dWKFb",
        "outputId": "c1a2a406-4f29-4807-c3d6-149db204ed44"
      },
      "outputs": [
        {
          "name": "stdout",
          "output_type": "stream",
          "text": [
            "[2, 4]\n"
          ]
        }
      ],
      "source": [
        "#Example:\n",
        "numbs = [1, 2, 3, 4, 5]\n",
        "evens = filter(lambda x: x%2 ==0, nums)\n",
        "print(list(evens))"
      ]
    },
    {
      "cell_type": "markdown",
      "metadata": {
        "id": "30oZ4RiKWkI1"
      },
      "source": [
        "reduce (function, Iterable)\n",
        "Purpose: Applies a cumulatively to pairs of items in an Iterable, reducing it to a single value.\n",
        "\n",
        "Returns: A single aggregated result.\n",
        "\n",
        "Use Case: Summarising data"
      ]
    },
    {
      "cell_type": "code",
      "execution_count": null,
      "metadata": {
        "colab": {
          "base_uri": "https://localhost:8080/"
        },
        "id": "neqlQX9WXXKL",
        "outputId": "47f5e055-5e5d-4bc2-963c-8ae1cead554b"
      },
      "outputs": [
        {
          "name": "stdout",
          "output_type": "stream",
          "text": [
            "10\n"
          ]
        }
      ],
      "source": [
        "from functools import reduce\n",
        "numbs = [1, 2, 3, 4]\n",
        "sum = reduce(lambda a, b: a+b, nums)\n",
        "print(sum)"
      ]
    },
    {
      "cell_type": "markdown",
      "metadata": {
        "id": "LZcu0re6X46b"
      },
      "source": [
        "11. Using pen and paper write the internal mechanism for operation using reduce function on the given list: [47,11,42,13];"
      ]
    },
    {
      "cell_type": "code",
      "source": [
        "from google.colab import files\n",
        "from Ipython.display import Image"
      ],
      "metadata": {
        "colab": {
          "base_uri": "https://localhost:8080/",
          "height": 627
        },
        "id": "wN9nv_-ij3k8",
        "outputId": "b2ddab79-57f3-435d-871e-364861b7ea40"
      },
      "execution_count": null,
      "outputs": [
        {
          "output_type": "error",
          "ename": "ModuleNotFoundError",
          "evalue": "No module named 'Ipython'",
          "traceback": [
            "\u001b[0;31m---------------------------------------------------------------------------\u001b[0m",
            "\u001b[0;31mModuleNotFoundError\u001b[0m                       Traceback (most recent call last)",
            "\u001b[0;32m<ipython-input-1-71e6b16d7e91>\u001b[0m in \u001b[0;36m<cell line: 0>\u001b[0;34m()\u001b[0m\n\u001b[1;32m      1\u001b[0m \u001b[0;32mfrom\u001b[0m \u001b[0mgoogle\u001b[0m\u001b[0;34m.\u001b[0m\u001b[0mcolab\u001b[0m \u001b[0;32mimport\u001b[0m \u001b[0mfiles\u001b[0m\u001b[0;34m\u001b[0m\u001b[0;34m\u001b[0m\u001b[0m\n\u001b[0;32m----> 2\u001b[0;31m \u001b[0;32mfrom\u001b[0m \u001b[0mIpython\u001b[0m\u001b[0;34m.\u001b[0m\u001b[0mdisplay\u001b[0m \u001b[0;32mimport\u001b[0m \u001b[0mImage\u001b[0m\u001b[0;34m\u001b[0m\u001b[0;34m\u001b[0m\u001b[0m\n\u001b[0m",
            "\u001b[0;31mModuleNotFoundError\u001b[0m: No module named 'Ipython'",
            "",
            "\u001b[0;31m---------------------------------------------------------------------------\u001b[0;32m\nNOTE: If your import is failing due to a missing package, you can\nmanually install dependencies using either !pip or !apt.\n\nTo view examples of installing some common dependencies, click the\n\"Open Examples\" button below.\n\u001b[0;31m---------------------------------------------------------------------------\u001b[0m\n"
          ],
          "errorDetails": {
            "actions": [
              {
                "action": "open_url",
                "actionText": "Open Examples",
                "url": "/notebooks/snippets/importing_libraries.ipynb"
              }
            ]
          }
        }
      ]
    },
    {
      "cell_type": "code",
      "source": [
        "uploaded ="
      ],
      "metadata": {
        "id": "OJYNbGr7kKGy"
      },
      "execution_count": null,
      "outputs": []
    },
    {
      "cell_type": "markdown",
      "metadata": {
        "id": "6e1vcCFrkPVO"
      },
      "source": [
        "### Practical question"
      ]
    },
    {
      "cell_type": "markdown",
      "metadata": {
        "id": "Y1dqucehklsA"
      },
      "source": [
        "1. Write a python function that take a list of numbers as input returns the sum of all even numbers in the list ."
      ]
    },
    {
      "cell_type": "code",
      "execution_count": null,
      "metadata": {
        "id": "YlRba7Qhk8Yv"
      },
      "outputs": [],
      "source": [
        "def sum_of_evens(numbers):\n",
        "    return sum(filter(lambda x: x % 2 == 0, numbers))"
      ]
    },
    {
      "cell_type": "markdown",
      "metadata": {
        "id": "oPZfQbGwk8r1"
      },
      "source": [
        "2. Create a python function that accepts a string and returns the reverse of that string."
      ]
    },
    {
      "cell_type": "code",
      "execution_count": null,
      "metadata": {
        "colab": {
          "base_uri": "https://localhost:8080/"
        },
        "id": "aUdW5-t-lG_6",
        "outputId": "d55d1636-b6f2-4bd4-a194-0dce6185fda4"
      },
      "outputs": [
        {
          "name": "stdout",
          "output_type": "stream",
          "text": [
            "olleH\n"
          ]
        }
      ],
      "source": [
        "def reverse_string(text):\n",
        "    \"\"\"Return the reversed string using slice notation.\"\"\"\n",
        "    return text[::-1]\n",
        "\n",
        "print(reverse_string(\"Hello\"))"
      ]
    },
    {
      "cell_type": "markdown",
      "metadata": {
        "id": "r-cHEDZTlMAu"
      },
      "source": [
        "3. Implement a python function that takes a list of integers and returns a new list containing the squares of each number."
      ]
    },
    {
      "cell_type": "code",
      "execution_count": null,
      "metadata": {
        "colab": {
          "base_uri": "https://localhost:8080/"
        },
        "id": "NFAYDEmslhkC",
        "outputId": "5f9f506d-400f-4a69-9f31-540532bf8b79"
      },
      "outputs": [
        {
          "name": "stdout",
          "output_type": "stream",
          "text": [
            "[1, 0, 25]\n"
          ]
        }
      ],
      "source": [
        "def square_numbers(numbers):\n",
        "    \"\"\"Return a new list with squares using map().\"\"\"\n",
        "    return list(map(lambda x: x**2, numbers))\n",
        "\n",
        "print(square_numbers([-1, 0, 5]))"
      ]
    },
    {
      "cell_type": "markdown",
      "metadata": {
        "id": "ClUVst1glh3-"
      },
      "source": [
        "4. Write a python that checks if a given number is prime or not from 1 to 200."
      ]
    },
    {
      "cell_type": "code",
      "execution_count": null,
      "metadata": {
        "colab": {
          "base_uri": "https://localhost:8080/"
        },
        "id": "RpY6GIQ4lue4",
        "outputId": "716af9c1-e88a-4b20-c0aa-fd7673c069c2"
      },
      "outputs": [
        {
          "name": "stdout",
          "output_type": "stream",
          "text": [
            "prime numbers between 1 and 200:\n",
            "2 3 5 7 11 13 17 19 23 29 31 37 41 43 47 53 59 61 67 71 73 79 83 89 97 101 103 107 109 113 127 131 137 139 149 151 157 163 167 173 179 181 191 193 197 199 \n",
            "\n",
            "List of primes: [2, 3, 5, 7, 11, 13, 17, 19, 23, 29, 31, 37, 41, 43, 47, 53, 59, 61, 67, 71, 73, 79, 83, 89, 97, 101, 103, 107, 109, 113, 127, 131, 137, 139, 149, 151, 157, 163, 167, 173, 179, 181, 191, 193, 197, 199]\n"
          ]
        }
      ],
      "source": [
        "def is_prime(n):\n",
        "    \"\"\"Check if a number is prime.\"\"\"\n",
        "    if n<=1:\n",
        "        return False\n",
        "    if n ==2:\n",
        "        return True\n",
        "    if n % 2 == 0:\n",
        "        return False\n",
        "    for i in range(3, int(n**0.5) +1, 2):\n",
        "        if n%i == 0:\n",
        "            return False\n",
        "    return True\n",
        "\n",
        "print(\"prime numbers between 1 and 200:\")\n",
        "for num in range(1, 201):\n",
        "    if is_prime(num):\n",
        "        print(num, end=' ')\n",
        "primes = [num for num in range(1, 201) if is_prime(num)]\n",
        "print(\"\\n\\nList of primes:\",primes)"
      ]
    },
    {
      "cell_type": "markdown",
      "metadata": {
        "id": "e9JKLgXLlxGT"
      },
      "source": [
        "5. Create an iterator class in python that generates the Fibonacci sequence up to a specified number of terms."
      ]
    },
    {
      "cell_type": "code",
      "execution_count": null,
      "metadata": {
        "colab": {
          "base_uri": "https://localhost:8080/"
        },
        "id": "iNIAI9FSmSgi",
        "outputId": "4a7f0ceb-0ede-4a22-81f3-6daacc0f65fa"
      },
      "outputs": [
        {
          "name": "stdout",
          "output_type": "stream",
          "text": [
            "\n",
            "First 10 Fibonacci numbers (using generator):\n",
            "0 1 1 2 3 5 8 13 21 34 "
          ]
        }
      ],
      "source": [
        "def fibonacci_generator(max_terms):\n",
        "    a, b = 0, 1\n",
        "    for _ in range(max_terms):\n",
        "        yield a\n",
        "        a, b = b , a + b\n",
        "\n",
        "print(\"\\nFirst 10 Fibonacci numbers (using generator):\")\n",
        "for num in fibonacci_generator(10):\n",
        "    print(num, end=' ')"
      ]
    },
    {
      "cell_type": "markdown",
      "metadata": {
        "id": "zXvT7nqxmSrc"
      },
      "source": [
        "6. Write a generator function in python that yields the powers of 2 up to a given exponent."
      ]
    },
    {
      "cell_type": "code",
      "execution_count": null,
      "metadata": {
        "colab": {
          "base_uri": "https://localhost:8080/"
        },
        "id": "IbnJ3rW3mkHt",
        "outputId": "43b7350c-9147-430f-f8f6-295fa3fe18ed"
      },
      "outputs": [
        {
          "name": "stdout",
          "output_type": "stream",
          "text": [
            "powers of 2 up to exponent 5:\n",
            "1 2 4 8 16 32 "
          ]
        }
      ],
      "source": [
        "def powers_of_two(max_exponent):\n",
        "    \"\"\"Generator that yields powers of 2 from 2^0 up to 2^max_exponent\"\"\"\n",
        "    for exponent in range(max_exponent + 1):\n",
        "        yield 2 ** exponent\n",
        "\n",
        "print(\"powers of 2 up to exponent 5:\")\n",
        "for power in powers_of_two(5):\n",
        "    print(power, end=' ')"
      ]
    },
    {
      "cell_type": "markdown",
      "metadata": {
        "id": "4wTZFby_mloK"
      },
      "source": [
        "7. Implement a generator function that reads a file line and yields each line as a string."
      ]
    },
    {
      "cell_type": "code",
      "execution_count": null,
      "metadata": {
        "id": "4zOygcg7m8G2"
      },
      "outputs": [],
      "source": [
        "def read_large_file(file_path):\n",
        "    \"\"\"Alternative version for very large files.\"\"\"\n",
        "    with open(file_path, 'r') as file:\n",
        "        yield from file"
      ]
    },
    {
      "cell_type": "markdown",
      "metadata": {
        "id": "IjQiVpFum9H4"
      },
      "source": [
        "8. Use a lambda function in python a sort a list of tuples based on the second element of each tuple."
      ]
    },
    {
      "cell_type": "code",
      "execution_count": null,
      "metadata": {
        "colab": {
          "background_save": true,
          "base_uri": "https://localhost:8080/",
          "height": 179
        },
        "id": "1DlWslQtnPCw",
        "outputId": "90fd8bf2-d2eb-4d5b-b379-4868e4c199d0"
      },
      "outputs": [
        {
          "ename": "NameError",
          "evalue": "name 'celsius_temps' is not defined",
          "output_type": "error",
          "traceback": [
            "\u001b[0;31m---------------------------------------------------------------------------\u001b[0m",
            "\u001b[0;31mNameError\u001b[0m                                 Traceback (most recent call last)",
            "\u001b[0;32m<ipython-input-17-29eca439eebe>\u001b[0m in \u001b[0;36m<cell line: 0>\u001b[0;34m()\u001b[0m\n\u001b[1;32m      6\u001b[0m \u001b[0mfahrenheit_temps\u001b[0m \u001b[0;34m=\u001b[0m \u001b[0mlist\u001b[0m\u001b[0;34m(\u001b[0m\u001b[0mmap\u001b[0m\u001b[0;34m(\u001b[0m\u001b[0mcelcius_to_fahrenheit\u001b[0m\u001b[0;34m,\u001b[0m\u001b[0mcelcius_temps\u001b[0m\u001b[0;34m)\u001b[0m\u001b[0;34m)\u001b[0m\u001b[0;34m\u001b[0m\u001b[0;34m\u001b[0m\u001b[0m\n\u001b[1;32m      7\u001b[0m \u001b[0;34m\u001b[0m\u001b[0m\n\u001b[0;32m----> 8\u001b[0;31m \u001b[0mprint\u001b[0m\u001b[0;34m(\u001b[0m\u001b[0;34m\"Celsius:\"\u001b[0m\u001b[0;34m,\u001b[0m\u001b[0mcelsius_temps\u001b[0m\u001b[0;34m)\u001b[0m\u001b[0;34m\u001b[0m\u001b[0;34m\u001b[0m\u001b[0m\n\u001b[0m\u001b[1;32m      9\u001b[0m \u001b[0mprint\u001b[0m\u001b[0;34m(\u001b[0m\u001b[0;34m\"Fahrenheit:\"\u001b[0m\u001b[0;34m,\u001b[0m\u001b[0mfahrenheit_temps\u001b[0m\u001b[0;34m)\u001b[0m\u001b[0;34m\u001b[0m\u001b[0;34m\u001b[0m\u001b[0m\n",
            "\u001b[0;31mNameError\u001b[0m: name 'celsius_temps' is not defined"
          ]
        }
      ],
      "source": [
        "celcius_temps = [0, 10, 20, 30, 40]\n",
        "\n",
        "def celcius_to_fahrenheit(c):\n",
        "    \"\"\"Convert Celsius to Fahrenheit\"\"\"\n",
        "    return (9/5)*c+32\n",
        "fahrenheit_temps = list(map(celcius_to_fahrenheit,celcius_temps)\n",
        "\n",
        "print(\"Celsius:\",celsius_temps)\n",
        "print(\"Fahrenheit:\"fahrenheit_temps)"
      ]
    },
    {
      "cell_type": "markdown",
      "metadata": {
        "id": "Tm2rhnu8nP7Q"
      },
      "source": [
        "9. Write a python program that uses 'map()'to convert a list of temprature from celcius to Fahrenheit."
      ]
    },
    {
      "cell_type": "code",
      "execution_count": 4,
      "metadata": {
        "id": "vSsQlrNinkAK",
        "colab": {
          "base_uri": "https://localhost:8080/",
          "height": 106
        },
        "outputId": "0b56bab4-4f96-4611-8b0a-d9e9f5982ffa"
      },
      "outputs": [
        {
          "output_type": "error",
          "ename": "SyntaxError",
          "evalue": "unmatched ')' (<ipython-input-4-ef1823838691>, line 1)",
          "traceback": [
            "\u001b[0;36m  File \u001b[0;32m\"<ipython-input-4-ef1823838691>\"\u001b[0;36m, line \u001b[0;32m1\u001b[0m\n\u001b[0;31m    del celsius_to_fahrenheit(c))\u001b[0m\n\u001b[0m                                ^\u001b[0m\n\u001b[0;31mSyntaxError\u001b[0m\u001b[0;31m:\u001b[0m unmatched ')'\n"
          ]
        }
      ],
      "source": [
        "del celsius_to_fahrenheit(c))\n",
        "    return(9\\5)*c + 32)\n",
        "\n",
        "celsius_temps = {0, 10, 20, 30, 40 }\n",
        "fahrenheit_temps = list(map(elsius_to_fahrenheit,celsius_temps)\n",
        "print(\"celsius\",celsius_temps)\n",
        "print(\"fahrenheit\",fahrenheit_temps)"
      ]
    },
    {
      "cell_type": "markdown",
      "metadata": {
        "id": "31K7eHsxnk1B"
      },
      "source": [
        "10. Write a python program that uses 'filter()'to remove all the vowels from a given string."
      ]
    },
    {
      "cell_type": "code",
      "execution_count": null,
      "metadata": {
        "colab": {
          "background_save": true
        },
        "id": "YdoyRblln29K",
        "outputId": "2712e6f4-c788-496b-ec45-1f7520c8ea2e"
      },
      "outputs": [
        {
          "name": "stdout",
          "output_type": "stream",
          "text": [
            "Hll, Wrld!Ths s  tst strng.\n"
          ]
        }
      ],
      "source": []
    },
    {
      "cell_type": "markdown",
      "metadata": {
        "id": "MFBfrjain6Oi"
      },
      "source": [
        "11. Imagine an accounting routine used in a book shop. It works on a list with sublists, which look like this :\n",
        "\n",
        "Order Number: 34587 98762 77226 88112\n",
        "\n",
        "Book Title and author: Learning python,Mark Lutz programming python,Mark Lutz Head First python,Paul Barry  Einfuhrung in python 3,Bernd Klein\n",
        "\n",
        "Quantity: 4 5 3 3\n",
        "\n",
        "Price per item: 40.95 56.80 32.95 24.99\n",
        "\n",
        "Write a python program, which returns a list with 2 - tuples. Each type consists of the order number and the product of the price per item and the quantity.tge product should be increased by 10"
      ]
    }
  ],
  "metadata": {
    "colab": {
      "provenance": [],
      "authorship_tag": "ABX9TyMlOgkgPW8eXdNpikQInYR4",
      "include_colab_link": true
    },
    "kernelspec": {
      "display_name": "Python 3",
      "name": "python3"
    },
    "language_info": {
      "name": "python"
    }
  },
  "nbformat": 4,
  "nbformat_minor": 0
}