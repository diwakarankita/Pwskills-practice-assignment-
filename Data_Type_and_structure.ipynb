{
  "nbformat": 4,
  "nbformat_minor": 0,
  "metadata": {
    "colab": {
      "provenance": [],
      "authorship_tag": "ABX9TyPOemxIgLlo/kE24VmlM1/+",
      "include_colab_link": true
    },
    "kernelspec": {
      "name": "python3",
      "display_name": "Python 3"
    },
    "language_info": {
      "name": "python"
    }
  },
  "cells": [
    {
      "cell_type": "markdown",
      "metadata": {
        "id": "view-in-github",
        "colab_type": "text"
      },
      "source": [
        "<a href=\"https://colab.research.google.com/github/diwakarankita/Pwskills-practice-assignment-/blob/main/Data_Type_and_structure.ipynb\" target=\"_parent\"><img src=\"https://colab.research.google.com/assets/colab-badge.svg\" alt=\"Open In Colab\"/></a>"
      ]
    },
    {
      "cell_type": "markdown",
      "source": [],
      "metadata": {
        "id": "qxIu9PtLvBox"
      }
    },
    {
      "cell_type": "markdown",
      "source": [
        "##Data Type and Structure"
      ],
      "metadata": {
        "id": "KnjPwDkyvT50"
      }
    },
    {
      "cell_type": "markdown",
      "source": [
        "1. What are data structures and why are they important?\n",
        "- data structures are ways of organising and storing data in a computer so that it can be accessed and modify efficiently. Python provides several built-in Data Structures, each suited for different kinds of operations.\n",
        "\n",
        "###common python data structures\n",
        "- Lists\n",
        " - ordered, mutable (changeable) , allows duplicates.\n",
        " - Example: [ 1, 2, 3, \"hello\"]\n",
        " -used for sequential data storage.\n",
        "- Tuples\n",
        " - ordered, immutable (cannot be changed) allow duplicate.\n",
        " - Example: (1, 2, 3, \" hello\")\n",
        " - used for fixed collection.\n",
        "- Dictionaries\n",
        " - unordered, mutable, stores key-value pairs key must be unique.\n",
        " - Example: {\"name\": \"Alice\", \"age\":25}\n",
        " - used for fast lookups (like a real world-dictionary).\n",
        "- Sets\n",
        " - unordered mutable, no duplicate, useful for membership tests.\n",
        " - Example: {1, 2, 3, 4}\n",
        " - used for mathematical operations (union, intersection).\n",
        "- Strings\n",
        " - immutable sequence of characters.\n",
        " - Example: \"Hello, World\"\n",
        " - used for text processing.\n",
        "- Arrays\n",
        " - more efficient than list for numerical data.\n",
        " - Example: array('i', [1, 2, 3]\n",
        "- Stacks & Queues\n",
        " - Stack (LIFO): Last in, first out (using list with append() and pop ()).\n",
        " - Queue(FIFO): first in, first out (using collection.dequue).\n",
        "- Linked Lists, Tees, Graphs\n",
        " - custom implementation (using classes) for advance algorithm.\n",
        "###Importance of Data Structure\n",
        "- Efficiency:\n",
        " - choosing the right Data Structure optimises speed (time complexity) and memory uses (space complexity).\n",
        " - Example:\n",
        "  - list search: O(n)(flower for large data).\n",
        "  - dictionary lookup: O(1)(much faster).\n",
        "- Problem-Solving\n",
        " - different problems required different structure:\n",
        " - Need ordered data?→List\n",
        " - Need unique elements?→Set\n",
        " - Need first look ups→Dictionary\n",
        "- Built-in methods\n",
        " - python provides optimised method for each structure (e.g list.sort(),dict.keys()).\n",
        "- Algorithm Optimization\n",
        " - many algorithms (sorting, searching, graph traversal) rely on efficient data structures.\n",
        "- Real-World Application\n",
        " - Dictionaries→JSON data, databases\n",
        " - lists→dynamic collection\n",
        " - sets→removing duplicates\n",
        " - tuples→fixed configuration\n",
        "## Conclusion:\n",
        "  - Understanding pythons that are structure help you right faster, cleaner and more efficient code."
      ],
      "metadata": {
        "id": "qom3LjNdvdvu"
      }
    },
    {
      "cell_type": "markdown",
      "source": [
        "2. Explain the difference between mutable and immutable data types with examples.\n",
        "##Immutable Data Type\n",
        "- The immutable types are those that can never change their value in place. The in python the following types are immutable: integers floating point numbers, booleans, strings, tuples.\n",
        "- Examples of Immutable Types:\n",
        " - Integers(int)\n",
        " - Floats(float)\n",
        " - Strings(str)\n",
        " - Tuples(tuple)\n",
        " - Booleans(bool)\n",
        " - Frozen Sets(frozenset)"
      ],
      "metadata": {
        "id": "RdubKwXWx2_l"
      }
    },
    {
      "cell_type": "code",
      "source": [
        "# Example:\n",
        "x = 10\n",
        "print(x)\n",
        "\n",
        "X = x + 5\n",
        "print (X)"
      ],
      "metadata": {
        "colab": {
          "base_uri": "https://localhost:8080/"
        },
        "id": "qn-hRN-e0Gav",
        "outputId": "ed69d875-1b59-4798-a742-62232b5045be"
      },
      "execution_count": null,
      "outputs": [
        {
          "output_type": "stream",
          "name": "stdout",
          "text": [
            "10\n",
            "15\n"
          ]
        }
      ]
    },
    {
      "cell_type": "code",
      "source": [
        "# Example:\n",
        "s = \"hello\"\n",
        "print(s)\n",
        "\n",
        "s = s + \"world\"\n",
        "print(s)"
      ],
      "metadata": {
        "colab": {
          "base_uri": "https://localhost:8080/"
        },
        "id": "uCtGypQ20xUw",
        "outputId": "67d0bca7-3126-444e-eb2a-d9af657126e4"
      },
      "execution_count": null,
      "outputs": [
        {
          "output_type": "stream",
          "name": "stdout",
          "text": [
            "hello\n",
            "helloworld\n"
          ]
        }
      ]
    },
    {
      "cell_type": "code",
      "source": [
        "# Example:\n",
        "t = (1, 2, 3)"
      ],
      "metadata": {
        "id": "ekbr57w61YR_"
      },
      "execution_count": null,
      "outputs": []
    },
    {
      "cell_type": "code",
      "source": [
        "t[0] = 99 # tuples cannot be assigned"
      ],
      "metadata": {
        "colab": {
          "base_uri": "https://localhost:8080/",
          "height": 245
        },
        "id": "wqF6Ag_F1zAk",
        "outputId": "a8eb4348-93ec-472b-8269-c277faa54ff7"
      },
      "execution_count": null,
      "outputs": [
        {
          "output_type": "error",
          "ename": "TypeError",
          "evalue": "'tuple' object does not support item assignment",
          "traceback": [
            "\u001b[0;31m---------------------------------------------------------------------------\u001b[0m",
            "\u001b[0;31mTypeError\u001b[0m                                 Traceback (most recent call last)",
            "\u001b[0;32m<ipython-input-4-cdf128daff63>\u001b[0m in \u001b[0;36m<cell line: 0>\u001b[0;34m()\u001b[0m\n\u001b[0;32m----> 1\u001b[0;31m \u001b[0mt\u001b[0m\u001b[0;34m[\u001b[0m\u001b[0;36m0\u001b[0m\u001b[0;34m]\u001b[0m \u001b[0;34m=\u001b[0m \u001b[0;36m99\u001b[0m\u001b[0;34m\u001b[0m\u001b[0;34m\u001b[0m\u001b[0m\n\u001b[0m",
            "\u001b[0;31mTypeError\u001b[0m: 'tuple' object does not support item assignment"
          ]
        }
      ]
    },
    {
      "cell_type": "markdown",
      "source": [
        "## Mutable Data Type\n",
        "- The mutable types are those whose value can be changed in place. Only three types are mutable in python these are list, dictionaries and sets."
      ],
      "metadata": {
        "id": "OhnOZ3vj2Jkq"
      }
    },
    {
      "cell_type": "code",
      "source": [
        "# Example:\n",
        "list = [16, 10, 1]"
      ],
      "metadata": {
        "id": "YVRull_Y27Bk"
      },
      "execution_count": null,
      "outputs": []
    },
    {
      "cell_type": "code",
      "source": [
        "\n",
        "print(list)"
      ],
      "metadata": {
        "colab": {
          "base_uri": "https://localhost:8080/"
        },
        "id": "6VuUIJAk8f4K",
        "outputId": "68fb633f-b1f2-4e0a-9a92-4ece9a0414f9"
      },
      "execution_count": null,
      "outputs": [
        {
          "output_type": "stream",
          "name": "stdout",
          "text": [
            "[16, 10, 1]\n"
          ]
        }
      ]
    },
    {
      "cell_type": "code",
      "source": [
        "list.append(6)\n",
        "print(list)"
      ],
      "metadata": {
        "colab": {
          "base_uri": "https://localhost:8080/"
        },
        "id": "2QX1nlF99PjA",
        "outputId": "5aa9655f-55d0-4fc0-c8dd-264217032e76"
      },
      "execution_count": null,
      "outputs": [
        {
          "output_type": "stream",
          "name": "stdout",
          "text": [
            "[16, 10, 1, 6, 6, 6]\n"
          ]
        }
      ]
    },
    {
      "cell_type": "code",
      "source": [
        "my_dict = {\"Ankita\": 23, \"Sakshi\": 15,\"Akanksha\":20}\n",
        "print(my_dict)"
      ],
      "metadata": {
        "colab": {
          "base_uri": "https://localhost:8080/"
        },
        "id": "cFocZUkg9vLC",
        "outputId": "150bfb86-c9ff-409d-ecb7-627d6b9eda58"
      },
      "execution_count": null,
      "outputs": [
        {
          "output_type": "stream",
          "name": "stdout",
          "text": [
            "{'Ankita': 23, 'Sakshi': 15, 'Akanksha': 20}\n"
          ]
        }
      ]
    },
    {
      "cell_type": "code",
      "source": [
        "my_dict[\"Prince\"] = 15\n",
        "print(my_dict)"
      ],
      "metadata": {
        "colab": {
          "base_uri": "https://localhost:8080/"
        },
        "id": "MmTKNc7t-dr6",
        "outputId": "b7b97491-cf33-4c73-adc2-585499006752"
      },
      "execution_count": null,
      "outputs": [
        {
          "output_type": "stream",
          "name": "stdout",
          "text": [
            "{'Ankita': 23, 'Sakshi': 15, 'Akanksha': 20, 'Prince': 15}\n"
          ]
        }
      ]
    },
    {
      "cell_type": "code",
      "source": [
        "set = {1, 6, 3}\n",
        "print(set)"
      ],
      "metadata": {
        "colab": {
          "base_uri": "https://localhost:8080/"
        },
        "id": "sJGZEOYc-7_r",
        "outputId": "0dbeeaf0-40de-4a49-b4fe-47f51dbc3cce"
      },
      "execution_count": null,
      "outputs": [
        {
          "output_type": "stream",
          "name": "stdout",
          "text": [
            "{1, 3, 6}\n"
          ]
        }
      ]
    },
    {
      "cell_type": "code",
      "source": [
        "set.add(16)\n",
        "print(set)"
      ],
      "metadata": {
        "colab": {
          "base_uri": "https://localhost:8080/"
        },
        "id": "K4uszdC6_JDg",
        "outputId": "db550201-1754-468f-bb3e-ba2b43e03399"
      },
      "execution_count": null,
      "outputs": [
        {
          "output_type": "stream",
          "name": "stdout",
          "text": [
            "{16, 1, 3, 6}\n"
          ]
        }
      ]
    },
    {
      "cell_type": "markdown",
      "source": [
        "3. What are the main difference between lists and tuples in python?\n",
        "- List and tuples are both sequence data types in python, but they have important difference in terms of mutability, performance and use cases.\n",
        "- Mutability\n",
        " - List(mutable)\n",
        " - can be modified after creation (add, remove or change elements)."
      ],
      "metadata": {
        "id": "loTn9jJ5_Yy9"
      }
    },
    {
      "cell_type": "code",
      "source": [
        "# Example:\n",
        "List = [1, 6, 5]\n",
        "List[0] = 99\n",
        "List.append(16)\n",
        "print(List)"
      ],
      "metadata": {
        "colab": {
          "base_uri": "https://localhost:8080/"
        },
        "id": "Ohws7I07Abhz",
        "outputId": "85fb472e-2d84-46ae-b51e-a2e4f2e60151"
      },
      "execution_count": null,
      "outputs": [
        {
          "output_type": "stream",
          "name": "stdout",
          "text": [
            "[99, 6, 5, 16]\n"
          ]
        }
      ]
    },
    {
      "cell_type": "markdown",
      "source": [
        "- Tuple ( immutable)\n",
        " - cannot be modified after creation."
      ],
      "metadata": {
        "id": "ZoKl1kphCTzn"
      }
    },
    {
      "cell_type": "code",
      "source": [
        "#Example:\n",
        "t = ( 1, 2, 3) # tuples cannot be modified after creation\n",
        "t[0] = 16"
      ],
      "metadata": {
        "colab": {
          "base_uri": "https://localhost:8080/",
          "height": 280
        },
        "id": "G8z9jwU4Cpwu",
        "outputId": "6d73003b-7d51-4246-9145-110a00901501"
      },
      "execution_count": null,
      "outputs": [
        {
          "output_type": "error",
          "ename": "TypeError",
          "evalue": "'tuple' object does not support item assignment",
          "traceback": [
            "\u001b[0;31m---------------------------------------------------------------------------\u001b[0m",
            "\u001b[0;31mTypeError\u001b[0m                                 Traceback (most recent call last)",
            "\u001b[0;32m<ipython-input-41-5a35a1ebc94c>\u001b[0m in \u001b[0;36m<cell line: 0>\u001b[0;34m()\u001b[0m\n\u001b[1;32m      1\u001b[0m \u001b[0;31m#Example:\u001b[0m\u001b[0;34m\u001b[0m\u001b[0;34m\u001b[0m\u001b[0m\n\u001b[1;32m      2\u001b[0m \u001b[0mt\u001b[0m \u001b[0;34m=\u001b[0m \u001b[0;34m(\u001b[0m \u001b[0;36m1\u001b[0m\u001b[0;34m,\u001b[0m \u001b[0;36m2\u001b[0m\u001b[0;34m,\u001b[0m \u001b[0;36m3\u001b[0m\u001b[0;34m)\u001b[0m\u001b[0;34m\u001b[0m\u001b[0;34m\u001b[0m\u001b[0m\n\u001b[0;32m----> 3\u001b[0;31m \u001b[0mt\u001b[0m\u001b[0;34m[\u001b[0m\u001b[0;36m0\u001b[0m\u001b[0;34m]\u001b[0m \u001b[0;34m=\u001b[0m \u001b[0;36m16\u001b[0m\u001b[0;34m\u001b[0m\u001b[0;34m\u001b[0m\u001b[0m\n\u001b[0m",
            "\u001b[0;31mTypeError\u001b[0m: 'tuple' object does not support item assignment"
          ]
        }
      ]
    },
    {
      "cell_type": "markdown",
      "source": [
        "- Syntax\n",
        " - List → Uses square brackets [ ]"
      ],
      "metadata": {
        "id": "N95DkqlkDn1v"
      }
    },
    {
      "cell_type": "code",
      "source": [
        "my_list = [ 16, 1, 4]"
      ],
      "metadata": {
        "id": "rCU_wP_oD6SV"
      },
      "execution_count": null,
      "outputs": []
    },
    {
      "cell_type": "markdown",
      "source": [
        "- Tuple → uses parentheses ( )\n",
        " (commas are mandatory)"
      ],
      "metadata": {
        "id": "3fXCusAqEEXV"
      }
    },
    {
      "cell_type": "code",
      "source": [
        "t = (1, 2, 3)"
      ],
      "metadata": {
        "id": "hmB0wxuuEfsE"
      },
      "execution_count": null,
      "outputs": []
    },
    {
      "cell_type": "markdown",
      "source": [
        "- Performance and Memory Efficiency\n",
        " - tuples are faster (slightly better performance) because they are immutable and stored more efficiently.\n",
        " - list consume more memory due to dynamic resizing."
      ],
      "metadata": {
        "id": "160oH9T4FGuq"
      }
    },
    {
      "cell_type": "markdown",
      "source": [
        "##Use Cases\n",
        " #when to use a list\n",
        "  - when data needs to be modified.\n",
        "  - used forstacks and queues(. append ( ),. Pop ()).\n",
        "  - slower but flexible.\n",
        "\n",
        " #when to use a tuple\n",
        " - when data should not change.\n",
        " - used askeys in dictionaries since they are hashable\n",
        " - first of but fixed in size."
      ],
      "metadata": {
        "id": "mIGlvAUbFxTj"
      }
    },
    {
      "cell_type": "markdown",
      "source": [
        "4. Describe how dictionaries\n",
        "store data.\n",
        "- dictionaries in python are unordered collections of key-value pairs that provide fast O(1) average-time complexity for lookups, insertion and deletions. They are implemented using a hash table under the hood.\n",
        "\n",
        "###key features of python dictionary\n",
        "- key-value pairs: Each entry consists of a unique mapped to a value.\n",
        "- Mutable: keys can be added modified, or removed.\n",
        "- Unordered: before python 3.7 dictionaries did not preserve insertion order. Now they do.\n",
        "- Fast lookups: due to hashing, retrieving a value by key in extremely efficient.\n",
        "\n",
        "###How Dictionaries Work Internally\n",
        " - Python dictionary use a hash table for storage. Here's how its works:\n",
        "###Hashing the key\n",
        "  - when you insert a key-value pair, Python computes a hash of the key using hash(key).\n",
        "  - The hash in an integer that determines the bucket where the value will be stored.\n",
        "###storing in a bucket\n",
        " - The hash value is used to find an index in an underline a ray.\n",
        " - If two keys produce the same has, Python uses open addressing or separate changing to resolve it.\n",
        "###dictionary memory structure\n",
        "A Python dictionary consists of:\n",
        "- Hash table: an array of buckets.\n",
        "- Hash function: maths keys to bucket indices.\n",
        "- Collision handling: resolve cases where to keys has to the same bucket."
      ],
      "metadata": {
        "id": "-a8FJVxxHhMY"
      }
    },
    {
      "cell_type": "code",
      "source": [
        "my_dict = { \"name\":\"Alice\",\"age\":25}"
      ],
      "metadata": {
        "id": "bg-HSs0oMTR-"
      },
      "execution_count": null,
      "outputs": []
    },
    {
      "cell_type": "code",
      "source": [
        "print(my_dict)"
      ],
      "metadata": {
        "colab": {
          "base_uri": "https://localhost:8080/"
        },
        "id": "lxf2pksYMiKD",
        "outputId": "4d549423-1e98-43aa-fe2d-0c8813352d38"
      },
      "execution_count": null,
      "outputs": [
        {
          "output_type": "stream",
          "name": "stdout",
          "text": [
            "{'name': 'Alice', 'age': 25}\n"
          ]
        }
      ]
    },
    {
      "cell_type": "markdown",
      "source": [
        "When to use dictionaries?\n",
        "- fast lookups bike ki\n",
        "- storing structure data\n",
        "- counting frequencies"
      ],
      "metadata": {
        "id": "jxD1nnFVMraV"
      }
    },
    {
      "cell_type": "markdown",
      "source": [
        "5. What might use a set instead of a list in Python?\n",
        "\n",
        "###Removing Duplicates\n",
        " - sets automatically eliminate duplicate since they only store unique elements."
      ],
      "metadata": {
        "id": "AB5BVkUjNB5r"
      }
    },
    {
      "cell_type": "code",
      "source": [
        "# Example:\n",
        "items = {1, 2, 5, 3, 5, 2, 1,16}\n",
        "print(items) # sets eliminates duplicate values"
      ],
      "metadata": {
        "colab": {
          "base_uri": "https://localhost:8080/"
        },
        "id": "PnoUJBjLOuP0",
        "outputId": "e865e9cb-16ed-4eb8-c768-78698042b942"
      },
      "execution_count": null,
      "outputs": [
        {
          "output_type": "stream",
          "name": "stdout",
          "text": [
            "{16, 1, 2, 3, 5}\n"
          ]
        }
      ]
    },
    {
      "cell_type": "markdown",
      "source": [
        "- Fast Membership Testing\n",
        " - sets use hash tables, making such checks O(1) constant time, where is mistake O(n) linear time."
      ],
      "metadata": {
        "id": "tDXAgfIGPKWD"
      }
    },
    {
      "cell_type": "markdown",
      "source": [
        "6. What is string in Python and how is it different from a list?\n",
        "- In Python, both strings and list are sequence types but they serve different purposes and have key differences.\n",
        "\n",
        "###String in python\n",
        "\n",
        "- a string is an immutable sequence of Unicode characters. It is defined using single ('  '), double (\"  \") or triple quotes('''  '''or\"\"\"  \"\"\")."
      ],
      "metadata": {
        "id": "6Ppigl5ZWH4-"
      }
    },
    {
      "cell_type": "code",
      "source": [
        "text = \" Hello, World\"\n",
        "print(text[0])"
      ],
      "metadata": {
        "colab": {
          "base_uri": "https://localhost:8080/"
        },
        "id": "UZQUj5t4XsEu",
        "outputId": "168d56b9-79d7-417a-cfa6-0a8ecf169925"
      },
      "execution_count": null,
      "outputs": [
        {
          "output_type": "stream",
          "name": "stdout",
          "text": [
            " \n"
          ]
        }
      ]
    },
    {
      "cell_type": "markdown",
      "source": [
        "###Key Features Of Strings:\n",
        "\n",
        "- Immutable: Cannot be modified after creation.\n",
        "- Sequence of characters: Each element is a single character.\n",
        "- support spring-pacific method like .upper( ), .replace ( ), replace( ) etc.\n",
        "- Used for text processing."
      ],
      "metadata": {
        "id": "yyRhgTu1YV1R"
      }
    },
    {
      "cell_type": "markdown",
      "source": [
        "###how string is different from list\n",
        "\n",
        "- String: Immutable"
      ],
      "metadata": {
        "id": "mpYEUaEVaCxr"
      }
    },
    {
      "cell_type": "code",
      "source": [
        "text = \"hello\"\n",
        "text[0] = \"H\" # string does not support item assignment"
      ],
      "metadata": {
        "colab": {
          "base_uri": "https://localhost:8080/",
          "height": 263
        },
        "id": "xqwCX-YRa_Iw",
        "outputId": "dee64afb-2d8c-440a-d905-f457825eef06"
      },
      "execution_count": null,
      "outputs": [
        {
          "output_type": "error",
          "ename": "TypeError",
          "evalue": "'str' object does not support item assignment",
          "traceback": [
            "\u001b[0;31m---------------------------------------------------------------------------\u001b[0m",
            "\u001b[0;31mTypeError\u001b[0m                                 Traceback (most recent call last)",
            "\u001b[0;32m<ipython-input-3-dd1d7e08cfe4>\u001b[0m in \u001b[0;36m<cell line: 0>\u001b[0;34m()\u001b[0m\n\u001b[1;32m      1\u001b[0m \u001b[0mtext\u001b[0m \u001b[0;34m=\u001b[0m \u001b[0;34m\"hello\"\u001b[0m\u001b[0;34m\u001b[0m\u001b[0;34m\u001b[0m\u001b[0m\n\u001b[0;32m----> 2\u001b[0;31m \u001b[0mtext\u001b[0m\u001b[0;34m[\u001b[0m\u001b[0;36m0\u001b[0m\u001b[0;34m]\u001b[0m \u001b[0;34m=\u001b[0m \u001b[0;34m\"H\"\u001b[0m\u001b[0;34m\u001b[0m\u001b[0;34m\u001b[0m\u001b[0m\n\u001b[0m",
            "\u001b[0;31mTypeError\u001b[0m: 'str' object does not support item assignment"
          ]
        }
      ]
    },
    {
      "cell_type": "markdown",
      "source": [
        "- List: Mutable"
      ],
      "metadata": {
        "id": "sthe7xBibZoP"
      }
    },
    {
      "cell_type": "code",
      "source": [
        "A = [ 16, 1, 3]\n",
        "A[0] = 99\n",
        "print(A)"
      ],
      "metadata": {
        "colab": {
          "base_uri": "https://localhost:8080/"
        },
        "id": "cgBMgnBMbfgm",
        "outputId": "3215db87-84d6-4182-850d-953a84f688e9"
      },
      "execution_count": null,
      "outputs": [
        {
          "output_type": "stream",
          "name": "stdout",
          "text": [
            "[99, 1, 3]\n"
          ]
        }
      ]
    },
    {
      "cell_type": "code",
      "source": [
        "###Types of Elements\n",
        "\n",
        "#String: Stores only characters (text).\n",
        "\n",
        "str = \"abc123\"\n",
        "print(str)"
      ],
      "metadata": {
        "colab": {
          "base_uri": "https://localhost:8080/"
        },
        "id": "BSle45wYdk2z",
        "outputId": "ee9bc2fa-586d-4e57-acef-9b285be686e1"
      },
      "execution_count": null,
      "outputs": [
        {
          "output_type": "stream",
          "name": "stdout",
          "text": [
            "abc123\n"
          ]
        }
      ]
    },
    {
      "cell_type": "code",
      "source": [
        "# List: Stores any data type (integers, string, other list etc.).\n",
        "mixed_list = [1, \"hello\", [3, 14, True]]\n",
        "print(mixed_list)"
      ],
      "metadata": {
        "colab": {
          "base_uri": "https://localhost:8080/"
        },
        "id": "yGBiRKUoeCHO",
        "outputId": "ebb5bebe-72ce-4550-d45a-18cc5aff3704"
      },
      "execution_count": null,
      "outputs": [
        {
          "output_type": "stream",
          "name": "stdout",
          "text": [
            "[1, 'hello', [3, 14, True]]\n"
          ]
        }
      ]
    },
    {
      "cell_type": "code",
      "source": [
        "###Syntax\n",
        "\n",
        "# string: defined using quotes('  ',\". \",''' ''',\"\"\" \"\"\")\n",
        "name = \"python\"\n",
        "print(name)"
      ],
      "metadata": {
        "colab": {
          "base_uri": "https://localhost:8080/"
        },
        "id": "PLPoSlWofALA",
        "outputId": "9c298a44-c1af-4b3a-a01d-4c01a7071211"
      },
      "execution_count": null,
      "outputs": [
        {
          "output_type": "stream",
          "name": "stdout",
          "text": [
            "python\n"
          ]
        }
      ]
    },
    {
      "cell_type": "code",
      "source": [
        "#List: defined using square bracket[ ]\n",
        "numbers = [ 1, 2, 3]\n",
        "print(numbers)"
      ],
      "metadata": {
        "colab": {
          "base_uri": "https://localhost:8080/"
        },
        "id": "iyOiE-2_fsS7",
        "outputId": "b24f033c-68fa-4902-e635-38f4a7b4d9e3"
      },
      "execution_count": null,
      "outputs": [
        {
          "output_type": "stream",
          "name": "stdout",
          "text": [
            "[1, 2, 3]\n"
          ]
        }
      ]
    },
    {
      "cell_type": "code",
      "source": [
        "###Operation and Methods\n",
        "\n",
        "#String- specific operation\n",
        "\n",
        "# Used for text manipulation (slicing, formatting searching)."
      ],
      "metadata": {
        "colab": {
          "base_uri": "https://localhost:8080/",
          "height": 141
        },
        "id": "ACiDpi-ogRKA",
        "outputId": "e25e6cd9-cab8-462c-ca5e-190d64ac8fcb"
      },
      "execution_count": null,
      "outputs": [
        {
          "output_type": "error",
          "ename": "IndentationError",
          "evalue": "unexpected indent (<ipython-input-30-db5b43b63d85>, line 8)",
          "traceback": [
            "\u001b[0;36m  File \u001b[0;32m\"<ipython-input-30-db5b43b63d85>\"\u001b[0;36m, line \u001b[0;32m8\u001b[0m\n\u001b[0;31m    split.A(\"h\")\u001b[0m\n\u001b[0m    ^\u001b[0m\n\u001b[0;31mIndentationError\u001b[0m\u001b[0;31m:\u001b[0m unexpected indent\n"
          ]
        }
      ]
    },
    {
      "cell_type": "code",
      "source": [
        "###List - Specific Operation\n",
        "\n",
        "# Used for data collection management (adding, removing, sorting).\n",
        "\n",
        "List = [ 3, 1, 2]\n",
        "   List.append(6)"
      ],
      "metadata": {
        "colab": {
          "base_uri": "https://localhost:8080/",
          "height": 141
        },
        "id": "f5mQFS0QkQyz",
        "outputId": "aae3bd70-e2ca-403f-f371-dd8feba3a3e5"
      },
      "execution_count": null,
      "outputs": [
        {
          "output_type": "error",
          "ename": "IndentationError",
          "evalue": "unexpected indent (<ipython-input-37-abb0215f95f0>, line 6)",
          "traceback": [
            "\u001b[0;36m  File \u001b[0;32m\"<ipython-input-37-abb0215f95f0>\"\u001b[0;36m, line \u001b[0;32m6\u001b[0m\n\u001b[0;31m    List.append(6)\u001b[0m\n\u001b[0m    ^\u001b[0m\n\u001b[0;31mIndentationError\u001b[0m\u001b[0;31m:\u001b[0m unexpected indent\n"
          ]
        }
      ]
    },
    {
      "cell_type": "markdown",
      "source": [
        "7. How do tuples ensure Data integrity in Python?\n",
        "- Tuples in Python are immutable ordered collection that guarantee Data integrity full stop years how they ensure this:\n",
        "\n",
        "- Immutability:\n",
        " - Once tuples is created, its elements cannot be modified added or removed.\n",
        " - This prevent accidental changes to critical data example (eg: database records configuration).\n",
        "Example: Tuples vs. Lists"
      ],
      "metadata": {
        "id": "sRijhelmk40K"
      }
    },
    {
      "cell_type": "code",
      "source": [
        "my_list = [1, 2, 3]\n",
        "my_list[0] = 99\n",
        "print(my_list)"
      ],
      "metadata": {
        "colab": {
          "base_uri": "https://localhost:8080/"
        },
        "id": "9eul1MMGmW6f",
        "outputId": "461490e8-c994-465e-b0e0-207a0485cf75"
      },
      "execution_count": null,
      "outputs": [
        {
          "output_type": "stream",
          "name": "stdout",
          "text": [
            "[99, 2, 3]\n"
          ]
        }
      ]
    },
    {
      "cell_type": "code",
      "source": [
        "my_tuple = (1, 4, 8)\n",
        "my_tuple[0] = 99\n",
        "print(my_tuple) # tuple does not support item assignment"
      ],
      "metadata": {
        "colab": {
          "base_uri": "https://localhost:8080/",
          "height": 280
        },
        "id": "h-pWUBddmpFu",
        "outputId": "e1d24b85-3b40-450b-f658-887380e02e2f"
      },
      "execution_count": null,
      "outputs": [
        {
          "output_type": "error",
          "ename": "TypeError",
          "evalue": "'tuple' object does not support item assignment",
          "traceback": [
            "\u001b[0;31m---------------------------------------------------------------------------\u001b[0m",
            "\u001b[0;31mTypeError\u001b[0m                                 Traceback (most recent call last)",
            "\u001b[0;32m<ipython-input-39-672aecab2811>\u001b[0m in \u001b[0;36m<cell line: 0>\u001b[0;34m()\u001b[0m\n\u001b[1;32m      1\u001b[0m \u001b[0mmy_tuple\u001b[0m \u001b[0;34m=\u001b[0m \u001b[0;34m(\u001b[0m\u001b[0;36m1\u001b[0m\u001b[0;34m,\u001b[0m \u001b[0;36m4\u001b[0m\u001b[0;34m,\u001b[0m \u001b[0;36m8\u001b[0m\u001b[0;34m)\u001b[0m\u001b[0;34m\u001b[0m\u001b[0;34m\u001b[0m\u001b[0m\n\u001b[0;32m----> 2\u001b[0;31m \u001b[0mmy_tuple\u001b[0m\u001b[0;34m[\u001b[0m\u001b[0;36m0\u001b[0m\u001b[0;34m]\u001b[0m \u001b[0;34m=\u001b[0m \u001b[0;36m99\u001b[0m\u001b[0;34m\u001b[0m\u001b[0;34m\u001b[0m\u001b[0m\n\u001b[0m\u001b[1;32m      3\u001b[0m \u001b[0mprint\u001b[0m\u001b[0;34m(\u001b[0m\u001b[0mmy_tuple\u001b[0m\u001b[0;34m)\u001b[0m\u001b[0;34m\u001b[0m\u001b[0;34m\u001b[0m\u001b[0m\n",
            "\u001b[0;31mTypeError\u001b[0m: 'tuple' object does not support item assignment"
          ]
        }
      ]
    },
    {
      "cell_type": "markdown",
      "source": [
        "Use Cases Where Tuples Ensure Integrity\n",
        "\n",
        "- Fixed data (constant)\n",
        " - storing unchanging values (example days of the week, mathematical constant).\n",
        "- function written values (safe packing)\n",
        " - function of and return multiple values as a double to prevent modification.\n",
        "- Thread-Safe Operation\n",
        " - since couples cannot be modified they are safer in multi-threaded programs (no race condition).\n",
        "\n",
        "####how Python and enforces is tuple immutability?\n",
        "\n",
        "- Memory Optimisation: couples are stored in a contiguous memory block, making them faster than list.\n",
        "- No modification methods: unlike list methods like .append (), .remove (), .sort().\n",
        "- Hashability: couples can be hashed, well list cannot"
      ],
      "metadata": {
        "id": "m2Boij4xnGoL"
      }
    },
    {
      "cell_type": "code",
      "source": [
        "tuple = (1, 2, 3)\n",
        "print(hash(tuple))"
      ],
      "metadata": {
        "colab": {
          "base_uri": "https://localhost:8080/"
        },
        "id": "Sy9yGBVKo6XB",
        "outputId": "937358ab-7d29-40ae-ca59-b10b6b50c594"
      },
      "execution_count": null,
      "outputs": [
        {
          "output_type": "stream",
          "name": "stdout",
          "text": [
            "529344067295497451\n"
          ]
        }
      ]
    },
    {
      "cell_type": "code",
      "source": [
        "List = [ 1, 2, 3]\n",
        "print(hash(List)) # list are  unhasable"
      ],
      "metadata": {
        "colab": {
          "base_uri": "https://localhost:8080/",
          "height": 280
        },
        "id": "KBBIHgqopHsr",
        "outputId": "f51ad09d-4008-43b8-c1fc-2a98bc86c3cd"
      },
      "execution_count": null,
      "outputs": [
        {
          "output_type": "error",
          "ename": "TypeError",
          "evalue": "unhashable type: 'list'",
          "traceback": [
            "\u001b[0;31m---------------------------------------------------------------------------\u001b[0m",
            "\u001b[0;31mTypeError\u001b[0m                                 Traceback (most recent call last)",
            "\u001b[0;32m<ipython-input-42-f98c75e25669>\u001b[0m in \u001b[0;36m<cell line: 0>\u001b[0;34m()\u001b[0m\n\u001b[1;32m      1\u001b[0m \u001b[0mList\u001b[0m \u001b[0;34m=\u001b[0m \u001b[0;34m[\u001b[0m \u001b[0;36m1\u001b[0m\u001b[0;34m,\u001b[0m \u001b[0;36m2\u001b[0m\u001b[0;34m,\u001b[0m \u001b[0;36m3\u001b[0m\u001b[0;34m]\u001b[0m\u001b[0;34m\u001b[0m\u001b[0;34m\u001b[0m\u001b[0m\n\u001b[0;32m----> 2\u001b[0;31m \u001b[0mprint\u001b[0m\u001b[0;34m(\u001b[0m\u001b[0mhash\u001b[0m\u001b[0;34m(\u001b[0m\u001b[0mList\u001b[0m\u001b[0;34m)\u001b[0m\u001b[0;34m)\u001b[0m \u001b[0;31m# list are  unhasable\u001b[0m\u001b[0;34m\u001b[0m\u001b[0;34m\u001b[0m\u001b[0m\n\u001b[0m",
            "\u001b[0;31mTypeError\u001b[0m: unhashable type: 'list'"
          ]
        }
      ]
    },
    {
      "cell_type": "markdown",
      "source": [
        "##Summary\n",
        "- Tuple sensor Data integrity by being immutable.\n",
        "- they are faster, hashable, and thread-shafe.\n",
        "- ideal for fixed data dictionary keys and function returns.\n",
        "- if you need modifiable data use list instead."
      ],
      "metadata": {
        "id": "nHF55RRTpb08"
      }
    },
    {
      "cell_type": "markdown",
      "source": [
        " 8. What is hash table and how does it relate to dictionaries in Python?\n",
        "\n",
        "- A hash table is a data structure that stores key-value pairs efficiency by using a hashing function to compute and index where the value is stored.\n",
        "\n",
        "###Key concept:\n",
        "\n",
        "- Hashing function\n",
        " - Takes a key→ convert it into a has value (integer).\n",
        " - This hash determines  where the value is stored in memory.\n",
        "- Buckets(Slots in Memory)\n",
        " - the hash value maps to a bucket (a storage location).\n",
        " -if two keys produce the same hash (collision) Python handles it example using chaining.\n",
        "- fast lookup (O(1) search time complexity)\n",
        " - Unlike lists O(n) search time), hash tables allowed near-instant key-based access.\n",
        "\n",
        "In Python a dictionary is implemented as a Hash table. This is why dictionary are extremely fast for lookups.\n",
        "\n",
        "###why must dictionary keys be immutable?\n",
        "\n",
        "- if a key were mutable modifying it would change it hash value, breaking the lookup system.\n",
        "- Allowed keys: int, str, dict( they are mutable).\n",
        "- Disallowed keys: list, set, dic (they are mutable)\n",
        "\n",
        "###Collision handling in Python Dictionaries\n",
        "\n",
        "If two keys produce the same has, Python resolve with by:\n",
        "- open addressing (C Python's method):\n",
        "  - If a slot is occupied, it probes for the next available slot.\n",
        "- training (less common in Python):\n",
        "  - stores multiple entries in the same bucket (like a linked list).\n",
        "\n",
        "###When to use dictionaries\n",
        "- when you need fast key-based lookups\n",
        " (Example databases, caching).\n",
        "- when data has unique identifiers (example user id's and product codes).\n",
        "- when you need O(1) time complexity for access.\n",
        "\n",
        "##summary\n",
        "- A hash stable is a key-values storage system that using hashing for fast access.\n",
        "- Python's dict is a hash stable implementation.\n",
        "- Keys must be immutable.\n",
        "- Collisions are resolved internally.\n",
        "-Dictionary are optimised for Speed unlike lists."
      ],
      "metadata": {
        "id": "m4XuhQ2_p1ho"
      }
    },
    {
      "cell_type": "markdown",
      "source": [
        "9. Can list contain different data types in Python?\n",
        "- Yes, in Python a list contain elements of different data types. Unlike some other programming language that require all elements in an array or list to be of the same type, Python list are heterogeneous, meaning they can store any combination of data types including integer flooring, booleans other list dictionary objects and even function."
      ],
      "metadata": {
        "id": "OF-IFxJ6-Cg9"
      }
    },
    {
      "cell_type": "code",
      "source": [
        "mixed_list = [42, \"Hello\", 3.14, True, [1,2,3],{\"key\", \"value\"},None]"
      ],
      "metadata": {
        "id": "OMA7DGd2rMpy"
      },
      "execution_count": null,
      "outputs": []
    },
    {
      "cell_type": "markdown",
      "source": [
        "Breakdown of the elements:\n",
        "- 42→ Integer(int(\n",
        "- \"Hello\"→ string(str)\n",
        "- 3.14→ Float(float)\n",
        "- True → Boolean( bool)\n",
        "- {\"key\", \"value\"}→ Dictionary (dict)\n",
        "- None→ None type\n",
        "###Why Python allows this:\n",
        "\n",
        "Python list are implemented as dynamic arrays of reference to object. Since every element in Python is an object, list can hold references to any types of object.\n",
        "\n",
        "- Caveats:\n",
        " - Flexibility vs Safety: while this flexibility is powerful, it can lead to bugs if you assume all elements are of a certain time. Always check types if needed.\n",
        " - Performance: Homogeneous list are more memory-efficient and faster when process using libraries like Numpy which enforce uniform type."
      ],
      "metadata": {
        "id": "5F--52xSrulK"
      }
    },
    {
      "cell_type": "markdown",
      "source": [
        "10. Explain why strings are immutable in Python.\n",
        "\n",
        "In python, strings are immutable meaning once is string is created, it cannot be modified. Any operation that appears to change a string actually create a new string.\n",
        "\n",
        "###Why are strings immutable?\n",
        " Reasons explain this design choice\n",
        "- Security and Reliability\n",
        " - Strings are often used for sensitive operation like file paths URLs, and database queries.\n",
        " - If string were mutable, a function code unexpectedly modify a string, leading to securities risk or bugs."
      ],
      "metadata": {
        "id": "-xnKke14tWbW"
      }
    },
    {
      "cell_type": "markdown",
      "source": [
        "- Performance Optimisation\n",
        " - strings are immutable Python can cache and reuse them."
      ],
      "metadata": {
        "id": "Kz85p1wav18y"
      }
    },
    {
      "cell_type": "markdown",
      "source": [
        "- String are  hashable, meaning they can be used as keys in Dictionaries."
      ],
      "metadata": {
        "id": "lHFVXzvGwhih"
      }
    },
    {
      "cell_type": "code",
      "source": [
        "d = {\"name\": \"Alice\"}"
      ],
      "metadata": {
        "id": "0Mpf9WXLw1dX"
      },
      "execution_count": null,
      "outputs": []
    },
    {
      "cell_type": "markdown",
      "source": [
        "- Thread safety\n",
        " - Immutable object are inherently thread-safe because they cannot be modified after creation.\n",
        " - Multiple threats can safely shares strings without locks or synchronisation.\n",
        "\n",
        "- Memory Efficiency\n",
        " - Python can optimise memory by sharing substring."
      ],
      "metadata": {
        "id": "LcVPVU1uw-Yx"
      }
    },
    {
      "cell_type": "markdown",
      "source": [
        "- Predictable Behaviour\n",
        " - Immutability ensures that functions cannot accidentally modified strings passed as arguments.\n",
        "\n",
        "###Conclusion\n",
        "Strings immutability in Python and shows security, performance and thread safety, making them reliable for critical operation. It may seem restrictive at first, it prevents bugs and enables Optimisation that benefits most used cases."
      ],
      "metadata": {
        "id": "O_9N2b1DxtSq"
      }
    },
    {
      "cell_type": "markdown",
      "source": [
        "11. What advantages do dictionaries offer an over list for certain tasks?\n",
        "\n",
        "Dictionary one of python's most powerful and optimise data structures. They of a several key advantage for specific task compared to list, tuples, or sets.\n",
        "\n",
        "- Fast Lookups (O(1) Time complexity)\n",
        " - Dictionaries use hash tables allowing constant-time lookups insertion and deletion.\n",
        " - Ideal for:\n",
        "  - Storing key value pairs (Example user data configuration).\n",
        "  - Counting occurrence (frequency tables).\n",
        "  - Caching/memorization.\n",
        "\n",
        "### Example: faster than list for lookups"
      ],
      "metadata": {
        "id": "neTOr0MRyhua"
      }
    },
    {
      "cell_type": "code",
      "source": [
        "user_data = {\"id\": 123, \"name\": \"Alice\", \"email\": \"alice@example.com\"}\n",
        "print(user_data[\"name\"])"
      ],
      "metadata": {
        "colab": {
          "base_uri": "https://localhost:8080/"
        },
        "id": "X3Pk9P-X0_5x",
        "outputId": "0e115614-1045-40e8-fa17-7f141aae1401"
      },
      "execution_count": null,
      "outputs": [
        {
          "output_type": "stream",
          "name": "stdout",
          "text": [
            "Alice\n"
          ]
        }
      ]
    },
    {
      "cell_type": "code",
      "source": [
        "user_list = [{\"id\": 123, \"name\": \"Alice\"}, ...]\n",
        "found_user = next(u for u in user_list if u[\"id\"] == 123)"
      ],
      "metadata": {
        "id": "mRhY1I141iv5"
      },
      "execution_count": null,
      "outputs": []
    },
    {
      "cell_type": "markdown",
      "source": [
        "- Flexible key-value storage\n",
        " - keys can be any immutable type (string, integer, tuple).\n",
        " - values can be any Python object (lists, functions, other dict, etc).\n",
        "\n",
        "Example: Structured Data"
      ],
      "metadata": {
        "id": "qnbRxrUR2XwB"
      }
    },
    {
      "cell_type": "code",
      "source": [
        "employee = {\n",
        "    \"id\": 101,\n",
        "    \"name\": \"Bob\",\n",
        "    \"skills\": [\"Python\", \"SQL\"],\n",
        "    \"contact\": {\"email\": \"bob@company.com\",\"phone\": \"123-456-7890\"}\n",
        " }"
      ],
      "metadata": {
        "id": "ugdjQ8o53DOK"
      },
      "execution_count": null,
      "outputs": []
    },
    {
      "cell_type": "markdown",
      "source": [
        "- Memory Efficiency  for Spares Data\n",
        " - unlike list, dictionaries only store existing keys comma making them efficient for sparse datasets."
      ],
      "metadata": {
        "id": "AFMXZ_Px33iD"
      }
    },
    {
      "cell_type": "code",
      "source": [
        "matrix = {\n",
        "    (0, 0): 1,\n",
        "    (1, 2): 5,\n",
        "    (2, 3): 8\n",
        "}\n",
        "print(matrix.get((1,2),0))"
      ],
      "metadata": {
        "colab": {
          "base_uri": "https://localhost:8080/"
        },
        "id": "wfQeNzBq4Ntt",
        "outputId": "a604401d-70bd-4dc0-d266-d0309f263f74"
      },
      "execution_count": null,
      "outputs": [
        {
          "output_type": "stream",
          "name": "stdout",
          "text": [
            "5\n"
          ]
        }
      ]
    },
    {
      "cell_type": "markdown",
      "source": [
        "- Built-in Optimised Methods\n",
        " - .get (key, default)→ safe key access (No key error).\n",
        " - .setdefault(key, default )→ insert key if missing.\n",
        " - .update ( ) → merge dictionary\n",
        " - Dictionary comprehensions→ clean and fast initialization.\n",
        "\n",
        "### Example: counting words frequency"
      ],
      "metadata": {
        "id": "1vFz1bww4uk0"
      }
    },
    {
      "cell_type": "code",
      "source": [
        "text = \"hello world hello python world\"\n",
        "words = text.split()\n",
        "freq = {}\n",
        "\n",
        "\n",
        "for word in words:\n",
        "    freq[word] = freq.get(word,0)+1\n",
        "print(freq)"
      ],
      "metadata": {
        "colab": {
          "base_uri": "https://localhost:8080/"
        },
        "id": "Eufl9nw652r_",
        "outputId": "d4e67612-2f41-40e4-bf5b-86f01e34f642"
      },
      "execution_count": null,
      "outputs": [
        {
          "output_type": "stream",
          "name": "stdout",
          "text": [
            "{'hello': 2, 'world': 2, 'python': 1}\n"
          ]
        }
      ]
    },
    {
      "cell_type": "markdown",
      "source": [
        "12. Describe a scenario where using a tuple would be preferable over a list.\n",
        "\n",
        "Tuples and list are both sequence types in pythons,but tuples are immutable, while lists are mutable. This keys difference makes tuples preferable in certain situations.\n",
        "\n",
        "- Data Integrity (immutable for safety)\n",
        "\n",
        "Use cases: storing constants or configuration\n",
        "\n",
        "When you have data that should not change a couple and forces immutability, a tuple enforces immutability, preventing accidental modification.\n",
        "\n",
        "### Good for:\n",
        "\n",
        " - fixed collection\n",
        " - dictionary keys\n",
        "\n",
        "### Example:"
      ],
      "metadata": {
        "id": "DaMRbj9w6e1P"
      }
    },
    {
      "cell_type": "code",
      "source": [
        "Days_Of_Week = (\"Mon\", \"Tue\", \"Wed', \"Thu\", \"Fri', \"Sat\", \"Sun\")\n",
        "Days_Of_Week[0] = \"Monday\" # tuples does not support assignment"
      ],
      "metadata": {
        "colab": {
          "base_uri": "https://localhost:8080/",
          "height": 193
        },
        "id": "I4a1UC0w8w_D",
        "outputId": "7a6e54f3-c50f-4663-e046-08cbd1be061a"
      },
      "execution_count": null,
      "outputs": [
        {
          "output_type": "error",
          "ename": "SyntaxError",
          "evalue": "unterminated string literal (detected at line 1) (<ipython-input-22-9059599e5148>, line 1)",
          "traceback": [
            "\u001b[0;36m  File \u001b[0;32m\"<ipython-input-22-9059599e5148>\"\u001b[0;36m, line \u001b[0;32m1\u001b[0m\n\u001b[0;31m    Days_Of_Week = (\"Mon\", \"Tue\", \"Wed', \"Thu\", \"Fri', \"Sat\", \"Sun\")\u001b[0m\n\u001b[0m                                                    ^\u001b[0m\n\u001b[0;31mSyntaxError\u001b[0m\u001b[0;31m:\u001b[0m unterminated string literal (detected at line 1)\n"
          ]
        }
      ]
    },
    {
      "cell_type": "code",
      "source": [
        "List = [\"Mon\", \"Tue\", \"Wed\", \"Thu\"]\n",
        "List[0] = \"Monday\"\n",
        "print(List)"
      ],
      "metadata": {
        "colab": {
          "base_uri": "https://localhost:8080/"
        },
        "id": "WrwKWG0X9sKZ",
        "outputId": "33f9a16a-d6ed-4afd-afdf-38ced6819d0f"
      },
      "execution_count": null,
      "outputs": [
        {
          "output_type": "stream",
          "name": "stdout",
          "text": [
            "['Monday', 'Tue', 'Wed', 'Thu']\n"
          ]
        }
      ]
    },
    {
      "cell_type": "markdown",
      "source": [
        "- Hashability ( Keys in Dictionaries and Sets)\n",
        "\n",
        "Use Case: Dictionary Keys\n",
        "\n",
        "Since tuples are immutable, they can be hazz, making them valid keys in dictionary. List, being mutable cannot.\n",
        "\n",
        "Good for:\n",
        " - composite keys (e.g:(x,y).\n",
        " - storing multi-field keys(e.g (user_id, timestamp)).\n",
        "\n",
        "### Example:"
      ],
      "metadata": {
        "id": "va728Kyx-N1m"
      }
    },
    {
      "cell_type": "code",
      "source": [
        "location_map = {\n",
        "    (35.68, 139.76): \"Tokyo\",\n",
        "    (40.71, -74.01): \"New York\"\n",
        "}\n",
        "\n",
        "\n",
        "invalid_map = {\n",
        "    [35.68, 139.76]: \"Tokyo\"\n",
        "}"
      ],
      "metadata": {
        "colab": {
          "base_uri": "https://localhost:8080/",
          "height": 332
        },
        "id": "X59lUZWg_CWu",
        "outputId": "f9d87df8-d80a-41f5-d9c0-b2fa87e7e400"
      },
      "execution_count": null,
      "outputs": [
        {
          "output_type": "error",
          "ename": "TypeError",
          "evalue": "unhashable type: 'list'",
          "traceback": [
            "\u001b[0;31m---------------------------------------------------------------------------\u001b[0m",
            "\u001b[0;31mTypeError\u001b[0m                                 Traceback (most recent call last)",
            "\u001b[0;32m<ipython-input-25-63288beffc34>\u001b[0m in \u001b[0;36m<cell line: 0>\u001b[0;34m()\u001b[0m\n\u001b[1;32m      5\u001b[0m \u001b[0;34m\u001b[0m\u001b[0m\n\u001b[1;32m      6\u001b[0m \u001b[0;34m\u001b[0m\u001b[0m\n\u001b[0;32m----> 7\u001b[0;31m invalid_map = {\n\u001b[0m\u001b[1;32m      8\u001b[0m     \u001b[0;34m[\u001b[0m\u001b[0;36m35.68\u001b[0m\u001b[0;34m,\u001b[0m \u001b[0;36m139.76\u001b[0m\u001b[0;34m]\u001b[0m\u001b[0;34m:\u001b[0m \u001b[0;34m\"Tokyo\"\u001b[0m\u001b[0;34m\u001b[0m\u001b[0;34m\u001b[0m\u001b[0m\n\u001b[1;32m      9\u001b[0m }\n",
            "\u001b[0;31mTypeError\u001b[0m: unhashable type: 'list'"
          ]
        }
      ]
    },
    {
      "cell_type": "markdown",
      "source": [
        "- Performance (slightly faster than list)\n",
        "\n",
        "Uses Case: Fixed- Size Collection in Tight Loops.\n",
        "\n",
        "Tuples are slightly faster than less for iteration and access because:\n",
        "\n",
        "- They are statically allotted\n",
        "- Python can optimise them for fixed-size data.\n",
        "\n",
        "\n",
        "- Function Arguments and Return Values\n",
        "\n",
        "Uses Case: Returning Multiple Values Safely\n",
        "\n",
        "Tuples are often used to return multiple values from a function because they ensure the data structure won't be modified accidentally.\n",
        "\n",
        "Good for:\n",
        "- Returning (x, y) coordinates.\n",
        "- Database rows (fixed structure).\n",
        "\n",
        "### Example: Returning Immutable Data"
      ],
      "metadata": {
        "id": "vQDbLgFU_zmJ"
      }
    },
    {
      "cell_type": "code",
      "source": [
        "def get_user_info(user_id):\n",
        "\n",
        "    return (\"Alice\",30,\"alice@example.com\")\n",
        "name, age, email = get_user_info(1)"
      ],
      "metadata": {
        "id": "9fwxrU84TM06"
      },
      "execution_count": null,
      "outputs": []
    },
    {
      "cell_type": "markdown",
      "source": [
        "- Thread Safety\n",
        "\n",
        "Since tuples cannot be modified, they are thread-safe by default unlike list which require locks in multi-thread environment.\n",
        "\n",
        "Good for:\n",
        " - shared data in multi-threading.\n",
        " - Caching immutable configuration"
      ],
      "metadata": {
        "id": "HFoY6pRLTvjV"
      }
    },
    {
      "cell_type": "markdown",
      "source": [
        "13. How do sets handle duplicate values in Python?\n",
        "\n",
        "In Python a set is an  unordered, mutable collection of unique elements. When you add duplicate value to a set, Python automatically removes them, and sharing that each element appears only once.\n",
        "\n",
        "- Automatic Deduplication\n",
        "\n",
        " - If you try to add a duplicate value, the set ignores it.\n",
        " - This behaviour is useful for removing duplicate from a list."
      ],
      "metadata": {
        "id": "kWzEMmj9UR5R"
      }
    },
    {
      "cell_type": "code",
      "source": [
        "numbers = { 1, 2, 3, 2, 3, 4, 5, 5, 5}\n",
        "print(numbers)"
      ],
      "metadata": {
        "colab": {
          "base_uri": "https://localhost:8080/"
        },
        "id": "5GD4eO4FWLsA",
        "outputId": "9d3fc41d-2ef5-41e3-9b0b-7f21ff0d58e8"
      },
      "execution_count": null,
      "outputs": [
        {
          "output_type": "stream",
          "name": "stdout",
          "text": [
            "{1, 2, 3, 4, 5}\n"
          ]
        }
      ]
    },
    {
      "cell_type": "markdown",
      "source": [
        "##How does Python determine duplicates\n",
        "\n",
        "- For primitive types (int,str,bool, float)'duplicate are detected by value.\n",
        "- For custom objects, Python uses hash and eq to determine uniqueness\n",
        "\n",
        "##example: Sets with Different Data Types"
      ],
      "metadata": {
        "id": "vj2ml0DgXhYm"
      }
    },
    {
      "cell_type": "code",
      "source": [
        "mixed_set = {1, \"apple\", True,3.14,(1,2)}\n",
        "print(mixed_set)"
      ],
      "metadata": {
        "colab": {
          "base_uri": "https://localhost:8080/"
        },
        "id": "TuuN5og9Ys-S",
        "outputId": "fc151a01-3df1-4c7c-a8d3-d93ffdf4b49c"
      },
      "execution_count": null,
      "outputs": [
        {
          "output_type": "stream",
          "name": "stdout",
          "text": [
            "{1, (1, 2), 3.14, 'apple'}\n"
          ]
        }
      ]
    },
    {
      "cell_type": "markdown",
      "source": [
        "###Checking for membership (faster than list)\n",
        "\n",
        "- sets used O(1)lookup time due to hashing.\n",
        "- Lists use (O)n lookup time .\n",
        "\n",
        "###Example:"
      ],
      "metadata": {
        "id": "znkl4PgeZRvL"
      }
    },
    {
      "cell_type": "code",
      "source": [
        "fruits = {\"apple\", \"banana\", \"orange\"}\n",
        "print(\"banana\"in fruits)"
      ],
      "metadata": {
        "colab": {
          "base_uri": "https://localhost:8080/"
        },
        "id": "H4Gow-ZnZw7A",
        "outputId": "8395f9cd-7aea-4a28-b925-b3fc78942473"
      },
      "execution_count": null,
      "outputs": [
        {
          "output_type": "stream",
          "name": "stdout",
          "text": [
            "True\n"
          ]
        }
      ]
    },
    {
      "cell_type": "code",
      "source": [
        "fruits_list = [\"apple\", \"banana\", \"orange\"]\n",
        "print(\"banana\"in fruits_list)"
      ],
      "metadata": {
        "colab": {
          "base_uri": "https://localhost:8080/"
        },
        "id": "jVMmObF1aIpI",
        "outputId": "ed38bb4c-17b5-40e0-a42b-50b173bdfd93"
      },
      "execution_count": null,
      "outputs": [
        {
          "output_type": "stream",
          "name": "stdout",
          "text": [
            "True\n"
          ]
        }
      ]
    },
    {
      "cell_type": "markdown",
      "source": [
        "###When to use sets?\n",
        "\n",
        "- Removing duplicates from a list.\n",
        "- First membership testing.\n",
        "- Mathematical operation (intersection and union).\n",
        "\n",
        "\n",
        "###Conclusion\n",
        "\n",
        "- Sets automatically removes duplicates when created or updated.\n",
        "\n",
        "- They use hashing for O(1) membership checks.\n",
        "- Only has able object can be stored in sets.\n",
        "- Useful for duplication, fast lookup and set operations."
      ],
      "metadata": {
        "id": "0KsOQjZLaXxQ"
      }
    },
    {
      "cell_type": "markdown",
      "source": [
        "14. How does the \"in\" keyword work differently for  list and dictionaries?\n",
        "\n",
        "The in keywords in Python check for membership whether an element exist in a collection but it performance and behaviour differ between list and dictionary due to their underline data structures.\n",
        "\n",
        "- in with Lists\n",
        "### How it works\n",
        " - Linear search (O(1) time complexity)\n",
        "  - Python checks each element one by one until a match is found (worst case can the entire list).\n",
        "  - slow for large list.\n",
        "\n",
        "### Example:"
      ],
      "metadata": {
        "id": "sgD-Pue-bDIx"
      }
    },
    {
      "cell_type": "code",
      "source": [
        "fruits = [\"apple\", \"banana\", \"orange\"]\n",
        "print(\"banana\"in fruits)\n",
        "print(\"grapes\"in fruits)"
      ],
      "metadata": {
        "colab": {
          "base_uri": "https://localhost:8080/"
        },
        "id": "9MCWf0y-dKlq",
        "outputId": "6372f5be-dc0a-4251-a058-471e595797d8"
      },
      "execution_count": null,
      "outputs": [
        {
          "output_type": "stream",
          "name": "stdout",
          "text": [
            "True\n",
            "False\n"
          ]
        }
      ]
    },
    {
      "cell_type": "markdown",
      "source": [
        "### When to use?\n",
        " - used in with list for small data sets or when order matters.\n",
        " - avoid for large list  (slow performance)\n",
        "\n",
        "\n",
        "\n",
        "### in with Dictionaries\n",
        "\n",
        "###.   How it works\n",
        "- Hash table lookup(O(1)average time complexity)\n",
        " - Python compute hash of the key and check the Hash table directly.\n",
        " - extremely fast, even for last dictionaries.\n",
        "\n",
        "\n",
        "###Example:"
      ],
      "metadata": {
        "id": "vquIobU-ddvH"
      }
    },
    {
      "cell_type": "code",
      "source": [
        "person = {\"name\": \"Alice\",\"age\":30,\"City\": \"New York\"}\n",
        "\n",
        "print(\"name\" in person)\n",
        "print(\"Alice\" in person)"
      ],
      "metadata": {
        "colab": {
          "base_uri": "https://localhost:8080/"
        },
        "id": "8tDE-wKMekIx",
        "outputId": "fff1a0b6-584c-47d5-bac4-d5c64bc87aed"
      },
      "execution_count": null,
      "outputs": [
        {
          "output_type": "stream",
          "name": "stdout",
          "text": [
            "True\n",
            "False\n"
          ]
        }
      ]
    },
    {
      "cell_type": "markdown",
      "source": [
        "###When to use?\n",
        "\n",
        "- Used in with dictionary for fast key is lookup.\n",
        "- avoid for large dictionary\n",
        "\n",
        "\n",
        "\n",
        "\n",
        "####When to use which?\n",
        "\n",
        "- Use list + in :\n",
        " - when working with smaller list or other matters.\n",
        "\n",
        "- Use dict+ in:\n",
        " - when you need fast ki existence check.\n",
        "\n",
        "- Avoid in with dictionary.values():\n",
        " - unless absolutely necessary."
      ],
      "metadata": {
        "id": "h-aBqasqfJ2i"
      }
    },
    {
      "cell_type": "markdown",
      "source": [
        "15. Can you modify the elements of it tuple? Explain why or why not.\n",
        "\n",
        "No, tuples are immutable in Python. Once a tuple is created comma you cannot change add or remove its element.\n",
        "\n",
        "\n",
        "\n",
        "\n",
        "###Why are Tuples Immutable?\n",
        "\n",
        "- Data integrity\n",
        " - Tuples are often used for fixed data.\n",
        " - Immutability prevents accidental changes, making code safeer .\n",
        "\n",
        "- Hashability\n",
        " - Tuples can we used as keys in dictionaries.\n",
        " - Lists cannot be dictionary keys\n",
        "\n",
        "- Performance Optimization\n",
        " - Immutable objects are faster to access and can be cached by Python.\n",
        "\n",
        "\n",
        "\n",
        "\n",
        "\n",
        "### What Happens If You Try to Modify a Tuple?\n",
        "\n",
        "Python raises a type error because tuples do not support item assignment."
      ],
      "metadata": {
        "id": "dB-CueVhgNkp"
      }
    },
    {
      "cell_type": "code",
      "source": [
        "t = (10, 20)\n",
        "t[0] = 1"
      ],
      "metadata": {
        "colab": {
          "base_uri": "https://localhost:8080/",
          "height": 263
        },
        "id": "bTWWHYrJiHu3",
        "outputId": "210c2a33-c95e-49cd-fde9-9941ebd32be3"
      },
      "execution_count": null,
      "outputs": [
        {
          "output_type": "error",
          "ename": "TypeError",
          "evalue": "'tuple' object does not support item assignment",
          "traceback": [
            "\u001b[0;31m---------------------------------------------------------------------------\u001b[0m",
            "\u001b[0;31mTypeError\u001b[0m                                 Traceback (most recent call last)",
            "\u001b[0;32m<ipython-input-13-7f8d14b77c43>\u001b[0m in \u001b[0;36m<cell line: 0>\u001b[0;34m()\u001b[0m\n\u001b[1;32m      1\u001b[0m \u001b[0mt\u001b[0m \u001b[0;34m=\u001b[0m \u001b[0;34m(\u001b[0m\u001b[0;36m10\u001b[0m\u001b[0;34m,\u001b[0m \u001b[0;36m20\u001b[0m\u001b[0;34m)\u001b[0m\u001b[0;34m\u001b[0m\u001b[0;34m\u001b[0m\u001b[0m\n\u001b[0;32m----> 2\u001b[0;31m \u001b[0mt\u001b[0m\u001b[0;34m[\u001b[0m\u001b[0;36m0\u001b[0m\u001b[0;34m]\u001b[0m \u001b[0;34m=\u001b[0m \u001b[0;36m1\u001b[0m\u001b[0;34m\u001b[0m\u001b[0;34m\u001b[0m\u001b[0m\n\u001b[0m",
            "\u001b[0;31mTypeError\u001b[0m: 'tuple' object does not support item assignment"
          ]
        }
      ]
    },
    {
      "cell_type": "markdown",
      "source": [
        "16. What is nested dictionary and give an example of it use case?\n",
        "\n",
        "A nested dictionary is a dictionary that contains other dictionaries as values. This allows you to store hierarchical or multi-level structured data in Python.\n",
        "\n",
        "Syntax Example"
      ],
      "metadata": {
        "id": "kN1vJNhUijkt"
      }
    },
    {
      "cell_type": "code",
      "source": [
        "nested_dict = {\n",
        "    \"key1\": {\n",
        "        \"inner_key1\": \"value1\",\n",
        "        \"inner_key2\": \"value2\",\n",
        "    },\n",
        "    \"key2\": {\n",
        "        \"inner_key3\": \"value3\",\n",
        "    }\n",
        "}"
      ],
      "metadata": {
        "id": "N-_HsWgnj740"
      },
      "execution_count": null,
      "outputs": []
    },
    {
      "cell_type": "markdown",
      "source": [
        "### Why use nested dictionary?\n",
        "\n",
        "- Organise complex data.\n",
        "- Store multi-level relationship.\n",
        "- Easier to query then flat dictionary for structure data.\n",
        "\n",
        "\n",
        "### How to access Nested Data?"
      ],
      "metadata": {
        "id": "KLRzqitdlDsa"
      }
    },
    {
      "cell_type": "markdown",
      "source": [
        "### Common use of nested Dictionaries\n",
        "- JASON Data Handling\n",
        "- Database like structures\n",
        "- Graph/tree representation.\n",
        "- multi level setting / configuration"
      ],
      "metadata": {
        "id": "fPi2gXQzm1FL"
      }
    },
    {
      "cell_type": "markdown",
      "source": [
        "17. Describe the time complexity of accessing element in a dictionary.\n",
        "\n",
        "In Python dictionary use a has table under the hood, who which provides extremely efficient lookups.\n",
        "\n",
        "Time complexity O(1) Average Cases\n",
        "\n",
        "- Checking if a key exist take constant time on average.\n",
        "- This is because Python computes the hash of the key and directly checks the corresponding bucket in the Hash table.\n",
        "\n",
        "Worst case\n",
        "\n",
        "- In rare cases were many keys collide, lookup time can degrade to.\n",
        "- This is uncommon if the dictionary has a good Hash Function and proper resizing.\n",
        "\n",
        "\n",
        "\n",
        "###Why is dict lookup O(1)?\n",
        "\n",
        "- Hash function\n",
        " - Python converts the key into hash (integer) using hash key.\n",
        "\n",
        "- Hash Table Buckets\n",
        " - The hash determine the bucket where the key-value pair is stored.\n",
        " - if no collision, lookups is instant (O(1)).\n",
        "\n",
        "- Handling Collision\n",
        " - If two keys have same has common Python checks equality.\n",
        " - worst case: All keys collide→O(n)"
      ],
      "metadata": {
        "id": "HWtjWzjBnSiw"
      }
    },
    {
      "cell_type": "markdown",
      "source": [
        "18. In what situation are list preferred over dictionaries?\n",
        "\n",
        "\n",
        "While dictionary r ideal for key value lookup , list are better suited  for certain scenarios due to their ordered index based and sequential nature.\n",
        "\n",
        "\n",
        "\n",
        "- When you needed ordered data\n",
        "\n",
        " - List maintain insertion order comma making them perfect for talks were sequence matters.\n",
        " - Dictionary did not guarantee order.\n",
        "\n",
        "\n",
        "- When you need index based access\n",
        "\n",
        " - list allow O(1) access by index\n",
        " - Dictionary require keys, not positions.\n",
        "\n",
        "- When you need duplicate element\n",
        " - list allows  duplicate.\n",
        " - Dictionary and force unique keys.\n",
        "\n",
        "- When memory efficiency matters\n",
        " - List consume less memory than dictionary for large sequence of similar data.\n",
        " - Dictionary store keys plus values adding overhead.\n",
        "\n",
        "- when you need stake operation\n",
        " - List supports appends / pops at the end.\n",
        " - Dictionary are not optimised stake operation.\n",
        "\n",
        "- When slicing or subsetting is needed\n",
        " - list support slicing.\n",
        " - dictionary is does not supports slicing.\n",
        "\n",
        "- when you need simple iteration\n",
        " - list are simpler to iterate Van keys are unnecessary.\n",
        " - dictionary is require .items(),.keys()."
      ],
      "metadata": {
        "id": "BOmAS23ysPwe"
      }
    },
    {
      "cell_type": "markdown",
      "source": [
        "19. Why are dictionaries considered unordered and how does that affect data retrieval.\n",
        "\n",
        "Before Python 3.7 dictionaries officially unordered, meaning:\n",
        "\n",
        " - No granted order when I treating, retrieving keys or inserting items.\n",
        " - Key-value pairs could appear in any order when prin printed or looped over.\n",
        " - Technical reason: dictionary word implemented using Hash table which scatter keys across memory for fast lookup, losing insertion order."
      ],
      "metadata": {
        "id": "fN4iID-nus5q"
      }
    },
    {
      "cell_type": "code",
      "source": [
        "# example\n",
        "d = {\"a\":1,\"b\":2,\"c\":3}\n",
        "print(d)"
      ],
      "metadata": {
        "colab": {
          "base_uri": "https://localhost:8080/"
        },
        "id": "WD10Gpt_wa_k",
        "outputId": "4a3c9e4a-be37-4fe7-b54b-ec2170222061"
      },
      "execution_count": null,
      "outputs": [
        {
          "output_type": "stream",
          "name": "stdout",
          "text": [
            "{'a': 1, 'b': 2, 'c': 3}\n"
          ]
        }
      ]
    },
    {
      "cell_type": "markdown",
      "source": [
        "### How Python 3.7+changed this\n",
        "\n",
        "From Python 3.7 + comma dictionary is preserve insertion order as an official language features:\n",
        "\n",
        "- Key/values maintain the order they were added.\n",
        "- Iteration, list(dict.keys()),and dictionary.values() follow insertion order.\n",
        "- Underlying reason: the Hash table implementation was refined to track insertion order without sacrificing performance."
      ],
      "metadata": {
        "id": "05S_0anFwvQt"
      }
    },
    {
      "cell_type": "code",
      "source": [
        "# example ( python 3.7+):\n",
        "d = {\"a\":1,\"b\":2,\"c\":3}\n",
        "print(d)"
      ],
      "metadata": {
        "colab": {
          "base_uri": "https://localhost:8080/"
        },
        "id": "0SlVlqD3xgIc",
        "outputId": "ba8dc4c7-25b8-4998-aa09-b0ded473787f"
      },
      "execution_count": null,
      "outputs": [
        {
          "output_type": "stream",
          "name": "stdout",
          "text": [
            "{'a': 1, 'b': 2, 'c': 3}\n"
          ]
        }
      ]
    },
    {
      "cell_type": "markdown",
      "source": [
        "20. Explain the difference between a list and dictionary in terms of data retrieval.\n",
        "\n",
        "\n",
        "- Retrieval by Index vs.Key\n",
        " - List:\n",
        "  - Accessed by Integer index.\n",
        "  - fails if the index does not exist.\n",
        "\n",
        " - Dictionary:\n",
        "  - Accessed by unique keys.\n",
        "  - fails if the key does not exist."
      ],
      "metadata": {
        "id": "zn1iGwBpynaQ"
      }
    },
    {
      "cell_type": "code",
      "source": [
        "fruits = [\"apple\",\"banana\"]\n",
        "print(fruits[0])\n",
        "\n",
        "person = {\"name\":\"Alice\",\"age\":30}\n",
        "print(person[\"name\"])"
      ],
      "metadata": {
        "colab": {
          "base_uri": "https://localhost:8080/"
        },
        "id": "s3hA4Qftz0st",
        "outputId": "5bbe7167-6e27-40ff-a542-b26f0ad29f63"
      },
      "execution_count": null,
      "outputs": [
        {
          "output_type": "stream",
          "name": "stdout",
          "text": [
            "apple\n",
            "Alice\n"
          ]
        }
      ]
    },
    {
      "cell_type": "markdown",
      "source": [
        "- Time complexity\n",
        " - List start slow for searches.\n",
        " - Dictionary are instant for key lookups."
      ],
      "metadata": {
        "id": "52R4HF1P0kNq"
      }
    },
    {
      "cell_type": "code",
      "source": [
        "if \"banana\" in fruits:\n",
        "    print(\"found\")\n",
        "\n",
        "if \"name\" in person:\n",
        "    print(\"Exists!\")"
      ],
      "metadata": {
        "colab": {
          "base_uri": "https://localhost:8080/"
        },
        "id": "rO7Np7GX0wFD",
        "outputId": "589ec830-a735-4267-b6a6-4a0e69f99eb0"
      },
      "execution_count": null,
      "outputs": [
        {
          "output_type": "stream",
          "name": "stdout",
          "text": [
            "found\n",
            "Exists!\n"
          ]
        }
      ]
    },
    {
      "cell_type": "markdown",
      "source": [
        "- Handling Missing Data\n",
        "\n",
        "- List:\n",
        " - accessing an out of range index raises index error.\n",
        " - no building safe method.\n",
        "- Dictionary:\n",
        " - accessing a missing key raises keyerror.\n",
        " - Use .get(key, default) to avoid errors:"
      ],
      "metadata": {
        "id": "m71g5Diz1MsV"
      }
    },
    {
      "cell_type": "markdown",
      "source": [
        "- Use Cases for Retrieval\n",
        "\n",
        " - Use a list When:\n",
        "  - you need ordered, sequential data.\n",
        "  - you excess item by position.\n",
        " - Use a dictionary when:\n",
        "  - you need fast look up by a unique identifier\n",
        "  - your data is labelled."
      ],
      "metadata": {
        "id": "zfpMWvGc2Cfc"
      }
    },
    {
      "cell_type": "markdown",
      "source": [
        "##Practical Question"
      ],
      "metadata": {
        "id": "TtBaOX7s2aoW"
      }
    },
    {
      "cell_type": "markdown",
      "source": [
        "1. Write a code to create a string with your name and print it."
      ],
      "metadata": {
        "id": "4mSgsYOXy4g-"
      }
    },
    {
      "cell_type": "code",
      "source": [
        "name = \"Ankita Diwakar\"\n",
        "print(name)"
      ],
      "metadata": {
        "colab": {
          "base_uri": "https://localhost:8080/"
        },
        "id": "93q0r24cy-Zb",
        "outputId": "eeb6dbdb-d4c9-405c-830e-078fd2e8d147"
      },
      "execution_count": null,
      "outputs": [
        {
          "output_type": "stream",
          "name": "stdout",
          "text": [
            "Ankita Diwakar\n"
          ]
        }
      ]
    },
    {
      "cell_type": "markdown",
      "source": [
        "2. Write a code to find the length of the string \"Hello world\""
      ],
      "metadata": {
        "id": "L6_3QPa-zPiv"
      }
    },
    {
      "cell_type": "code",
      "source": [
        "A = \"Hello World\"\n",
        "print(len(A))"
      ],
      "metadata": {
        "colab": {
          "base_uri": "https://localhost:8080/"
        },
        "id": "g_8zRsE4zV2E",
        "outputId": "b98c54dc-0a35-4102-d02a-e4de11b0a927"
      },
      "execution_count": null,
      "outputs": [
        {
          "output_type": "stream",
          "name": "stdout",
          "text": [
            "11\n"
          ]
        }
      ]
    },
    {
      "cell_type": "markdown",
      "source": [
        "3. Write a code to slice the first three character from the string \"Python programming\"."
      ],
      "metadata": {
        "id": "nD7-XWcdzoLS"
      }
    },
    {
      "cell_type": "code",
      "source": [
        "A = \"Python Programming\"\n",
        "print(A[0:3])"
      ],
      "metadata": {
        "colab": {
          "base_uri": "https://localhost:8080/"
        },
        "id": "qyKAjZKOzy4m",
        "outputId": "c462be1d-2ec3-4121-d89e-bfd0d702d38b"
      },
      "execution_count": null,
      "outputs": [
        {
          "output_type": "stream",
          "name": "stdout",
          "text": [
            "Pyt\n"
          ]
        }
      ]
    },
    {
      "cell_type": "markdown",
      "source": [
        "4. Write a code to convert a string \"hello\" to uppercase."
      ],
      "metadata": {
        "id": "M-V8WKAQ0UpC"
      }
    },
    {
      "cell_type": "code",
      "source": [
        "original_string = \"hello\"\n",
        "uppercase_string = original_string.upper()\n",
        "print(uppercase_string)"
      ],
      "metadata": {
        "colab": {
          "base_uri": "https://localhost:8080/"
        },
        "id": "thheHaDT0eL1",
        "outputId": "ec6a37e2-d8cf-46c0-cd2d-0f060cf4caea"
      },
      "execution_count": null,
      "outputs": [
        {
          "output_type": "stream",
          "name": "stdout",
          "text": [
            "HELLO\n"
          ]
        }
      ]
    },
    {
      "cell_type": "markdown",
      "source": [
        "5. Write a code to replace the word \"apple\" with \"orange\" in the string \"I like apple\"."
      ],
      "metadata": {
        "id": "bOUV_O7Z1cXK"
      }
    },
    {
      "cell_type": "code",
      "source": [
        "original_string = \"I like apple\"\n",
        "new_string = original_string.replace(\"apple\",\"orange\")\n",
        "print(new_string)"
      ],
      "metadata": {
        "colab": {
          "base_uri": "https://localhost:8080/"
        },
        "id": "d_z1V4yN1wX9",
        "outputId": "63383952-2967-43fa-f87c-6b66b74a61d8"
      },
      "execution_count": null,
      "outputs": [
        {
          "output_type": "stream",
          "name": "stdout",
          "text": [
            "I like orange\n"
          ]
        }
      ]
    },
    {
      "cell_type": "markdown",
      "source": [
        "6. Write a code to create a list with number 1 to 5 and print it."
      ],
      "metadata": {
        "id": "1t8Ny5Og2uua"
      }
    },
    {
      "cell_type": "code",
      "source": [
        "numbers = [1, 2, 3, 4, 5]\n",
        "print(numbers)"
      ],
      "metadata": {
        "colab": {
          "base_uri": "https://localhost:8080/"
        },
        "id": "z05PEVF822er",
        "outputId": "33b40445-9dd2-496e-ad39-5e2cfb1a9eea"
      },
      "execution_count": null,
      "outputs": [
        {
          "output_type": "stream",
          "name": "stdout",
          "text": [
            "[1, 2, 3, 4, 5]\n"
          ]
        }
      ]
    },
    {
      "cell_type": "markdown",
      "source": [
        "7. Write a code to append the number 10 to the list [1, 2, 3, 4]."
      ],
      "metadata": {
        "id": "x6IgFm2A23Bv"
      }
    },
    {
      "cell_type": "code",
      "source": [
        "my_list = [1, 2, 3, 4]\n",
        "my_list.append(10)\n",
        "print(my_list)"
      ],
      "metadata": {
        "colab": {
          "base_uri": "https://localhost:8080/"
        },
        "id": "ytFzbgRb3Cb6",
        "outputId": "aece147c-e845-413e-c9fa-59135087acc1"
      },
      "execution_count": null,
      "outputs": [
        {
          "output_type": "stream",
          "name": "stdout",
          "text": [
            "[1, 2, 3, 4, 10]\n"
          ]
        }
      ]
    },
    {
      "cell_type": "markdown",
      "source": [
        "8. Write a quote to remove the number 3 from the list [1, 2, 3, 4, 5]."
      ],
      "metadata": {
        "id": "8g1AtrOH3FS1"
      }
    },
    {
      "cell_type": "code",
      "source": [
        "list =  [1, 2, 3, 4, 5]\n",
        "list.remove(3)\n",
        "print(list)"
      ],
      "metadata": {
        "colab": {
          "base_uri": "https://localhost:8080/"
        },
        "id": "H0p75v1m3RlL",
        "outputId": "2636f805-e357-429c-f25c-2a4afc2ffc0a"
      },
      "execution_count": null,
      "outputs": [
        {
          "output_type": "stream",
          "name": "stdout",
          "text": [
            "[1, 2, 4, 5]\n"
          ]
        }
      ]
    },
    {
      "cell_type": "markdown",
      "source": [
        "9. Write a go to access the second element in the list ['a', 'b','c', 'd']."
      ],
      "metadata": {
        "id": "8PaxFfaw3SL8"
      }
    },
    {
      "cell_type": "code",
      "source": [
        "list = ['a', 'b','c', 'd']\n",
        "print(list[1])"
      ],
      "metadata": {
        "colab": {
          "base_uri": "https://localhost:8080/"
        },
        "id": "OVsdYqI53gsA",
        "outputId": "e1ec3797-6174-4fd4-cf6d-4e6841d7f3db"
      },
      "execution_count": null,
      "outputs": [
        {
          "output_type": "stream",
          "name": "stdout",
          "text": [
            "b\n"
          ]
        }
      ]
    },
    {
      "cell_type": "markdown",
      "source": [
        "10. Write a code to reverse the list [10, 20, 30, 40, 50]."
      ],
      "metadata": {
        "id": "J-aB2LND3hBd"
      }
    },
    {
      "cell_type": "code",
      "source": [
        "original_list = [10, 20, 30, 40, 50]\n",
        "new_list = list(reversed(original_list))\n",
        "print(new_list)"
      ],
      "metadata": {
        "colab": {
          "base_uri": "https://localhost:8080/"
        },
        "id": "FbOFqoj13ptR",
        "outputId": "78c255f4-7209-4eeb-8304-cdb2bf32f18f"
      },
      "execution_count": null,
      "outputs": [
        {
          "output_type": "stream",
          "name": "stdout",
          "text": [
            "[50, 40, 30, 20, 10]\n"
          ]
        }
      ]
    },
    {
      "cell_type": "markdown",
      "source": [
        "11. Write a code to create a tuple with the elements 100, 200,300 and print it."
      ],
      "metadata": {
        "id": "YoDVYT1Z6GM-"
      }
    },
    {
      "cell_type": "code",
      "source": [
        "tuple = (100, 200, 300)\n",
        "print(tuple)"
      ],
      "metadata": {
        "colab": {
          "base_uri": "https://localhost:8080/"
        },
        "id": "PGEFPhCn6YfR",
        "outputId": "d2935a0d-3b11-4468-a253-0009bcb49d52"
      },
      "execution_count": null,
      "outputs": [
        {
          "output_type": "stream",
          "name": "stdout",
          "text": [
            "(100, 200, 300)\n"
          ]
        }
      ]
    },
    {
      "cell_type": "markdown",
      "source": [
        "12. Write a code to access the second-to-last element of the tuple ('red', 'green', 'blue', 'yellow')."
      ],
      "metadata": {
        "id": "MF2Fy8_h6Y61"
      }
    },
    {
      "cell_type": "code",
      "source": [
        "colours = ('red', 'green', 'blue', 'yellow')\n",
        "second_last = colours[-2]\n",
        "print(second_last)"
      ],
      "metadata": {
        "colab": {
          "base_uri": "https://localhost:8080/"
        },
        "id": "a6qEHoM-6pvo",
        "outputId": "5aa44220-917c-42cb-a02f-95ed71561d94"
      },
      "execution_count": null,
      "outputs": [
        {
          "output_type": "stream",
          "name": "stdout",
          "text": [
            "blue\n"
          ]
        }
      ]
    },
    {
      "cell_type": "markdown",
      "source": [
        "13. Write a code to find the minimum numbers in the tuple (10, 20, 5, 15)."
      ],
      "metadata": {
        "id": "MRTQL4uN6qKp"
      }
    },
    {
      "cell_type": "code",
      "source": [
        "numbers = (10, 20, 5, 15)\n",
        "min_num = min(numbers)\n",
        "print(min_num)"
      ],
      "metadata": {
        "colab": {
          "base_uri": "https://localhost:8080/"
        },
        "id": "8lmNKA4d6xC5",
        "outputId": "54566359-fc92-430c-a5b9-6ee805cf8d50"
      },
      "execution_count": null,
      "outputs": [
        {
          "output_type": "stream",
          "name": "stdout",
          "text": [
            "5\n"
          ]
        }
      ]
    },
    {
      "cell_type": "markdown",
      "source": [
        "14. Write a code to find the index of the element cat in the tuple (\"dog\", \"cat\", \"rabbit\")."
      ],
      "metadata": {
        "id": "0TAP7Dzj6xUZ"
      }
    },
    {
      "cell_type": "code",
      "source": [
        "animals = (\"dog\", \"cat\", \"rabbit\")\n",
        "\n",
        "index = animals.index(\"cat\")\n",
        "print(index )"
      ],
      "metadata": {
        "colab": {
          "base_uri": "https://localhost:8080/"
        },
        "id": "iOdPdsFp68ZZ",
        "outputId": "233cd8d8-0587-4693-f60a-9b032b4fd500"
      },
      "execution_count": null,
      "outputs": [
        {
          "output_type": "stream",
          "name": "stdout",
          "text": [
            "1\n"
          ]
        }
      ]
    },
    {
      "cell_type": "markdown",
      "source": [
        "15. Write a code to create a tuple containing three different fruits and check if \"kiwi\" is in it."
      ],
      "metadata": {
        "id": "cw10IsbV68tb"
      }
    },
    {
      "cell_type": "code",
      "source": [
        "fruits = (\"apple\", \"orange\", \"banana\")\n",
        "\n",
        "if \"kiwi\" in fruits:\n",
        "    print(\"kiwi is in tuple!\")\n",
        "else:\n",
        "    print(\"kiwi is  NOT in tuple!\")"
      ],
      "metadata": {
        "colab": {
          "base_uri": "https://localhost:8080/"
        },
        "id": "D3feWEfI7CaJ",
        "outputId": "a194e4d0-7d28-4fb3-cd19-74778ae6bf36"
      },
      "execution_count": null,
      "outputs": [
        {
          "output_type": "stream",
          "name": "stdout",
          "text": [
            "kiwi is  NOT in tuple!\n"
          ]
        }
      ]
    },
    {
      "cell_type": "markdown",
      "source": [
        "16. Write a code to create a set with element 'a', 'b', 'c' and print it ."
      ],
      "metadata": {
        "id": "ametd4y57C_S"
      }
    },
    {
      "cell_type": "code",
      "source": [
        "my_set = {'a', 'b','c'}\n",
        "print(my_set)"
      ],
      "metadata": {
        "colab": {
          "base_uri": "https://localhost:8080/"
        },
        "id": "sYeSrTlZ7Npu",
        "outputId": "441f039d-aa96-4df8-e4ac-6d0160052e0c"
      },
      "execution_count": null,
      "outputs": [
        {
          "output_type": "stream",
          "name": "stdout",
          "text": [
            "{'c', 'b', 'a'}\n"
          ]
        }
      ]
    },
    {
      "cell_type": "markdown",
      "source": [
        "17. Write a code to clear all element from the set {1, 2, 3, 4, 5}."
      ],
      "metadata": {
        "id": "pE-xNe8R7N7x"
      }
    },
    {
      "cell_type": "code",
      "source": [
        "my_set = {1, 2, 3, 4, 5}\n",
        "my_set.clear()\n",
        "print(my_set)"
      ],
      "metadata": {
        "colab": {
          "base_uri": "https://localhost:8080/"
        },
        "id": "hybRlyVR7WN3",
        "outputId": "1f3362c9-bfc6-4903-ce0d-d7fdc870e5cf"
      },
      "execution_count": null,
      "outputs": [
        {
          "output_type": "stream",
          "name": "stdout",
          "text": [
            "set()\n"
          ]
        }
      ]
    },
    {
      "cell_type": "markdown",
      "source": [
        "18. Write a code to remove the element 4 from the set { 1, 2, 3, 4}"
      ],
      "metadata": {
        "id": "73HUZ0947Wv4"
      }
    },
    {
      "cell_type": "code",
      "source": [
        "my_set = { 1, 2, 3, 4}\n",
        "my_set.remove(4)\n",
        "print(my_set)"
      ],
      "metadata": {
        "colab": {
          "base_uri": "https://localhost:8080/"
        },
        "id": "7sVOmnes7eAY",
        "outputId": "2a67d7df-00ad-4557-ffc7-514c85d1d0b5"
      },
      "execution_count": null,
      "outputs": [
        {
          "output_type": "stream",
          "name": "stdout",
          "text": [
            "{1, 2, 3}\n"
          ]
        }
      ]
    },
    {
      "cell_type": "markdown",
      "source": [
        "19. Write a code to find the union of two set {1, 2, 3} and { 3, 4, 5}."
      ],
      "metadata": {
        "id": "_wWPrGIq7eU0"
      }
    },
    {
      "cell_type": "code",
      "source": [
        "set1 =  {1, 2, 3}\n",
        "set2 =  {3, 4, 5}\n",
        "union = set1 | set2\n",
        "print(union)"
      ],
      "metadata": {
        "colab": {
          "base_uri": "https://localhost:8080/"
        },
        "id": "LnHGgT4F7n3_",
        "outputId": "3d39b9fa-e620-454d-f55d-0bb55441b362"
      },
      "execution_count": null,
      "outputs": [
        {
          "output_type": "stream",
          "name": "stdout",
          "text": [
            "{1, 2, 3, 4, 5}\n"
          ]
        }
      ]
    },
    {
      "cell_type": "markdown",
      "source": [
        "20. Write a code to find the intersection of two set{1, 2, 3} and { 2, 3, 4,}."
      ],
      "metadata": {
        "id": "WgvJXsyR7oER"
      }
    },
    {
      "cell_type": "code",
      "source": [
        "set1 = {1, 2, 3}\n",
        "set2 = {2, 3, 4}\n",
        "intersection = set1 & set2\n",
        "print(intersection)"
      ],
      "metadata": {
        "colab": {
          "base_uri": "https://localhost:8080/"
        },
        "id": "UYy9Rz0P7227",
        "outputId": "8df2f1b2-8e77-4c1d-ef07-7ca60488b284"
      },
      "execution_count": null,
      "outputs": [
        {
          "output_type": "stream",
          "name": "stdout",
          "text": [
            "{2, 3}\n"
          ]
        }
      ]
    },
    {
      "cell_type": "markdown",
      "source": [
        "21. Write a code to create a dictionary with the keys \"name\", \"age\" and \"city\" and print it."
      ],
      "metadata": {
        "id": "xenZMMGsBiaD"
      }
    },
    {
      "cell_type": "code",
      "source": [
        "person = {\"name\": \"Alice\",\"age\":30,\"city\": \"Newyork\"}\n",
        "\n",
        "print(person)"
      ],
      "metadata": {
        "colab": {
          "base_uri": "https://localhost:8080/"
        },
        "id": "jTRNgjpEBw0s",
        "outputId": "740ea303-8060-4864-a764-2dc49bbe1f92"
      },
      "execution_count": null,
      "outputs": [
        {
          "output_type": "stream",
          "name": "stdout",
          "text": [
            "{'name': 'Alice', 'age': 30, 'city': 'Newyork'}\n"
          ]
        }
      ]
    },
    {
      "cell_type": "markdown",
      "source": [
        "22. Write a code to add a new key-value pair \"country\": \"USA\" to the dictionary {\"name': 'John', 'age': 25}."
      ],
      "metadata": {
        "id": "gcfJtfduByCB"
      }
    },
    {
      "cell_type": "code",
      "source": [
        "person = {\"name\": 'John', 'age': 25}\n",
        "\n",
        "person[\"country\"] = \"USA\"\n",
        "\n",
        "print(person)"
      ],
      "metadata": {
        "colab": {
          "base_uri": "https://localhost:8080/"
        },
        "id": "FYLM05XwCPpD",
        "outputId": "b2935075-2c6d-4244-8751-7e48eb80372c"
      },
      "execution_count": null,
      "outputs": [
        {
          "output_type": "stream",
          "name": "stdout",
          "text": [
            "{'name': 'John', 'age': 25, 'country': 'USA'}\n"
          ]
        }
      ]
    },
    {
      "cell_type": "markdown",
      "source": [
        "23. Write a code to access the value associated with the key \"name\" in the dictionary {\"name\": \"Alice\", \"age\": 30}."
      ],
      "metadata": {
        "id": "_WV_u6_bCSKU"
      }
    },
    {
      "cell_type": "code",
      "source": [
        "person =  {\"name\": \"Alice\", \"age\": 30}\n",
        "\n",
        "name = person[\"name\"]\n",
        "print(name)"
      ],
      "metadata": {
        "colab": {
          "base_uri": "https://localhost:8080/"
        },
        "id": "bLMaTBTTCl1D",
        "outputId": "962172d7-48ec-4181-bfa8-5f93144c6b4d"
      },
      "execution_count": null,
      "outputs": [
        {
          "output_type": "stream",
          "name": "stdout",
          "text": [
            "Alice\n"
          ]
        }
      ]
    },
    {
      "cell_type": "markdown",
      "source": [
        "24. Write a code to remove the key \"age\" from the dictionary {'name': 'Bob', 'age': 22, 'city': 'New York'}."
      ],
      "metadata": {
        "id": "JDa-qWeQCmJB"
      }
    },
    {
      "cell_type": "code",
      "source": [
        "person = {'name': 'Bob', 'age': 22, 'city': 'New York'}\n",
        "\n",
        "del person[\"age\"]\n",
        "print(person)"
      ],
      "metadata": {
        "colab": {
          "base_uri": "https://localhost:8080/"
        },
        "id": "aThaprB-C-Ky",
        "outputId": "135be336-3877-491d-8c69-d2af99cee694"
      },
      "execution_count": null,
      "outputs": [
        {
          "output_type": "stream",
          "name": "stdout",
          "text": [
            "{'name': 'Bob', 'city': 'New York'}\n"
          ]
        }
      ]
    },
    {
      "cell_type": "markdown",
      "source": [
        "25. Write a code to check if the key \"City\" exits in the dictionary {'name': 'Alice', 'City': 'Paris'}."
      ],
      "metadata": {
        "id": "OuhqnUX4C-bH"
      }
    },
    {
      "cell_type": "code",
      "source": [
        "person = {'name': 'Alice', 'City': 'Paris'}\n",
        "\n",
        "if \"City\" in person:\n",
        "    print(\"Key 'City' exists!\")\n",
        "else:\n",
        "    print(\"Key 'City' does not exists!\")"
      ],
      "metadata": {
        "colab": {
          "base_uri": "https://localhost:8080/"
        },
        "id": "Zb-Y-ulVDTI6",
        "outputId": "20779122-e402-4274-fb0a-447fb733d996"
      },
      "execution_count": null,
      "outputs": [
        {
          "output_type": "stream",
          "name": "stdout",
          "text": [
            "Key 'City' exists!\n"
          ]
        }
      ]
    },
    {
      "cell_type": "markdown",
      "source": [
        "26. Write a code to create a list a tuple, and dictionary and print them all."
      ],
      "metadata": {
        "id": "9Tt4obimDTjt"
      }
    },
    {
      "cell_type": "code",
      "source": [
        "fruits_list = [\"apple\", \"banana\", \"orange\", \"apple\", \"kiwi\"]\n",
        "\n",
        "animals_tuple = (\"dog\", \"cat\", \"rabbit\")\n",
        "\n",
        "person_dictionary = {'name': 'Bob', 'age': 22, 'city': 'New York'}\n",
        "\n",
        "print(\"List:\",fruits_list)\n",
        "print(\"Tuple:\",animals_tuple)\n",
        "print(\"Dictionary:\",person_dictionary)"
      ],
      "metadata": {
        "colab": {
          "base_uri": "https://localhost:8080/"
        },
        "id": "3YunuMNfDi1B",
        "outputId": "03f17ad6-796f-4255-b866-f91b9a760632"
      },
      "execution_count": null,
      "outputs": [
        {
          "output_type": "stream",
          "name": "stdout",
          "text": [
            "List: ['apple', 'banana', 'orange', 'apple', 'kiwi']\n",
            "Tuple: ('dog', 'cat', 'rabbit')\n",
            "Dictionary: {'name': 'Bob', 'age': 22, 'city': 'New York'}\n"
          ]
        }
      ]
    },
    {
      "cell_type": "markdown",
      "source": [
        "27. Write a code to create a list of five random number between 1 and 100 sort it in ascending order and print the result.(replaced)"
      ],
      "metadata": {
        "id": "WAMkWz5KDlSg"
      }
    },
    {
      "cell_type": "code",
      "source": [
        "\n",
        "import random\n",
        "random_numbers = [random.randint(1,100) for _ in range(5)]\n",
        "\n",
        "random_numbers.sort()\n",
        "print(\"sorted random numbers:\",random_numbers)"
      ],
      "metadata": {
        "colab": {
          "base_uri": "https://localhost:8080/"
        },
        "id": "cmQ-H0TRDytC",
        "outputId": "7873e537-da69-4b37-d785-277a5b047392"
      },
      "execution_count": null,
      "outputs": [
        {
          "output_type": "stream",
          "name": "stdout",
          "text": [
            "sorted random numbers: [5, 16, 32, 92, 93]\n"
          ]
        }
      ]
    },
    {
      "cell_type": "markdown",
      "source": [
        "28. Write a code to create a list with strings and print the element at the third index."
      ],
      "metadata": {
        "id": "uHx1YoArD0ja"
      }
    },
    {
      "cell_type": "code",
      "source": [
        "fruits = [\"apple\", \"orange\", \"banana\",\"grapes\"]\n",
        "\n",
        "print(fruits[3])"
      ],
      "metadata": {
        "colab": {
          "base_uri": "https://localhost:8080/"
        },
        "id": "_Wcwkj2pD6SC",
        "outputId": "dc874bf1-abe3-4074-ded7-986cbf2cde9f"
      },
      "execution_count": null,
      "outputs": [
        {
          "output_type": "stream",
          "name": "stdout",
          "text": [
            "grapes\n"
          ]
        }
      ]
    },
    {
      "cell_type": "markdown",
      "source": [
        "29. Write a code to combine two dictionaries into one and print the result."
      ],
      "metadata": {
        "id": "ZClitrUJD6nA"
      }
    },
    {
      "cell_type": "code",
      "source": [
        "dict1 = {'a':1, 'b': 2}\n",
        "dict2 = {'c':3, 'd': 4}\n",
        "\n",
        "combined_dict = dict1 | dict2\n",
        "\n",
        "print(combined_dict)"
      ],
      "metadata": {
        "colab": {
          "base_uri": "https://localhost:8080/"
        },
        "id": "fXBgLb_AD-Bt",
        "outputId": "b6673641-c35e-460a-e820-01eb0378f212"
      },
      "execution_count": null,
      "outputs": [
        {
          "output_type": "stream",
          "name": "stdout",
          "text": [
            "{'a': 1, 'b': 2, 'c': 3, 'd': 4}\n"
          ]
        }
      ]
    },
    {
      "cell_type": "markdown",
      "source": [
        "30. Write a code to convert a list of Strings into a set."
      ],
      "metadata": {
        "id": "mJ-RjVQHEAOA"
      }
    },
    {
      "cell_type": "code",
      "source": [
        "string_list = [\"apple\", \"banana\", \"orange\", \"apple\", \"kiwi\"]\n",
        "\n",
        "\n",
        "string_set = set(string_list)\n",
        "print(string_set)"
      ],
      "metadata": {
        "colab": {
          "base_uri": "https://localhost:8080/"
        },
        "id": "SI2CNCerEE_S",
        "outputId": "5050c4e2-ec22-44f5-f5ae-fa8ad2f0c636"
      },
      "execution_count": null,
      "outputs": [
        {
          "output_type": "stream",
          "name": "stdout",
          "text": [
            "{'kiwi', 'orange', 'apple', 'banana'}\n"
          ]
        }
      ]
    }
  ]
}