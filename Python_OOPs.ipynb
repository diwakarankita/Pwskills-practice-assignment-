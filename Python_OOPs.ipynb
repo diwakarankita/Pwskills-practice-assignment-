{
  "cells": [
    {
      "cell_type": "markdown",
      "metadata": {
        "id": "view-in-github",
        "colab_type": "text"
      },
      "source": [
        "<a href=\"https://colab.research.google.com/github/diwakarankita/Pwskills-practice-assignment-/blob/main/Python_OOPs.ipynb\" target=\"_parent\"><img src=\"https://colab.research.google.com/assets/colab-badge.svg\" alt=\"Open In Colab\"/></a>"
      ]
    },
    {
      "cell_type": "markdown",
      "metadata": {
        "id": "5hq1aXJmJUzd"
      },
      "source": [
        "###Python OOPs Questions"
      ]
    },
    {
      "cell_type": "markdown",
      "metadata": {
        "id": "1TVysDveJbm6"
      },
      "source": [
        "1. What is Object-Oriented Programming (OOP)?"
      ]
    },
    {
      "cell_type": "markdown",
      "metadata": {
        "id": "-ITkxvSVJo-9"
      },
      "source": [
        "- object-oriented programming is a programming paradigm that organizes code into objects that contain both data (attributes) and behaviour (methods). Python fully supports OOP with its class system.\n",
        "\n",
        "###Key Concept of OOP in python\n",
        "\n",
        "- Classes and Objects\n",
        " - A class is a blueprint for creating objects\n",
        " - An object is an instance of a class"
      ]
    },
    {
      "cell_type": "code",
      "execution_count": null,
      "metadata": {
        "id": "5jzzG1KLKlf-"
      },
      "outputs": [],
      "source": [
        "class Dog:\n",
        "    pass\n",
        "\n",
        "my_dog = Dog( )"
      ]
    },
    {
      "cell_type": "markdown",
      "metadata": {
        "id": "ApfAKtPFKz0D"
      },
      "source": [
        "-  Attributes and Methods\n",
        "  - Attributes are variables that belong to an object\n",
        " - Methods are functions that belong to an object"
      ]
    },
    {
      "cell_type": "code",
      "execution_count": null,
      "metadata": {
        "id": "X5tXeCeJLFGI"
      },
      "outputs": [],
      "source": [
        "class Dog:\n",
        "\n",
        "    species = \"canis familiarise\"\n",
        "\n",
        "\n",
        "    def __int__(self, name, age):\n",
        "        self.name = name\n",
        "        self.age = age\n",
        "\n",
        "    def bark(self):\n",
        "        return f\"{self.name} says Woof!\""
      ]
    },
    {
      "cell_type": "markdown",
      "metadata": {
        "id": "ZsOgJYjxMOpx"
      },
      "source": [
        "- The four pillars of OOP\n",
        "\n",
        " - Encapsulation\n",
        "\n",
        "   Bundling data and methods that work on that data within 1 unit (class)"
      ]
    },
    {
      "cell_type": "code",
      "execution_count": null,
      "metadata": {
        "id": "T2RsAJUoMgSt"
      },
      "outputs": [],
      "source": [
        "class BankAccount:\n",
        "    def __init__(self):\n",
        "        self.__balance = 0\n",
        "\n",
        "    def deposit(self, amount):\n",
        "        self.__balance += amount\n",
        "\n",
        "    def get_balance(self):\n",
        "        return self.__balance"
      ]
    },
    {
      "cell_type": "markdown",
      "metadata": {
        "id": "6typ_6dhNUDM"
      },
      "source": [
        "- Inheritance\n",
        " - Creating a new class from an existing class"
      ]
    },
    {
      "cell_type": "code",
      "execution_count": null,
      "metadata": {
        "id": "-siiBzdLNfox"
      },
      "outputs": [],
      "source": [
        "class Animal:\n",
        "    def speak(self):\n",
        "        pass\n",
        "\n",
        "class Dog(Animal):\n",
        "    def speak(self):\n",
        "        return \"Woof!\"\n",
        "\n",
        "class Cat(Animal):\n",
        "    def speak(self):\n",
        "        return \"Meow!\""
      ]
    },
    {
      "cell_type": "markdown",
      "metadata": {
        "id": "lR7UeE4OOD8n"
      },
      "source": [
        "- Polymorphism\n",
        " - Using a unified interface of  objects of different classes"
      ]
    },
    {
      "cell_type": "code",
      "execution_count": null,
      "metadata": {
        "colab": {
          "base_uri": "https://localhost:8080/"
        },
        "id": "E6fQpwheOQuQ",
        "outputId": "5bb479c1-9063-46ef-a3b2-e619722f80e0"
      },
      "outputs": [
        {
          "name": "stdout",
          "output_type": "stream",
          "text": [
            "Woof!\n",
            "Meow!\n"
          ]
        }
      ],
      "source": [
        "def animal_sound(animal):\n",
        "    print(animal.speak())\n",
        "\n",
        "dog = Dog()\n",
        "cat = Cat()\n",
        "\n",
        "animal_sound(dog)\n",
        "animal_sound(cat)"
      ]
    },
    {
      "cell_type": "markdown",
      "metadata": {
        "id": "WGMNryH7PEd7"
      },
      "source": [
        "- Abstraction\n",
        " - Hiding complex implementation details"
      ]
    },
    {
      "cell_type": "code",
      "execution_count": null,
      "metadata": {
        "id": "jH2JWyZ4PNUQ"
      },
      "outputs": [],
      "source": [
        "from abc import ABC, abstractmethod\n",
        "\n",
        "class Shape(ABC):\n",
        "    @abstractmethod\n",
        "    def area(self):\n",
        "        pass\n",
        "\n",
        "class Circle(Shape):\n",
        "    def __init__(self, radius):\n",
        "        self.radius = radius\n",
        "\n",
        "    def area(self):\n",
        "        return 3.14 * self.radius **2"
      ]
    },
    {
      "cell_type": "markdown",
      "metadata": {
        "id": "WjfY8vcKQJ13"
      },
      "source": [
        "2. What is class in OOP"
      ]
    },
    {
      "cell_type": "markdown",
      "metadata": {
        "id": "wPQufE9cQma_"
      },
      "source": [
        "B- A class is a fundamental concept in OOP that serves as a blueprint or template for creating objects. It defines:\n",
        " - Attributes (data / properties)-Variables that hold the state of objects\n",
        "- Methods (function)-Operations that object can perform\n",
        "\n",
        "###key characteristics of a class:\n",
        "\n",
        "- Blueprint for objects\n",
        " - A class define what attributes and methods its object will have\n",
        " - You can create multiple objects (instance) from one class\n",
        "\n",
        " - Encapsulation\n",
        "  - Bundles data (attributes) and behaviours (methods) together\n",
        "  - Controls access to internal data\n",
        "- Constructor\n",
        " - special method (usually **init** in Python) that initialised new object"
      ]
    },
    {
      "cell_type": "code",
      "execution_count": null,
      "metadata": {
        "colab": {
          "base_uri": "https://localhost:8080/"
        },
        "id": "SQItQgTQVM7B",
        "outputId": "a36dc7a8-4ead-4e21-f9e1-37607a136e13"
      },
      "outputs": [
        {
          "name": "stdout",
          "output_type": "stream",
          "text": [
            "Driving 150 miles\n",
            "2020 Toyota Camry\n"
          ]
        }
      ],
      "source": [
        "\n",
        "class Car:\n",
        "\n",
        "    vehicle_type = \"Automobile\"\n",
        "\n",
        "\n",
        "\n",
        "    def __init__(self, make, model, year):\n",
        "\n",
        "        self.make = make\n",
        "        self.model = model\n",
        "        self.year = year\n",
        "        self.mileage = 0\n",
        "\n",
        "\n",
        "    def drive(self, miles):\n",
        "        self.mileage += miles\n",
        "        print(f\"Driving {miles} miles\")\n",
        "\n",
        "\n",
        "    def get_info(self):\n",
        "        return f\"{self.year} {self.make} {self.model}\"\n",
        "\n",
        "\n",
        "car1 = Car(\"Toyota\", \"Camry\", 2020)\n",
        "car2 = Car(\"Honda\", \"Civic\", 2022)\n",
        "\n",
        "car1.drive(150)\n",
        "print(car1.get_info())"
      ]
    },
    {
      "cell_type": "markdown",
      "metadata": {
        "id": "cp_xxf9YYPpy"
      },
      "source": [
        "3. What is an Object in OOP?\n",
        "\n",
        "An object is an instance of a class that  encapsulates:\n",
        "\n",
        "- Data (attributes / properties) -variables that hold the state of the object.\n",
        "\n",
        "- Behaviour (methods / function) -functions that define what the object can do.\n",
        "\n",
        "\n",
        "###Key characteristics of objects in LOOP\n",
        "\n",
        "- Encapsulation - Objects bundle data and methods that operate on that data.\n",
        "\n",
        "- Identity - Each object is unique even if its attributes are the same as another object.\n",
        "\n",
        "- State - The current values of an object attribute define its state.\n",
        "\n",
        "- Behaviour - Methods define how an object interacts with other objects."
      ]
    },
    {
      "cell_type": "markdown",
      "metadata": {
        "id": "N7RA0kKn6Bpx"
      },
      "source": [
        "4. What is the difference between abstraction and encapsulation?\n",
        "\n",
        "Abstraction and encapsulation are two fundamental concepts in Object- Oriented Programming but this serve different purposes.\n",
        "\n",
        "###Abstraction\n",
        " - Definition: Abstraction focuses on hiding complex implementation details and showing only the essential features of an object.\n",
        "\n",
        "- Purpose: Simplifies complexity by providing a high-level view.\n",
        "\n",
        "- How it's achieved:\n",
        " - Using abstract classes and interfaces.\n",
        " - Exposing only relevant methods while hiding internal logic.\n",
        "\n",
        "- Example:\n",
        " - A car has method like start(), accelerate(), and stop(). The user doesn't need to know how the engine works internally.\n",
        "\n",
        "###Encapsulation\n",
        "\n",
        "- Definition: Encapsulation is about bundling data (variables) and methods (functions) that operate on the data into a single unit class and restricting Direct access to some of the object's components.\n",
        "\n",
        "- Purpose: Ensure data integrity and security by controlling access.\n",
        "\n",
        "- How it's achieved:\n",
        " - Using private variables and providing public getters/setters.\n",
        " - Restricting direct modification of data.\n",
        "\n",
        "Example:\n",
        "\n",
        "- A BankAccount class keeps balance private and provide deposit ()and withdraw ()methods to modify it safely."
      ]
    },
    {
      "cell_type": "markdown",
      "metadata": {
        "id": "4Yb_Y8Qs6Sa_"
      },
      "source": [
        "5. What are dunder methods in Python?\n",
        "\n",
        "Dunder methods (short for \"double underscore\"methods) are special predefined methods in python that start and end with double underscore (__). They are also called magic methods because they allow you to define how objects behave with built-in operations like +, -, ==, len(),and more.\n",
        "\n",
        "### Common Dunder Methods and Their Uses\n",
        "\n",
        "- Initialization and representation\n",
        " - __init__(self, ...)→Constructor, called when an object is created.\n",
        " - __str__(self)→Returns a human-readable string representation (str(obj)or print(obj)).\n",
        " - __repr__(self)→Returns an unambiguous string representation.\n",
        "\n",
        "- Arithmetic Operations\n",
        " - __add__(self, other)→ Defines behaviour for +(e.g,obj1 +obj2).\n",
        " - __sub__(self, other)→ Defines behaviour for -(e.g,obj1 -obj2).\n",
        " - __mul__(self, other)→ Defines behaviour for *(e.g,obj1 *obj2).\n",
        "\n",
        "- Comparison Operations:\n",
        " - __eq__(self, other)→ Defines ==behavior.\n",
        " - __lt__(self, other)→ Defines <behavior.\n",
        " - __gt__(self, other)→ Defines >behavior.\n",
        "\n",
        "- Container Methods ( for Lists Dictionaries)\n",
        " - __len__(self)→Defibes behaviour for len (obj).\n",
        " - __getitem__(self, key) → Defines behaviour for indexing(obj[key]).\n",
        " - __setitem__(self, key, value)\n",
        "  → Defines behaviour for assignment (obj[key] = value).\n",
        "\n",
        "- Context Managers(with with statement)\n",
        " - __enter__(self)→ Called when entering a with block.\n",
        " - __exit__(self, exc_type, exc_val,exc_tb)→Called when exiting a with block."
      ]
    },
    {
      "cell_type": "code",
      "execution_count": null,
      "metadata": {
        "colab": {
          "base_uri": "https://localhost:8080/"
        },
        "id": "IJLpOld3tvvP",
        "outputId": "4b109e03-627b-4565-f9e9-aef47c4a712d"
      },
      "outputs": [
        {
          "name": "stdout",
          "output_type": "stream",
          "text": [
            "' python Tricks' by Dan Bader\n",
            "14\n",
            "True\n"
          ]
        }
      ],
      "source": [
        "class Book:\n",
        "    def __init__(self, title, author):\n",
        "        self.title = title\n",
        "        self.author = author\n",
        "\n",
        "    def __str__(self):\n",
        "        return f\"'{self.title}' by {self.author}\"\n",
        "\n",
        "    def __len__(self):\n",
        "        return len(self.title)\n",
        "\n",
        "    def __eq__(self, other):\n",
        "        return self.title == other.title and self.author == other.author\n",
        "\n",
        "book1 = Book(\" python Tricks\", \"Dan Bader\")\n",
        "book2 = Book(\" python Tricks\", \"Dan Bader\")\n",
        "\n",
        "\n",
        "print(book1)\n",
        "print(len(book1))\n",
        "print(book1 == book2)"
      ]
    },
    {
      "cell_type": "markdown",
      "metadata": {
        "id": "4omerFGx6ZnL"
      },
      "source": [
        "6. Explain the concept of inheritance in OOP?\n",
        "\n",
        "Inheritance is a fundamental concept in OOP that allows a class (child/subclass) to inherit properties and behaviours (methods) from another class (parent / superclass). This promotes code reusability and establishes a hierarchical relationship between Classes.\n",
        "\n",
        "\n",
        "Type of Inheritance:\n",
        "\n",
        "- Single Inheritance - A subclass inherits from one superclass.\n",
        "\n",
        "- Multiple Inheritance - A subclass inherits from multiple superclasses (supported in Python C++ but not in Java).\n",
        "\n",
        "- Hierarchical Inheritance - Multiple subclasses inherit from one superclass.\n",
        "\n",
        "- Hybrid Inheritance - A mix of two or more inheritance types."
      ]
    },
    {
      "cell_type": "code",
      "execution_count": null,
      "metadata": {
        "colab": {
          "base_uri": "https://localhost:8080/"
        },
        "id": "x4BoxHCVqrHD",
        "outputId": "336da543-2201-40d0-c5cb-a0c3fde46e8a"
      },
      "outputs": [
        {
          "name": "stdout",
          "output_type": "stream",
          "text": [
            "Animal speaks\n",
            "Dog barks\n"
          ]
        }
      ],
      "source": [
        "class Animal:\n",
        "    def speak(self):\n",
        "        print(\"Animal speaks\")\n",
        "\n",
        "\n",
        "class Dog(Animal):\n",
        "    def bark(self):\n",
        "        print(\"Dog barks\")\n",
        "\n",
        "dog = Dog()\n",
        "dog.speak()\n",
        "dog.bark()"
      ]
    },
    {
      "cell_type": "markdown",
      "metadata": {
        "id": "9OvRwqNl7E9u"
      },
      "source": []
    },
    {
      "cell_type": "markdown",
      "metadata": {
        "id": "U1Nukebb6iuJ"
      },
      "source": [
        "7. What is polymorphism in OOP?\n",
        "\n",
        "Polymorphism is a core OOP concept that allows objects of different classes to be treated as object of a common super class. It enables one interface with multiple implementations, making code more flexible and scalable."
      ]
    },
    {
      "cell_type": "markdown",
      "metadata": {
        "id": "wTg4Qybx6rBG"
      },
      "source": [
        "8. How is encapsulation achieved in Python?\n",
        "\n",
        "\n",
        "Python uses naming conventions and property decorators to enforce encapsulations since it doesn't have strict access modifiers like Java class C++.\n",
        "\n",
        "- Protected Members (Single Underscore _)\n",
        "\n",
        "- convention: A hint that a variable/method should not be accessed directly."
      ]
    },
    {
      "cell_type": "code",
      "execution_count": null,
      "metadata": {
        "colab": {
          "base_uri": "https://localhost:8080/"
        },
        "id": "32Z7vq7_tFaw",
        "outputId": "d4498767-d6e0-4ee2-a995-0570f24d0f85"
      },
      "outputs": [
        {
          "name": "stdout",
          "output_type": "stream",
          "text": [
            "1000\n"
          ]
        }
      ],
      "source": [
        "class BankAccount:\n",
        "    def __init__(self, balance):\n",
        "        self._balance = balance\n",
        "\n",
        "\n",
        "account = BankAccount(1000)\n",
        "print(account._balance)"
      ]
    },
    {
      "cell_type": "markdown",
      "metadata": {
        "id": "aBhqqNq_tjyI"
      },
      "source": [
        "Private Members (Double Underscore __)\n",
        "\n",
        "- Name Mangling: Python renamed __var to _ ClassName__var to make it harder to access."
      ]
    },
    {
      "cell_type": "code",
      "execution_count": null,
      "metadata": {
        "colab": {
          "base_uri": "https://localhost:8080/"
        },
        "id": "p63s8HP2u3yq",
        "outputId": "465d6668-f41c-4a5a-bc19-b248f48edb41"
      },
      "outputs": [
        {
          "name": "stdout",
          "output_type": "stream",
          "text": [
            "1000\n"
          ]
        }
      ],
      "source": [
        "class BankAccount:\n",
        "    def __init__(self, balance):\n",
        "        self.__balance = balance\n",
        "\n",
        "account = BankAccount(1000)\n",
        "\n",
        "print(account._BankAccount__balance)"
      ]
    },
    {
      "cell_type": "markdown",
      "metadata": {
        "id": "luAoaRhF690-"
      },
      "source": [
        "9. What is constructor in python?\n",
        "\n",
        "A constructor is a special methods in a class that is automatically called when an object is created. It initialises the objects attributes and perform setups tasks."
      ]
    },
    {
      "cell_type": "code",
      "execution_count": null,
      "metadata": {
        "colab": {
          "base_uri": "https://localhost:8080/"
        },
        "id": "C5AMBGRMwp61",
        "outputId": "d6e0187c-e473-4ebc-dac0-e1488b10903e"
      },
      "outputs": [
        {
          "name": "stdout",
          "output_type": "stream",
          "text": [
            "Toyata\n",
            "Unknown\n"
          ]
        }
      ],
      "source": [
        "class Car:\n",
        "    def __init__(self, brand=\"Unknown\", year=0):\n",
        "        self.brand = brand\n",
        "        self.year = year\n",
        "\n",
        "car1 = Car(\"Toyata\", 2020)\n",
        "car2 = Car()\n",
        "print(car1.brand)\n",
        "print(car2.brand)"
      ]
    },
    {
      "cell_type": "markdown",
      "metadata": {
        "id": "NPXAkT3g7GII"
      },
      "source": [
        "10. What are class and static methods in python?\n",
        "\n",
        "- Class Methods\n",
        " - Bound to the class (not the instance).\n",
        " - Take cls (class reference) as the first argument.\n",
        " - Use cases: Factory methods, alternative constructors, class-level operation."
      ]
    },
    {
      "cell_type": "code",
      "execution_count": null,
      "metadata": {
        "colab": {
          "base_uri": "https://localhost:8080/"
        },
        "id": "-Fg5VIo8yT-4",
        "outputId": "219c9748-b071-4818-a1eb-7f8dc99b0558"
      },
      "outputs": [
        {
          "name": "stdout",
          "output_type": "stream",
          "text": [
            "34\n"
          ]
        }
      ],
      "source": [
        "class Person:\n",
        "    def __init__(self, name, age):\n",
        "        self.name = name\n",
        "        self.age = age\n",
        "\n",
        "    @classmethod\n",
        "    def from_birth_year(cls, name, birth_year):\n",
        "        age = 2024 - birth_year\n",
        "        return cls(name, age)\n",
        "\n",
        "p1 = Person.from_birth_year(\"Alice\", 1990)\n",
        "print(p1.age)"
      ]
    },
    {
      "cell_type": "markdown",
      "metadata": {
        "id": "lp1r4Em96JHe"
      },
      "source": [
        "- Static Methods\n",
        " - Not bound to class or instance (no self or cls).\n",
        " - Acts like a regular function but belongs to the class's namespace.\n",
        " - Use cases: Utility/helper functions related to the class."
      ]
    },
    {
      "cell_type": "code",
      "execution_count": null,
      "metadata": {
        "colab": {
          "base_uri": "https://localhost:8080/"
        },
        "id": "MIq-PQQJ6zdD",
        "outputId": "0fe02d9c-7546-4dcc-bd98-473059accf3a"
      },
      "outputs": [
        {
          "name": "stdout",
          "output_type": "stream",
          "text": [
            "8\n"
          ]
        }
      ],
      "source": [
        "class Math0perations:\n",
        "    @staticmethod\n",
        "    def add(a, b):\n",
        "        return a + b\n",
        "\n",
        "\n",
        "result = Math0perations.add(5, 3)\n",
        "print(result)"
      ]
    },
    {
      "cell_type": "markdown",
      "metadata": {
        "id": "CdmoIF6v7TVz"
      },
      "source": [
        "11. What is method overloading in python?\n",
        "\n",
        "\n",
        "Method overloading is the ability to define multiple methods with the same name but different parameters in a class. However, Python does not support methods  overloading in the same way as language like Java or C++."
      ]
    },
    {
      "cell_type": "markdown",
      "metadata": {
        "id": "Kq-nxgLW7aWe"
      },
      "source": [
        "12. What is method overriding in python\n",
        "\n",
        "Method overriding is an object-oriented programming concept where a subclass provides a specific implementation of a method that is already defined in its parent class. This allows the subclass to modify or extend the behaviour of the inherited method.\n",
        "\n",
        "Key Characteristics of Method Overriding\n",
        "\n",
        "- Same Method Signature: The overriding method is a child class must have the same name  and the parameter as a method in the parent class.\n",
        "\n",
        "- Inheritance Requirement: Method overriding only works in inheritance relationship.\n",
        "\n",
        "- Runtime Polymorphism: The version of the method that gets executed is determined at run time based on the object's type."
      ]
    },
    {
      "cell_type": "code",
      "execution_count": null,
      "metadata": {
        "colab": {
          "base_uri": "https://localhost:8080/"
        },
        "id": "cBR1wgi-oMZq",
        "outputId": "e0a75e22-8a43-417d-db8d-06be8e2fd04c"
      },
      "outputs": [
        {
          "name": "stdout",
          "output_type": "stream",
          "text": [
            "Parent's show method\n",
            "Child's show method\n"
          ]
        }
      ],
      "source": [
        "class Parent:\n",
        "    def show(self):\n",
        "        print(\"Parent's show method\")\n",
        "\n",
        "class Child (Parent):\n",
        "    def show(self):\n",
        "        print(\"Child's show method\")\n",
        "\n",
        "parent_obj = Parent()\n",
        "child_obj = Child()\n",
        "\n",
        "parent_obj.show()\n",
        "child_obj.show()"
      ]
    },
    {
      "cell_type": "markdown",
      "metadata": {
        "id": "xQZqaTJk7lhO"
      },
      "source": [
        "13. What is property decorator in python?\n",
        "\n",
        "The property decorator is a built-in decorator in Python that allows you to define methods that can be accessed like attributes, while maintaining control over getting, setting, and deleting values. It's part of pythons description protocol and provides and elegant way to implement managed attributes."
      ]
    },
    {
      "cell_type": "code",
      "execution_count": null,
      "metadata": {
        "id": "2DnzSKsxqTbg"
      },
      "outputs": [],
      "source": [
        "class Circle:\n",
        "    def __init__(self, radius):\n",
        "        self._radius = radius\n",
        "\n",
        "    @property\n",
        "    def radius(self):\n",
        "        \"\"\"Getter method for radius\"\"\"\n",
        "        return self._radius\n",
        "\n",
        "    @radius.setter\n",
        "    def radius(self, value):\n",
        "        \"\"\"Setter method for radius\"\"\"\n",
        "        if value < 0:\n",
        "            raise ValueError(\"Radius cannot be negative\")\n",
        "        self._radius = value\n",
        "\n",
        "    @property\n",
        "    def area(self):\n",
        "        \"\"\"Read-only property (no setter defined)\"\"\"\n",
        "        return 3.14159 * self._radius ** 2"
      ]
    },
    {
      "cell_type": "markdown",
      "metadata": {
        "id": "3Fz5Uwnl7sGT"
      },
      "source": [
        "14. Why is polymorphism important in OOP?\n",
        "\n",
        "\n",
        "Polymorphism is one of the four fundamental principle of OOP along with and encapsulation, inheritance and abstraction), and it's critically important for several reasons:\n",
        "\n",
        "\n",
        "###Code Flexibility and Extendibility\n",
        "\n",
        "Polymorphism allows you to write code that can work with object of different classes to a common interface this makes your code:\n",
        "\n",
        "\n",
        "- More flexible\n",
        "- Easier to extend\n",
        "- More maintainable"
      ]
    },
    {
      "cell_type": "code",
      "execution_count": null,
      "metadata": {
        "colab": {
          "background_save": true
        },
        "id": "0GejLLv3t5MD",
        "outputId": "265ae8a2-1dd0-4250-8c6c-b7c09863d824"
      },
      "outputs": [
        {
          "name": "stdout",
          "output_type": "stream",
          "text": [
            "Woof!\n"
          ]
        },
        {
          "ename": "NameError",
          "evalue": "name 'cat' is not defined",
          "output_type": "error",
          "traceback": [
            "\u001b[0;31m---------------------------------------------------------------------------\u001b[0m",
            "\u001b[0;31mNameError\u001b[0m                                 Traceback (most recent call last)",
            "\u001b[0;32m<ipython-input-3-b2a766734478>\u001b[0m in \u001b[0;36m<cell line: 0>\u001b[0;34m()\u001b[0m\n\u001b[1;32m     16\u001b[0m \u001b[0;34m\u001b[0m\u001b[0m\n\u001b[1;32m     17\u001b[0m \u001b[0manimal_sound\u001b[0m\u001b[0;34m(\u001b[0m\u001b[0mDog\u001b[0m\u001b[0;34m(\u001b[0m\u001b[0;34m)\u001b[0m\u001b[0;34m)\u001b[0m\u001b[0;34m\u001b[0m\u001b[0;34m\u001b[0m\u001b[0m\n\u001b[0;32m---> 18\u001b[0;31m \u001b[0manimal_sound\u001b[0m\u001b[0;34m(\u001b[0m\u001b[0mcat\u001b[0m\u001b[0;34m(\u001b[0m\u001b[0;34m)\u001b[0m\u001b[0;34m)\u001b[0m\u001b[0;34m\u001b[0m\u001b[0;34m\u001b[0m\u001b[0m\n\u001b[0m",
            "\u001b[0;31mNameError\u001b[0m: name 'cat' is not defined"
          ]
        }
      ],
      "source": [
        "class Animal:\n",
        "    def speak(self):\n",
        "        pass\n",
        "\n",
        "class Dog(Animal):\n",
        "    def speak(self):\n",
        "        return \"Woof!\"\n",
        "\n",
        "class Cat(Animal):\n",
        "    def speak(self):\n",
        "        return \"Meow!\"\n",
        "\n",
        "def animal_sound(animal: Animal):\n",
        "    print(animal.speak"
      ]
    },
    {
      "cell_type": "markdown",
      "metadata": {
        "id": "AmCJmFud70l8"
      },
      "source": [
        "15. What is abstract class in python?\n",
        "\n",
        "An abstract class is a class that cannot be instantiated and is designed to be inherited by subclasses. It and forces method definition in child classes acting as a blueprint."
      ]
    },
    {
      "cell_type": "code",
      "execution_count": null,
      "metadata": {
        "colab": {
          "base_uri": "https://localhost:8080/",
          "height": 471
        },
        "id": "Xn-GHvnoAtFg",
        "outputId": "a400556b-2069-4744-d1db-a7545aed4f1c"
      },
      "outputs": [
        {
          "ename": "NameError",
          "evalue": "name 'abstarctmethod' is not defined",
          "output_type": "error",
          "traceback": [
            "\u001b[0;31m---------------------------------------------------------------------------\u001b[0m",
            "\u001b[0;31mNameError\u001b[0m                                 Traceback (most recent call last)",
            "\u001b[0;32m<ipython-input-4-2944945d6789>\u001b[0m in \u001b[0;36m<cell line: 0>\u001b[0;34m()\u001b[0m\n\u001b[1;32m      1\u001b[0m \u001b[0;32mfrom\u001b[0m \u001b[0mabc\u001b[0m \u001b[0;32mimport\u001b[0m \u001b[0mABC\u001b[0m\u001b[0;34m,\u001b[0m \u001b[0mabstractmethod\u001b[0m\u001b[0;34m\u001b[0m\u001b[0;34m\u001b[0m\u001b[0m\n\u001b[1;32m      2\u001b[0m \u001b[0;34m\u001b[0m\u001b[0m\n\u001b[0;32m----> 3\u001b[0;31m \u001b[0;32mclass\u001b[0m \u001b[0mShape\u001b[0m\u001b[0;34m(\u001b[0m\u001b[0mABC\u001b[0m\u001b[0;34m)\u001b[0m\u001b[0;34m:\u001b[0m\u001b[0;34m\u001b[0m\u001b[0;34m\u001b[0m\u001b[0m\n\u001b[0m\u001b[1;32m      4\u001b[0m     \u001b[0;34m@\u001b[0m\u001b[0mabstarctmethod\u001b[0m\u001b[0;34m\u001b[0m\u001b[0;34m\u001b[0m\u001b[0m\n\u001b[1;32m      5\u001b[0m     \u001b[0;32mdef\u001b[0m \u001b[0marea\u001b[0m\u001b[0;34m(\u001b[0m\u001b[0mself\u001b[0m\u001b[0;34m)\u001b[0m\u001b[0;34m:\u001b[0m\u001b[0;34m\u001b[0m\u001b[0;34m\u001b[0m\u001b[0m\n",
            "\u001b[0;32m<ipython-input-4-2944945d6789>\u001b[0m in \u001b[0;36mShape\u001b[0;34m()\u001b[0m\n\u001b[1;32m      2\u001b[0m \u001b[0;34m\u001b[0m\u001b[0m\n\u001b[1;32m      3\u001b[0m \u001b[0;32mclass\u001b[0m \u001b[0mShape\u001b[0m\u001b[0;34m(\u001b[0m\u001b[0mABC\u001b[0m\u001b[0;34m)\u001b[0m\u001b[0;34m:\u001b[0m\u001b[0;34m\u001b[0m\u001b[0;34m\u001b[0m\u001b[0m\n\u001b[0;32m----> 4\u001b[0;31m     \u001b[0;34m@\u001b[0m\u001b[0mabstarctmethod\u001b[0m\u001b[0;34m\u001b[0m\u001b[0;34m\u001b[0m\u001b[0m\n\u001b[0m\u001b[1;32m      5\u001b[0m     \u001b[0;32mdef\u001b[0m \u001b[0marea\u001b[0m\u001b[0;34m(\u001b[0m\u001b[0mself\u001b[0m\u001b[0;34m)\u001b[0m\u001b[0;34m:\u001b[0m\u001b[0;34m\u001b[0m\u001b[0;34m\u001b[0m\u001b[0m\n\u001b[1;32m      6\u001b[0m         \u001b[0;32mpass\u001b[0m\u001b[0;34m\u001b[0m\u001b[0;34m\u001b[0m\u001b[0m\n",
            "\u001b[0;31mNameError\u001b[0m: name 'abstarctmethod' is not defined"
          ]
        }
      ],
      "source": [
        "from abc import ABC, abstractmethod\n",
        "\n",
        "class Shape(ABC):\n",
        "    @abstarctmethod\n",
        "    def area(self):\n",
        "        pass\n",
        "\n",
        "    @abstarctmethod\n",
        "    def perimeter(self):\n",
        "        pass"
      ]
    },
    {
      "cell_type": "markdown",
      "metadata": {
        "id": "4qaDpbEo758Y"
      },
      "source": [
        "16. What are the advantages of OOP?\n",
        "\n",
        "### Modularity and Reusability\n",
        "\n",
        "- Modularity: code is organised into classes and object, making it easier to manage and maintain.\n",
        "\n",
        "- Reusability: classes can be inherited and reused in different projects reducing redundancy"
      ]
    },
    {
      "cell_type": "code",
      "execution_count": null,
      "metadata": {
        "id": "bTr_-FVSCwof"
      },
      "outputs": [],
      "source": [
        "class Animal:\n",
        "    def speak(self):\n",
        "        pass\n",
        "\n",
        "class Dog(Animal):\n",
        "    def speak(self):\n",
        "        return \"Woof!\""
      ]
    },
    {
      "cell_type": "markdown",
      "metadata": {
        "id": "fIuMD4GWDKLR"
      },
      "source": [
        "###Encapsulation\n",
        "- Security: Internal data is protected from unintended modification.\n",
        "- Controlled Access: Getters and Setters manage how data is accessed/ modified."
      ]
    },
    {
      "cell_type": "code",
      "execution_count": null,
      "metadata": {
        "id": "rS0uC1dnDmD0"
      },
      "outputs": [],
      "source": [
        "class BankAccount:\n",
        "    def __init__(self, balance):\n",
        "        self._balance = balance\n",
        "\n",
        "    def get_balance(self):\n",
        "        return self._balance"
      ]
    },
    {
      "cell_type": "markdown",
      "metadata": {
        "id": "z1K2Y6uMEAgv"
      },
      "source": [
        "###Inheritance (Code Extensibility)\n",
        "\n",
        "- Avoids Code Duplication: Child classes inherit properties and methods from parent classes.\n",
        "\n",
        "- Supports Polymorphism: Enables method overriding for dynamic behaviour"
      ]
    },
    {
      "cell_type": "code",
      "execution_count": null,
      "metadata": {
        "id": "0t1dXoIuEfCH"
      },
      "outputs": [],
      "source": [
        "class Vehicle:\n",
        "    def move(self):\n",
        "        print(\"moving...\")\n",
        "\n",
        "class Car(Vehicle):\n",
        "    def move(self):\n",
        "        print(\"Driving a car!\")"
      ]
    },
    {
      "cell_type": "markdown",
      "metadata": {
        "id": "LBYLj8Bc8AHj"
      },
      "source": [
        "17. What is the difference between a class variable and an instance variable?\n",
        "\n",
        "### Class Variables\n",
        "\n",
        "Class variables are shared among all instances of a class. They are defined within the class but outside any method, and modifying them affects every object of that class.\n",
        "\n",
        "### Instance Variables\n",
        "\n",
        "Instance variables are unique to each object. They are defined inside methods typically __init__  and store data specific to individual instance. Changing and instance variable only affects that particular object."
      ]
    },
    {
      "cell_type": "markdown",
      "metadata": {
        "id": "mF29C7dj8NC9"
      },
      "source": [
        "18. What is multiple inheritance in python?\n",
        "\n",
        "Multiple inheritance is a feature in Python where a class can inherit from more than one parent class, combining their attributes and methods. This allow a child class to reuse an extend functionality from multiple sources."
      ]
    },
    {
      "cell_type": "code",
      "execution_count": null,
      "metadata": {
        "colab": {
          "base_uri": "https://localhost:8080/"
        },
        "id": "n0FSC5N9G7IM",
        "outputId": "913baf1c-fb15-4bfb-dd7f-5911cc4460e1"
      },
      "outputs": [
        {
          "name": "stdout",
          "output_type": "stream",
          "text": [
            "Engine started\n",
            "Battery charging\n"
          ]
        }
      ],
      "source": [
        "class Engine:\n",
        "    def start(self):\n",
        "        print(\"Engine started\")\n",
        "\n",
        "class ElectricMotor:\n",
        "    def charge(self):\n",
        "        print(\"Battery charging\")\n",
        "\n",
        "class HybridCar(Engine, ElectricMotor):\n",
        "    pass\n",
        "\n",
        "hybrid = HybridCar()\n",
        "hybrid.start()\n",
        "hybrid.charge()"
      ]
    },
    {
      "cell_type": "markdown",
      "metadata": {
        "id": "sGTonP1j8Wsu"
      },
      "source": [
        "19. Explain the purpose of\"_ _str_ _ 'and' _ _ repr_ _\" methods in python?\n",
        "\n",
        "\n",
        "Both __str__ and __repr__ are special methods in python used to represent objects as string, but they serve different purposes:\n",
        "\n",
        "###__str__(Readable Representation)\n",
        "\n",
        "Purpose: Provide se user-friendly informal sting representation of an object.\n",
        "\n",
        "Used by: print(), str(), and f-strings"
      ]
    },
    {
      "cell_type": "code",
      "execution_count": null,
      "metadata": {
        "colab": {
          "base_uri": "https://localhost:8080/"
        },
        "id": "by43bSh-JcM8",
        "outputId": "d3d7c9f2-5f03-4fe0-9eaf-b00c1e243fec"
      },
      "outputs": [
        {
          "name": "stdout",
          "output_type": "stream",
          "text": [
            "Person(name='Alice', age=25)\n"
          ]
        }
      ],
      "source": [
        "class Person:\n",
        "    def __init__(self, name, age):\n",
        "        self.name = name\n",
        "        self.age = age\n",
        "\n",
        "    def __str__(self):\n",
        "        return f\"Person(name='{self.name}', age={self.age})\"\n",
        "\n",
        "p = Person(\"Alice\", 25)\n",
        "print(p)"
      ]
    },
    {
      "cell_type": "markdown",
      "metadata": {
        "id": "s1Aea0eYKj23"
      },
      "source": [
        "###__repr__(Unambiguous Representation)\n",
        "\n",
        "- Purpose: Provides a formal, unambiguous string representation.\n",
        "- Used by: The REPL, repr(), and when __str__ is missing"
      ]
    },
    {
      "cell_type": "code",
      "execution_count": null,
      "metadata": {
        "colab": {
          "base_uri": "https://localhost:8080/",
          "height": 53
        },
        "id": "a74mxxL-LASW",
        "outputId": "3c7b63dd-4a2f-4079-8f92-3cbbe46b47d4"
      },
      "outputs": [
        {
          "data": {
            "application/vnd.google.colaboratory.intrinsic+json": {
              "type": "string"
            },
            "text/plain": [
              "'<__main__.Person object at 0x7b449c70ee90>'"
            ]
          },
          "execution_count": 12,
          "metadata": {},
          "output_type": "execute_result"
        }
      ],
      "source": [
        "class Person:\n",
        "    def __init__(self, name, age):\n",
        "        self.name = name\n",
        "        self.age = age\n",
        "\n",
        "    def __rept__(self):\n",
        "        return f\"Person(name='{self.name}', age={self.age})\"\n",
        "\n",
        "p = Person(\"Alice\", 25)\n",
        "repr(p)"
      ]
    },
    {
      "cell_type": "markdown",
      "metadata": {
        "id": "AYcGGte58vbp"
      },
      "source": [
        "20. What is the significance of the 'super()'function in python?\n",
        "\n",
        "In Python, the super () function is used to call methods from a parent class in inheritance hierarchies. It place a crucial role in object-oriented programming by enabling:\n",
        "\n",
        "- Accessing Parent Class Methods\n",
        " - It allows a child class to call methods (including __init__ )from its parent class.\n",
        " - Ensures proper initialisation and method overriding.\n",
        "\n",
        "- Avoiding Hardcoding Parent Class Names\n",
        " - Instead of using ParentClass. method (self), you use super, making code more maintainable"
      ]
    },
    {
      "cell_type": "code",
      "execution_count": null,
      "metadata": {
        "colab": {
          "base_uri": "https://localhost:8080/"
        },
        "id": "ZKDVX3vxYj3o",
        "outputId": "6f6997a0-8f6d-4e72-9d29-e894e9e50ddc"
      },
      "outputs": [
        {
          "name": "stdout",
          "output_type": "stream",
          "text": [
            "parent init\n",
            "Child init\n"
          ]
        }
      ],
      "source": [
        "class Parent:\n",
        "    def __init__(self):\n",
        "        print(\"parent init\")\n",
        "\n",
        "class Child(Parent):\n",
        "    def __init__(self):\n",
        "        super().__init__()\n",
        "        print(\"Child init\")\n",
        "obj = Child()"
      ]
    },
    {
      "cell_type": "markdown",
      "metadata": {
        "id": "0PpZH9ZvZgzE"
      },
      "source": [
        "21. What is the significance of the __del__ method in python?\n",
        "\n",
        "\n",
        "The __del__method is a destructor in Python invoked when an object is about to be destroyed. It allows used to define clean up actions such as closing files releasing resources or logging object deletion.\n",
        "\n",
        "\n",
        "###Basic Usage of del\n",
        " - Called automatically when an object's reference count drops to zero.\n",
        " - Not guaranteed to run immediately"
      ]
    },
    {
      "cell_type": "code",
      "execution_count": null,
      "metadata": {
        "colab": {
          "base_uri": "https://localhost:8080/"
        },
        "id": "Rsn5mgPlghXI",
        "outputId": "0dd5304a-3da1-4e22-c221-004cd16673ff"
      },
      "outputs": [
        {
          "name": "stdout",
          "output_type": "stream",
          "text": [
            "Object destroyed!\n"
          ]
        }
      ],
      "source": [
        "class Example:\n",
        "    def __del__(self):\n",
        "        print(\"Object destroyed!\")\n",
        "\n",
        "obj = Example()\n",
        "del obj"
      ]
    },
    {
      "cell_type": "markdown",
      "metadata": {
        "id": "JgzLFrerZ_8s"
      },
      "source": [
        "22. What is the difference between @ statistical method and @ class method in Python?\n",
        "\n",
        "\n",
        "### @staticmethod\n",
        "- No implicit arguments: Takes neither the class(cls) not the instance (self) as a parameter.\n",
        "\n",
        "- Independent of class/instance: Behaves like a regular function but belongs to the class's namespace.\n",
        "\n",
        "- Use case: For utility functions that don't need access to class or instance state."
      ]
    },
    {
      "cell_type": "code",
      "execution_count": null,
      "metadata": {
        "colab": {
          "base_uri": "https://localhost:8080/"
        },
        "id": "y6OtEjeDh62r",
        "outputId": "0dc77540-055e-4638-bbe4-28e9bfd0181b"
      },
      "outputs": [
        {
          "name": "stdout",
          "output_type": "stream",
          "text": [
            "8\n"
          ]
        }
      ],
      "source": [
        "class MathUtils:\n",
        "    @staticmethod\n",
        "    def add(a, b):\n",
        "        return a + b\n",
        "\n",
        "print(MathUtils.add(5, 3))"
      ]
    },
    {
      "cell_type": "markdown",
      "metadata": {
        "id": "Z122UDfVipJh"
      },
      "source": [
        "### @classmethod\n",
        "- Takes cls as first argument: Refers to the class.\n",
        "- Can modify class state: Can access and modify class-level attributes.\n",
        "- Use case: Factory methods, alternate constructors, or methods that need class- level data."
      ]
    },
    {
      "cell_type": "code",
      "execution_count": null,
      "metadata": {
        "colab": {
          "base_uri": "https://localhost:8080/"
        },
        "id": "Wzoh0fJaja7A",
        "outputId": "21cb6158-e0e7-4dd8-e5c9-7ccd2aa506cd"
      },
      "outputs": [
        {
          "name": "stdout",
          "output_type": "stream",
          "text": [
            "34\n"
          ]
        }
      ],
      "source": [
        "class Person:\n",
        "    def __init__(self, name, age):\n",
        "        self.name = name\n",
        "        self.age = age\n",
        "\n",
        "    @classmethod\n",
        "    def from_birth_year(cls, name, birth_year):\n",
        "        age = 2024 - birth_year\n",
        "        return cls(name, age)\n",
        "\n",
        "p1 = Person.from_birth_year(\"Alice\", 1990)\n",
        "print(p1.age)"
      ]
    },
    {
      "cell_type": "markdown",
      "metadata": {
        "id": "VZakyZMnaGix"
      },
      "source": [
        "23. How does polymorphism work in Python with inheritance?\n",
        "\n",
        "Polymorphism allows object of different classes to be treated as object of a common super class. In Python polymer of ISM work with inheritance by Latin sub classes override or extend method from the parent class enabling different behaviours bad maintaining a consistent interface.\n",
        "\n",
        "\n",
        "###Polymorphism Via Method Overriding\n",
        "\n",
        "When a child class redefines a method from its parent class, Python uses the child's version of the method when called on a child object."
      ]
    },
    {
      "cell_type": "code",
      "execution_count": null,
      "metadata": {
        "colab": {
          "base_uri": "https://localhost:8080/"
        },
        "id": "h0NbVihsebsB",
        "outputId": "b6ef7bca-2187-40f8-f8b6-9b092ecd532e"
      },
      "outputs": [
        {
          "name": "stdout",
          "output_type": "stream",
          "text": [
            "Parent's show method\n",
            "Child's show method\n"
          ]
        }
      ],
      "source": [
        "class Parent:\n",
        "    def show(self):\n",
        "        print(\"Parent's show method\")\n",
        "\n",
        "class Child (Parent):\n",
        "    def show(self):\n",
        "        print(\"Child's show method\")\n",
        "\n",
        "parent_obj = Parent()\n",
        "child_obj = Child()\n",
        "\n",
        "parent_obj.show()\n",
        "child_obj.show()"
      ]
    },
    {
      "cell_type": "markdown",
      "metadata": {
        "id": "h5iC1Y-XemzQ"
      },
      "source": [
        "### Polymorphism With Built-in Methods\n",
        "\n",
        "Python's built-in function (e.g., len(), str(), rely on polymorphism by calling special methods like __len__() or __str__()."
      ]
    },
    {
      "cell_type": "code",
      "execution_count": null,
      "metadata": {
        "colab": {
          "base_uri": "https://localhost:8080/"
        },
        "id": "3VORs7Tbflg2",
        "outputId": "ffc78da6-97a6-4ad5-80b6-acd599f6994b"
      },
      "outputs": [
        {
          "name": "stdout",
          "output_type": "stream",
          "text": [
            "' python Tricks' by Dan Bader\n",
            "14\n",
            "True\n"
          ]
        }
      ],
      "source": [
        "class Book:\n",
        "    def __init__(self, title, author):\n",
        "        self.title = title\n",
        "        self.author = author\n",
        "\n",
        "    def __str__(self):\n",
        "        return f\"'{self.title}' by {self.author}\"\n",
        "\n",
        "    def __len__(self):\n",
        "        return len(self.title)\n",
        "\n",
        "    def __eq__(self, other):\n",
        "        return self.title == other.title and self.author == other.author\n",
        "\n",
        "book1 = Book(\" python Tricks\", \"Dan Bader\")\n",
        "book2 = Book(\" python Tricks\", \"Dan Bader\")\n",
        "\n",
        "\n",
        "print(book1)\n",
        "print(len(book1))\n",
        "print(book1 == book2)"
      ]
    },
    {
      "cell_type": "markdown",
      "metadata": {
        "id": "TFOIBhQ2aJ8M"
      },
      "source": [
        "24. What is method chaining in Python OOP?\n",
        "\n",
        "Method chaining is a technique in object-oriented programming where multiple methods are called on an object in a single line, with each method returning the object itself to allow for the calls. This create a fluent and readable style of code."
      ]
    },
    {
      "cell_type": "markdown",
      "metadata": {
        "id": "IKrhd3tJaUOR"
      },
      "source": [
        "25. What is the purpose of the __call__method in python?\n",
        "\n",
        "In python, the __call__ method allows and instance of a class to be called like a function. When you define the __call__ method in a class, object of that class become callable meaning you can use them with parentheses () and optionally pass arguments.\n",
        "\n",
        "###Purpose of __call__:\n",
        "\n",
        "- Make Objects Act Like Functions\n",
        " - If an object has a __call__ method, you can in book it as if it were a function."
      ]
    },
    {
      "cell_type": "code",
      "execution_count": null,
      "metadata": {
        "colab": {
          "base_uri": "https://localhost:8080/"
        },
        "id": "LbgGJL4Kb1Im",
        "outputId": "e5fa8e5a-20cd-437f-93da-85785e02f61c"
      },
      "outputs": [
        {
          "name": "stdout",
          "output_type": "stream",
          "text": [
            "8\n"
          ]
        }
      ],
      "source": [
        "class Adder:\n",
        "    def __call__(self, a, b):\n",
        "        return a + b\n",
        "\n",
        "\n",
        "add = Adder()\n",
        "print(add(3, 5))"
      ]
    },
    {
      "cell_type": "markdown",
      "metadata": {
        "id": "uthZ89MEcO6B"
      },
      "source": [
        "### implement functor ( Objects That Behave Like Functions)\n",
        " - Useful in cases where you need configurable or stateful function.\n",
        " - example power function with configurable exponent"
      ]
    },
    {
      "cell_type": "code",
      "execution_count": null,
      "metadata": {
        "colab": {
          "base_uri": "https://localhost:8080/"
        },
        "id": "hEoAHexlcjJb",
        "outputId": "ce8ce3ee-e491-4676-8dc2-868e55159ccb"
      },
      "outputs": [
        {
          "name": "stdout",
          "output_type": "stream",
          "text": [
            "25\n"
          ]
        }
      ],
      "source": [
        "class Power:\n",
        "    def __init__(self, exponent):\n",
        "        self.exponent = exponent\n",
        "\n",
        "    def __call__(self, x):\n",
        "        return x ** self.exponent\n",
        "\n",
        "square = Power(2)\n",
        "print(square(5))"
      ]
    },
    {
      "cell_type": "markdown",
      "metadata": {
        "id": "PplcDEKDtPaw"
      },
      "source": [
        "###Practical Question"
      ]
    },
    {
      "cell_type": "markdown",
      "metadata": {
        "id": "OJheSo41tTNR"
      },
      "source": [
        "1. Create a parent class animal with a method speak () that prints a generic message. Created child class Dog that overrides the speak() method to print \"Bark!\""
      ]
    },
    {
      "cell_type": "code",
      "execution_count": null,
      "metadata": {
        "colab": {
          "base_uri": "https://localhost:8080/"
        },
        "id": "19AW8yhltvOk",
        "outputId": "37d12a62-9c19-448c-c24b-b495fff8a23c"
      },
      "outputs": [
        {
          "name": "stdout",
          "output_type": "stream",
          "text": [
            "This animal makes a sound\n",
            "Bark!\n"
          ]
        }
      ],
      "source": [
        "class Animal:\n",
        "    def speak(self):\n",
        "        print(\"This animal makes a sound\")\n",
        "\n",
        "class Dog(Animal):\n",
        "    def speak(self):\n",
        "        print(\"Bark!\")\n",
        "\n",
        "\n",
        "generic_animal = Animal()\n",
        "generic_animal.speak()\n",
        "\n",
        "my_dog = Dog()\n",
        "my_dog.speak()"
      ]
    },
    {
      "cell_type": "markdown",
      "metadata": {
        "id": "cB5bY4Zjtvj0"
      },
      "source": [
        "2. Write a program to create an abstract class shape with a method area(). Derive classes circle and rectangular from it and implement the area () method in both."
      ]
    },
    {
      "cell_type": "code",
      "execution_count": null,
      "metadata": {
        "colab": {
          "background_save": true
        },
        "id": "rvgypX3ot68N"
      },
      "outputs": [],
      "source": [
        "from abc import ABC, abstractmethod\n",
        "import math\n",
        "\n",
        "class Shape(ABC):\n",
        "    @abstractmethod\n",
        "    def area(self):\n",
        "        pass\n",
        "\n",
        "class Circle(Shape):\n",
        "    def __init__(self, radius):\n",
        "        self.radius = radius\n",
        "\n",
        "    def area(self):\n",
        "        return f\"Circle with radius {self, radius}\"\n",
        "\n",
        "class Rectangle(Shape):\n",
        "    def __init__(self, length, width):\n",
        "        self.length = length\n",
        "        self.widtg = width\n",
        "\n",
        "    def area(self):\n",
        "        return self.lengtg * self.width\n",
        "\n",
        "    def __str__(self):\n",
        "        return f\"Rectangle with length {self.length} and width {self.widtg}\"\n",
        "\n",
        "\n",
        "if __name__ == \" __main__\":\n",
        "\n",
        "    circle = Circle(5)\n",
        "    rectangle = Rectangle(4, 6)\n",
        "\n",
        "\n",
        "    shapes = [circle, rectangle]\n",
        "\n",
        "    for shape in shapes:\n",
        "        print(f\"{shape}: Area = {shape.area():.2f}\")"
      ]
    },
    {
      "cell_type": "markdown",
      "metadata": {
        "id": "CsM6M3jZt8hf"
      },
      "source": [
        "3. Implement a multi-level inheritance scenario where are class vehicle has an attribute type. Derive class car and for the derive a class electric car that adds a battery attribute."
      ]
    },
    {
      "cell_type": "code",
      "execution_count": null,
      "metadata": {
        "id": "serx75nMuE_q"
      },
      "outputs": [],
      "source": []
    },
    {
      "cell_type": "markdown",
      "metadata": {
        "id": "adJ11mtYuGc-"
      },
      "source": [
        "4. Demonstrate polymorphism by creating a base class Bird with a method fly(). Create two  derived classes sparrow and penguin that overwrite the fly() method."
      ]
    },
    {
      "cell_type": "code",
      "execution_count": null,
      "metadata": {
        "id": "2-z-M7yL1lgp"
      },
      "outputs": [],
      "source": []
    },
    {
      "cell_type": "markdown",
      "metadata": {
        "id": "aRGvC4Ozugb3"
      },
      "source": [
        "5. Write a program to demonstrate encapsulation by creating a class bank account with private attributes balance and method to deposit, withdraw and check balance."
      ]
    },
    {
      "cell_type": "code",
      "execution_count": null,
      "metadata": {
        "id": "1GgljXIO1rzg"
      },
      "outputs": [],
      "source": []
    },
    {
      "cell_type": "markdown",
      "metadata": {
        "id": "m3X0nN1ouoNL"
      },
      "source": [
        "6. Demonstrate runtime polymorphism using a method play() in a base class instrument. Derived classes guitar and piano that implement their own version of Play ()."
      ]
    },
    {
      "cell_type": "code",
      "execution_count": null,
      "metadata": {
        "id": "_I3DmzJB1tc4"
      },
      "outputs": [],
      "source": []
    },
    {
      "cell_type": "markdown",
      "metadata": {
        "id": "RRQoK6sCu3Ss"
      },
      "source": [
        "7. Create a class MathOperations with a class method add_numbers() to add two numbers and a static method subtract_numbers() to subtract two numbers."
      ]
    },
    {
      "cell_type": "code",
      "execution_count": null,
      "metadata": {
        "id": "mH20osKj1ulU"
      },
      "outputs": [],
      "source": []
    },
    {
      "cell_type": "markdown",
      "metadata": {
        "id": "TyevZPXfvRGj"
      },
      "source": [
        "8. Implement a class Person with a class method to count the total number of person created."
      ]
    },
    {
      "cell_type": "code",
      "execution_count": null,
      "metadata": {
        "id": "0Ldz4mvq1vZc"
      },
      "outputs": [],
      "source": []
    },
    {
      "cell_type": "markdown",
      "metadata": {
        "id": "bii_9rtdvYYC"
      },
      "source": [
        "9. Write a class fraction with attributes numerator and denominator. Override the str method to display the fraction as \"numerator/denominator\"."
      ]
    },
    {
      "cell_type": "code",
      "execution_count": null,
      "metadata": {
        "id": "f-WGxpTR1wUl"
      },
      "outputs": [],
      "source": []
    },
    {
      "cell_type": "markdown",
      "metadata": {
        "id": "Q9pcB2kKvoRl"
      },
      "source": [
        "10. Demonstrate operator overloading by creating a class Vector and overriding the add method to add two vectors."
      ]
    },
    {
      "cell_type": "code",
      "execution_count": null,
      "metadata": {
        "id": "CEeUuOrQ1xOb"
      },
      "outputs": [],
      "source": []
    },
    {
      "cell_type": "markdown",
      "metadata": {
        "id": "zdZ0AMquv3n4"
      },
      "source": [
        "11. Create a class person with attributes name and age. Add a method greet() that prints \"Hello, my name is {name} and I am a {age} years old.\""
      ]
    },
    {
      "cell_type": "code",
      "execution_count": null,
      "metadata": {
        "id": "NTQZB9Lg1yGk"
      },
      "outputs": [],
      "source": []
    },
    {
      "cell_type": "markdown",
      "metadata": {
        "id": "DOo5p5Cmw_Jc"
      },
      "source": [
        "12. Implement a class student with attributes name and grades. Create a method average_grade() to compute the average of the grades."
      ]
    },
    {
      "cell_type": "code",
      "execution_count": null,
      "metadata": {
        "id": "a7m-bOva1y38"
      },
      "outputs": [],
      "source": []
    },
    {
      "cell_type": "markdown",
      "metadata": {
        "id": "FGWVxLfkxJbd"
      },
      "source": [
        "13. Create a class rectangle with method set_dimensions() to set the dimensions and area () to calculate the area."
      ]
    },
    {
      "cell_type": "code",
      "execution_count": null,
      "metadata": {
        "id": "HD0mGmbO1zsH"
      },
      "outputs": [],
      "source": []
    },
    {
      "cell_type": "markdown",
      "metadata": {
        "id": "WMVFFITjxXQS"
      },
      "source": [
        "14. Create a class Employee with a method calculate_salary() that computes the salary based on hours worked at hourly rate. Create a derived class Manager that adds a bonus to the salary."
      ]
    },
    {
      "cell_type": "code",
      "execution_count": null,
      "metadata": {
        "id": "LKJzdat910rI"
      },
      "outputs": [],
      "source": []
    },
    {
      "cell_type": "markdown",
      "metadata": {
        "id": "vnyhZGqrxp-O"
      },
      "source": [
        "15. Create a class product with attributes name, price, and quantity. Implement a method total_price() that calculate the total price of the product."
      ]
    },
    {
      "cell_type": "code",
      "execution_count": null,
      "metadata": {
        "id": "BK4YuRYe11hD"
      },
      "outputs": [],
      "source": []
    },
    {
      "cell_type": "markdown",
      "metadata": {
        "id": "iiK0Grl6QWko"
      },
      "source": [
        "16. create a class animal with an abstract method sound(). Create to derived classes cow and ship that implement the sound() method."
      ]
    },
    {
      "cell_type": "code",
      "execution_count": null,
      "metadata": {
        "id": "BoL5xcoe12ms"
      },
      "outputs": [],
      "source": []
    },
    {
      "cell_type": "markdown",
      "metadata": {
        "id": "kc14IpaUyWfr"
      },
      "source": [
        "17. Create a class book with attributes title, author and year_published. Add a method get_book_info () that returns a formatted string with the book's detail."
      ]
    },
    {
      "cell_type": "code",
      "execution_count": null,
      "metadata": {
        "id": "hnBnp3rM13VG"
      },
      "outputs": [],
      "source": []
    },
    {
      "cell_type": "markdown",
      "metadata": {
        "id": "DYCMEPJayqwE"
      },
      "source": [
        "18. Create a class House with attributes address and price. Create derived Mansion that adds on attributes number_of_rooms ."
      ]
    },
    {
      "cell_type": "code",
      "execution_count": null,
      "metadata": {
        "id": "UG2ZYiDV14Cg"
      },
      "outputs": [],
      "source": []
    }
  ],
  "metadata": {
    "colab": {
      "provenance": [],
      "authorship_tag": "ABX9TyPLvgpvTj5WPZF2k5Ix1J6s",
      "include_colab_link": true
    },
    "kernelspec": {
      "display_name": "Python 3",
      "name": "python3"
    },
    "language_info": {
      "name": "python"
    }
  },
  "nbformat": 4,
  "nbformat_minor": 0
}